{
 "cells": [
  {
   "cell_type": "markdown",
   "metadata": {},
   "source": [
    "### Importer les packages"
   ]
  },
  {
   "cell_type": "code",
   "execution_count": 131,
   "metadata": {},
   "outputs": [],
   "source": [
    "import pyforest \n",
    "from Utils import Remove \n",
    "import warnings\n",
    "warnings.filterwarnings('ignore')"
   ]
  },
  {
   "cell_type": "code",
   "execution_count": 132,
   "metadata": {},
   "outputs": [
    {
     "data": {
      "application/javascript": [
       "\n",
       "        if (window._pyforest_update_imports_cell) { window._pyforest_update_imports_cell('import numpy as np\\nimport pandas as pd\\nimport matplotlib.pyplot as plt'); }\n",
       "    "
      ],
      "text/plain": [
       "<IPython.core.display.Javascript object>"
      ]
     },
     "metadata": {},
     "output_type": "display_data"
    }
   ],
   "source": [
    "agriculture_data = pd.read_csv('data/agriculture_data.csv')"
   ]
  },
  {
   "cell_type": "code",
   "execution_count": 133,
   "metadata": {},
   "outputs": [
    {
     "data": {
      "text/html": [
       "<div>\n",
       "<style scoped>\n",
       "    .dataframe tbody tr th:only-of-type {\n",
       "        vertical-align: middle;\n",
       "    }\n",
       "\n",
       "    .dataframe tbody tr th {\n",
       "        vertical-align: top;\n",
       "    }\n",
       "\n",
       "    .dataframe thead th {\n",
       "        text-align: right;\n",
       "    }\n",
       "</style>\n",
       "<table border=\"1\" class=\"dataframe\">\n",
       "  <thead>\n",
       "    <tr style=\"text-align: right;\">\n",
       "      <th></th>\n",
       "      <th>Année</th>\n",
       "      <th>Region</th>\n",
       "      <th>Superficie_Sorgho</th>\n",
       "      <th>Superficie_Arachide</th>\n",
       "      <th>Superficie_Mais</th>\n",
       "      <th>Superficie_Manioc</th>\n",
       "      <th>Superficie_Coton</th>\n",
       "      <th>Superficie_Mil</th>\n",
       "      <th>Superficie_Niebe</th>\n",
       "      <th>Superficie_Riz</th>\n",
       "      <th>Somme_Superficie</th>\n",
       "    </tr>\n",
       "  </thead>\n",
       "  <tbody>\n",
       "    <tr>\n",
       "      <th>0</th>\n",
       "      <td>2001</td>\n",
       "      <td>DAKAR</td>\n",
       "      <td>801.000000</td>\n",
       "      <td>90</td>\n",
       "      <td>84.0</td>\n",
       "      <td>541.0</td>\n",
       "      <td>0.0</td>\n",
       "      <td>48.5</td>\n",
       "      <td>201.0</td>\n",
       "      <td>0.0</td>\n",
       "      <td>1765.500000</td>\n",
       "    </tr>\n",
       "    <tr>\n",
       "      <th>1</th>\n",
       "      <td>2002</td>\n",
       "      <td>DAKAR</td>\n",
       "      <td>247.133333</td>\n",
       "      <td>82</td>\n",
       "      <td>80.0</td>\n",
       "      <td>61.0</td>\n",
       "      <td>0.0</td>\n",
       "      <td>165.0</td>\n",
       "      <td>270.0</td>\n",
       "      <td>0.0</td>\n",
       "      <td>905.133333</td>\n",
       "    </tr>\n",
       "    <tr>\n",
       "      <th>2</th>\n",
       "      <td>2003</td>\n",
       "      <td>DAKAR</td>\n",
       "      <td>247.133333</td>\n",
       "      <td>145</td>\n",
       "      <td>510.0</td>\n",
       "      <td>101.0</td>\n",
       "      <td>0.0</td>\n",
       "      <td>22.0</td>\n",
       "      <td>154.0</td>\n",
       "      <td>0.0</td>\n",
       "      <td>1179.133333</td>\n",
       "    </tr>\n",
       "    <tr>\n",
       "      <th>3</th>\n",
       "      <td>2004</td>\n",
       "      <td>DAKAR</td>\n",
       "      <td>198.000000</td>\n",
       "      <td>84</td>\n",
       "      <td>250.0</td>\n",
       "      <td>178.0</td>\n",
       "      <td>0.0</td>\n",
       "      <td>37.0</td>\n",
       "      <td>410.0</td>\n",
       "      <td>0.0</td>\n",
       "      <td>1157.000000</td>\n",
       "    </tr>\n",
       "    <tr>\n",
       "      <th>4</th>\n",
       "      <td>2005</td>\n",
       "      <td>DAKAR</td>\n",
       "      <td>68.000000</td>\n",
       "      <td>775</td>\n",
       "      <td>600.0</td>\n",
       "      <td>665.0</td>\n",
       "      <td>0.0</td>\n",
       "      <td>10.0</td>\n",
       "      <td>1102.0</td>\n",
       "      <td>0.0</td>\n",
       "      <td>3220.000000</td>\n",
       "    </tr>\n",
       "  </tbody>\n",
       "</table>\n",
       "</div>"
      ],
      "text/plain": [
       "   Année Region  Superficie_Sorgho  Superficie_Arachide  Superficie_Mais  \\\n",
       "0   2001  DAKAR         801.000000                   90             84.0   \n",
       "1   2002  DAKAR         247.133333                   82             80.0   \n",
       "2   2003  DAKAR         247.133333                  145            510.0   \n",
       "3   2004  DAKAR         198.000000                   84            250.0   \n",
       "4   2005  DAKAR          68.000000                  775            600.0   \n",
       "\n",
       "   Superficie_Manioc  Superficie_Coton  Superficie_Mil  Superficie_Niebe  \\\n",
       "0              541.0               0.0            48.5             201.0   \n",
       "1               61.0               0.0           165.0             270.0   \n",
       "2              101.0               0.0            22.0             154.0   \n",
       "3              178.0               0.0            37.0             410.0   \n",
       "4              665.0               0.0            10.0            1102.0   \n",
       "\n",
       "   Superficie_Riz  Somme_Superficie  \n",
       "0             0.0       1765.500000  \n",
       "1             0.0        905.133333  \n",
       "2             0.0       1179.133333  \n",
       "3             0.0       1157.000000  \n",
       "4             0.0       3220.000000  "
      ]
     },
     "execution_count": 133,
     "metadata": {},
     "output_type": "execute_result"
    }
   ],
   "source": [
    "agriculture_data.head()"
   ]
  },
  {
   "cell_type": "markdown",
   "metadata": {},
   "source": [
    "### Exploration des données"
   ]
  },
  {
   "cell_type": "code",
   "execution_count": 134,
   "metadata": {},
   "outputs": [
    {
     "data": {
      "text/html": [
       "<div>\n",
       "<style scoped>\n",
       "    .dataframe tbody tr th:only-of-type {\n",
       "        vertical-align: middle;\n",
       "    }\n",
       "\n",
       "    .dataframe tbody tr th {\n",
       "        vertical-align: top;\n",
       "    }\n",
       "\n",
       "    .dataframe thead th {\n",
       "        text-align: right;\n",
       "    }\n",
       "</style>\n",
       "<table border=\"1\" class=\"dataframe\">\n",
       "  <thead>\n",
       "    <tr style=\"text-align: right;\">\n",
       "      <th></th>\n",
       "      <th>Année</th>\n",
       "      <th>Superficie_Sorgho</th>\n",
       "      <th>Superficie_Arachide</th>\n",
       "      <th>Superficie_Mais</th>\n",
       "      <th>Superficie_Manioc</th>\n",
       "      <th>Superficie_Coton</th>\n",
       "      <th>Superficie_Mil</th>\n",
       "      <th>Superficie_Niebe</th>\n",
       "      <th>Superficie_Riz</th>\n",
       "      <th>Somme_Superficie</th>\n",
       "    </tr>\n",
       "  </thead>\n",
       "  <tbody>\n",
       "    <tr>\n",
       "      <th>count</th>\n",
       "      <td>280.000000</td>\n",
       "      <td>280.000000</td>\n",
       "      <td>280.000000</td>\n",
       "      <td>280.000000</td>\n",
       "      <td>280.000000</td>\n",
       "      <td>280.000000</td>\n",
       "      <td>280.000000</td>\n",
       "      <td>280.000000</td>\n",
       "      <td>280.000000</td>\n",
       "      <td>280.000000</td>\n",
       "    </tr>\n",
       "    <tr>\n",
       "      <th>mean</th>\n",
       "      <td>2010.500000</td>\n",
       "      <td>13544.879762</td>\n",
       "      <td>66059.439286</td>\n",
       "      <td>12283.912857</td>\n",
       "      <td>3508.315160</td>\n",
       "      <td>2193.632070</td>\n",
       "      <td>61240.295714</td>\n",
       "      <td>12987.730357</td>\n",
       "      <td>11131.240664</td>\n",
       "      <td>183440.349442</td>\n",
       "    </tr>\n",
       "    <tr>\n",
       "      <th>std</th>\n",
       "      <td>5.776606</td>\n",
       "      <td>14889.358015</td>\n",
       "      <td>60774.975137</td>\n",
       "      <td>14019.037838</td>\n",
       "      <td>10298.278419</td>\n",
       "      <td>5290.637904</td>\n",
       "      <td>53571.398033</td>\n",
       "      <td>25621.669764</td>\n",
       "      <td>21216.466711</td>\n",
       "      <td>130382.547462</td>\n",
       "    </tr>\n",
       "    <tr>\n",
       "      <th>min</th>\n",
       "      <td>2001.000000</td>\n",
       "      <td>0.000000</td>\n",
       "      <td>82.000000</td>\n",
       "      <td>8.000000</td>\n",
       "      <td>0.000000</td>\n",
       "      <td>0.000000</td>\n",
       "      <td>0.000000</td>\n",
       "      <td>12.000000</td>\n",
       "      <td>0.000000</td>\n",
       "      <td>905.133333</td>\n",
       "    </tr>\n",
       "    <tr>\n",
       "      <th>25%</th>\n",
       "      <td>2005.750000</td>\n",
       "      <td>2442.000000</td>\n",
       "      <td>10615.500000</td>\n",
       "      <td>1105.750000</td>\n",
       "      <td>195.000000</td>\n",
       "      <td>0.000000</td>\n",
       "      <td>12626.500000</td>\n",
       "      <td>928.000000</td>\n",
       "      <td>42.500000</td>\n",
       "      <td>61331.000000</td>\n",
       "    </tr>\n",
       "    <tr>\n",
       "      <th>50%</th>\n",
       "      <td>2010.500000</td>\n",
       "      <td>8306.500000</td>\n",
       "      <td>53253.500000</td>\n",
       "      <td>4799.500000</td>\n",
       "      <td>515.000000</td>\n",
       "      <td>0.000000</td>\n",
       "      <td>44779.000000</td>\n",
       "      <td>2550.000000</td>\n",
       "      <td>1196.000000</td>\n",
       "      <td>184709.750000</td>\n",
       "    </tr>\n",
       "    <tr>\n",
       "      <th>75%</th>\n",
       "      <td>2015.250000</td>\n",
       "      <td>18285.250000</td>\n",
       "      <td>103718.250000</td>\n",
       "      <td>21716.500000</td>\n",
       "      <td>1941.866667</td>\n",
       "      <td>1234.294118</td>\n",
       "      <td>107083.500000</td>\n",
       "      <td>12014.000000</td>\n",
       "      <td>8964.500000</td>\n",
       "      <td>272795.625000</td>\n",
       "    </tr>\n",
       "    <tr>\n",
       "      <th>max</th>\n",
       "      <td>2020.000000</td>\n",
       "      <td>66884.000000</td>\n",
       "      <td>265446.000000</td>\n",
       "      <td>54587.000000</td>\n",
       "      <td>85590.000000</td>\n",
       "      <td>29137.000000</td>\n",
       "      <td>194733.000000</td>\n",
       "      <td>168757.000000</td>\n",
       "      <td>127765.000000</td>\n",
       "      <td>543523.000000</td>\n",
       "    </tr>\n",
       "  </tbody>\n",
       "</table>\n",
       "</div>"
      ],
      "text/plain": [
       "             Année  Superficie_Sorgho  Superficie_Arachide  Superficie_Mais  \\\n",
       "count   280.000000         280.000000           280.000000       280.000000   \n",
       "mean   2010.500000       13544.879762         66059.439286     12283.912857   \n",
       "std       5.776606       14889.358015         60774.975137     14019.037838   \n",
       "min    2001.000000           0.000000            82.000000         8.000000   \n",
       "25%    2005.750000        2442.000000         10615.500000      1105.750000   \n",
       "50%    2010.500000        8306.500000         53253.500000      4799.500000   \n",
       "75%    2015.250000       18285.250000        103718.250000     21716.500000   \n",
       "max    2020.000000       66884.000000        265446.000000     54587.000000   \n",
       "\n",
       "       Superficie_Manioc  Superficie_Coton  Superficie_Mil  Superficie_Niebe  \\\n",
       "count         280.000000        280.000000      280.000000        280.000000   \n",
       "mean         3508.315160       2193.632070    61240.295714      12987.730357   \n",
       "std         10298.278419       5290.637904    53571.398033      25621.669764   \n",
       "min             0.000000          0.000000        0.000000         12.000000   \n",
       "25%           195.000000          0.000000    12626.500000        928.000000   \n",
       "50%           515.000000          0.000000    44779.000000       2550.000000   \n",
       "75%          1941.866667       1234.294118   107083.500000      12014.000000   \n",
       "max         85590.000000      29137.000000   194733.000000     168757.000000   \n",
       "\n",
       "       Superficie_Riz  Somme_Superficie  \n",
       "count      280.000000        280.000000  \n",
       "mean     11131.240664     183440.349442  \n",
       "std      21216.466711     130382.547462  \n",
       "min          0.000000        905.133333  \n",
       "25%         42.500000      61331.000000  \n",
       "50%       1196.000000     184709.750000  \n",
       "75%       8964.500000     272795.625000  \n",
       "max     127765.000000     543523.000000  "
      ]
     },
     "execution_count": 134,
     "metadata": {},
     "output_type": "execute_result"
    }
   ],
   "source": [
    "agriculture_data.describe()"
   ]
  },
  {
   "cell_type": "markdown",
   "metadata": {},
   "source": [
    "##### Vérifier l'existence des valeurs manquantes"
   ]
  },
  {
   "cell_type": "code",
   "execution_count": 135,
   "metadata": {},
   "outputs": [
    {
     "data": {
      "text/plain": [
       "Année                  0\n",
       "Region                 0\n",
       "Superficie_Sorgho      0\n",
       "Superficie_Arachide    0\n",
       "Superficie_Mais        0\n",
       "Superficie_Manioc      0\n",
       "Superficie_Coton       0\n",
       "Superficie_Mil         0\n",
       "Superficie_Niebe       0\n",
       "Superficie_Riz         0\n",
       "Somme_Superficie       0\n",
       "dtype: int64"
      ]
     },
     "execution_count": 135,
     "metadata": {},
     "output_type": "execute_result"
    }
   ],
   "source": [
    "agriculture_data.isnull().sum()"
   ]
  },
  {
   "cell_type": "markdown",
   "metadata": {},
   "source": [
    "##### Vérifier le  type de valeurs pour chaque variable "
   ]
  },
  {
   "cell_type": "code",
   "execution_count": 136,
   "metadata": {},
   "outputs": [
    {
     "data": {
      "text/plain": [
       "Année                    int64\n",
       "Region                  object\n",
       "Superficie_Sorgho      float64\n",
       "Superficie_Arachide      int64\n",
       "Superficie_Mais        float64\n",
       "Superficie_Manioc      float64\n",
       "Superficie_Coton       float64\n",
       "Superficie_Mil         float64\n",
       "Superficie_Niebe       float64\n",
       "Superficie_Riz         float64\n",
       "Somme_Superficie       float64\n",
       "dtype: object"
      ]
     },
     "execution_count": 136,
     "metadata": {},
     "output_type": "execute_result"
    }
   ],
   "source": [
    "agriculture_data.dtypes"
   ]
  },
  {
   "cell_type": "markdown",
   "metadata": {},
   "source": [
    "### Visualisation de la variation des superficies agricoles  "
   ]
  },
  {
   "cell_type": "code",
   "execution_count": 137,
   "metadata": {},
   "outputs": [],
   "source": [
    "def Sup_vis(region1, region2, region3):\n",
    "    \n",
    "    fig, ax = plt.subplots(1, figsize=(8, 6))\n",
    "    fig.suptitle('Superficie Agricole', fontsize=15)\n",
    "    x = np.arange(2000, 2020)\n",
    "    y1 = agriculture_data[agriculture_data[\"Region\"] == region1]['Somme_Superficie'].values\n",
    "    y2 = agriculture_data[agriculture_data[\"Region\"] == region2]['Somme_Superficie'].values\n",
    "    y3 = agriculture_data[agriculture_data[\"Region\"] == region3]['Somme_Superficie'].values\n",
    "    ax.plot(x,y1,color=\"red\", label=region1)\n",
    "    ax.plot(x, y2, color=\"green\", label=region2)\n",
    "    ax.plot(x, y3, color=\"blue\", label=region3)\n",
    "    X = 2\n",
    "    plt.xticks(np.arange(min(x), max(x)+1, X))\n",
    "    plt.legend(loc=\"lower right\", title=\"Legend Title\", frameon=False)\n",
    "    plt.grid()\n",
    "\n",
    "    plt.show()"
   ]
  },
  {
   "cell_type": "code",
   "execution_count": 138,
   "metadata": {},
   "outputs": [
    {
     "data": {
      "application/javascript": [
       "\n",
       "        if (window._pyforest_update_imports_cell) { window._pyforest_update_imports_cell('import numpy as np\\nimport pandas as pd\\nimport matplotlib.pyplot as plt'); }\n",
       "    "
      ],
      "text/plain": [
       "<IPython.core.display.Javascript object>"
      ]
     },
     "metadata": {},
     "output_type": "display_data"
    },
    {
     "data": {
      "application/javascript": [
       "\n",
       "        if (window._pyforest_update_imports_cell) { window._pyforest_update_imports_cell('import numpy as np\\nimport pandas as pd\\nimport matplotlib.pyplot as plt'); }\n",
       "    "
      ],
      "text/plain": [
       "<IPython.core.display.Javascript object>"
      ]
     },
     "metadata": {},
     "output_type": "display_data"
    },
    {
     "data": {
      "application/javascript": [
       "\n",
       "        if (window._pyforest_update_imports_cell) { window._pyforest_update_imports_cell('import numpy as np\\nimport pandas as pd\\nimport matplotlib.pyplot as plt'); }\n",
       "    "
      ],
      "text/plain": [
       "<IPython.core.display.Javascript object>"
      ]
     },
     "metadata": {},
     "output_type": "display_data"
    },
    {
     "data": {
      "application/javascript": [
       "\n",
       "        if (window._pyforest_update_imports_cell) { window._pyforest_update_imports_cell('import numpy as np\\nimport pandas as pd\\nimport matplotlib.pyplot as plt'); }\n",
       "    "
      ],
      "text/plain": [
       "<IPython.core.display.Javascript object>"
      ]
     },
     "metadata": {},
     "output_type": "display_data"
    },
    {
     "data": {
      "application/javascript": [
       "\n",
       "        if (window._pyforest_update_imports_cell) { window._pyforest_update_imports_cell('import numpy as np\\nimport pandas as pd\\nimport matplotlib.pyplot as plt'); }\n",
       "    "
      ],
      "text/plain": [
       "<IPython.core.display.Javascript object>"
      ]
     },
     "metadata": {},
     "output_type": "display_data"
    },
    {
     "data": {
      "application/javascript": [
       "\n",
       "        if (window._pyforest_update_imports_cell) { window._pyforest_update_imports_cell('import numpy as np\\nimport pandas as pd\\nimport matplotlib.pyplot as plt'); }\n",
       "    "
      ],
      "text/plain": [
       "<IPython.core.display.Javascript object>"
      ]
     },
     "metadata": {},
     "output_type": "display_data"
    },
    {
     "data": {
      "application/javascript": [
       "\n",
       "        if (window._pyforest_update_imports_cell) { window._pyforest_update_imports_cell('import numpy as np\\nimport pandas as pd\\nimport matplotlib.pyplot as plt'); }\n",
       "    "
      ],
      "text/plain": [
       "<IPython.core.display.Javascript object>"
      ]
     },
     "metadata": {},
     "output_type": "display_data"
    },
    {
     "data": {
      "image/png": "[encoded data removed]",
      "text/plain": [
       "<Figure size 576x432 with 1 Axes>"
      ]
     },
     "metadata": {
      "needs_background": "light"
     },
     "output_type": "display_data"
    }
   ],
   "source": [
    "Sup_vis('DIOURBEL', 'FATICK', 'KAFFRINE')"
   ]
  },
  {
   "cell_type": "code",
   "execution_count": 139,
   "metadata": {},
   "outputs": [
    {
     "data": {
      "application/javascript": [
       "\n",
       "        if (window._pyforest_update_imports_cell) { window._pyforest_update_imports_cell('import numpy as np\\nimport pandas as pd\\nimport matplotlib.pyplot as plt'); }\n",
       "    "
      ],
      "text/plain": [
       "<IPython.core.display.Javascript object>"
      ]
     },
     "metadata": {},
     "output_type": "display_data"
    },
    {
     "data": {
      "application/javascript": [
       "\n",
       "        if (window._pyforest_update_imports_cell) { window._pyforest_update_imports_cell('import numpy as np\\nimport pandas as pd\\nimport matplotlib.pyplot as plt'); }\n",
       "    "
      ],
      "text/plain": [
       "<IPython.core.display.Javascript object>"
      ]
     },
     "metadata": {},
     "output_type": "display_data"
    },
    {
     "data": {
      "application/javascript": [
       "\n",
       "        if (window._pyforest_update_imports_cell) { window._pyforest_update_imports_cell('import numpy as np\\nimport pandas as pd\\nimport matplotlib.pyplot as plt'); }\n",
       "    "
      ],
      "text/plain": [
       "<IPython.core.display.Javascript object>"
      ]
     },
     "metadata": {},
     "output_type": "display_data"
    },
    {
     "data": {
      "application/javascript": [
       "\n",
       "        if (window._pyforest_update_imports_cell) { window._pyforest_update_imports_cell('import numpy as np\\nimport pandas as pd\\nimport matplotlib.pyplot as plt'); }\n",
       "    "
      ],
      "text/plain": [
       "<IPython.core.display.Javascript object>"
      ]
     },
     "metadata": {},
     "output_type": "display_data"
    },
    {
     "data": {
      "application/javascript": [
       "\n",
       "        if (window._pyforest_update_imports_cell) { window._pyforest_update_imports_cell('import numpy as np\\nimport pandas as pd\\nimport matplotlib.pyplot as plt'); }\n",
       "    "
      ],
      "text/plain": [
       "<IPython.core.display.Javascript object>"
      ]
     },
     "metadata": {},
     "output_type": "display_data"
    },
    {
     "data": {
      "application/javascript": [
       "\n",
       "        if (window._pyforest_update_imports_cell) { window._pyforest_update_imports_cell('import numpy as np\\nimport pandas as pd\\nimport matplotlib.pyplot as plt'); }\n",
       "    "
      ],
      "text/plain": [
       "<IPython.core.display.Javascript object>"
      ]
     },
     "metadata": {},
     "output_type": "display_data"
    },
    {
     "data": {
      "application/javascript": [
       "\n",
       "        if (window._pyforest_update_imports_cell) { window._pyforest_update_imports_cell('import numpy as np\\nimport pandas as pd\\nimport matplotlib.pyplot as plt'); }\n",
       "    "
      ],
      "text/plain": [
       "<IPython.core.display.Javascript object>"
      ]
     },
     "metadata": {},
     "output_type": "display_data"
    },
    {
     "data": {
      "image/png": "[encoded data removed]",
      "text/plain": [
       "<Figure size 576x432 with 1 Axes>"
      ]
     },
     "metadata": {
      "needs_background": "light"
     },
     "output_type": "display_data"
    }
   ],
   "source": [
    "Sup_vis('KAOLACK', 'KEDOUGOU','KOLDA')"
   ]
  },
  {
   "cell_type": "code",
   "execution_count": 140,
   "metadata": {},
   "outputs": [
    {
     "data": {
      "application/javascript": [
       "\n",
       "        if (window._pyforest_update_imports_cell) { window._pyforest_update_imports_cell('import numpy as np\\nimport pandas as pd\\nimport matplotlib.pyplot as plt'); }\n",
       "    "
      ],
      "text/plain": [
       "<IPython.core.display.Javascript object>"
      ]
     },
     "metadata": {},
     "output_type": "display_data"
    },
    {
     "data": {
      "application/javascript": [
       "\n",
       "        if (window._pyforest_update_imports_cell) { window._pyforest_update_imports_cell('import numpy as np\\nimport pandas as pd\\nimport matplotlib.pyplot as plt'); }\n",
       "    "
      ],
      "text/plain": [
       "<IPython.core.display.Javascript object>"
      ]
     },
     "metadata": {},
     "output_type": "display_data"
    },
    {
     "data": {
      "application/javascript": [
       "\n",
       "        if (window._pyforest_update_imports_cell) { window._pyforest_update_imports_cell('import numpy as np\\nimport pandas as pd\\nimport matplotlib.pyplot as plt'); }\n",
       "    "
      ],
      "text/plain": [
       "<IPython.core.display.Javascript object>"
      ]
     },
     "metadata": {},
     "output_type": "display_data"
    },
    {
     "data": {
      "application/javascript": [
       "\n",
       "        if (window._pyforest_update_imports_cell) { window._pyforest_update_imports_cell('import numpy as np\\nimport pandas as pd\\nimport matplotlib.pyplot as plt'); }\n",
       "    "
      ],
      "text/plain": [
       "<IPython.core.display.Javascript object>"
      ]
     },
     "metadata": {},
     "output_type": "display_data"
    },
    {
     "data": {
      "application/javascript": [
       "\n",
       "        if (window._pyforest_update_imports_cell) { window._pyforest_update_imports_cell('import numpy as np\\nimport pandas as pd\\nimport matplotlib.pyplot as plt'); }\n",
       "    "
      ],
      "text/plain": [
       "<IPython.core.display.Javascript object>"
      ]
     },
     "metadata": {},
     "output_type": "display_data"
    },
    {
     "data": {
      "application/javascript": [
       "\n",
       "        if (window._pyforest_update_imports_cell) { window._pyforest_update_imports_cell('import numpy as np\\nimport pandas as pd\\nimport matplotlib.pyplot as plt'); }\n",
       "    "
      ],
      "text/plain": [
       "<IPython.core.display.Javascript object>"
      ]
     },
     "metadata": {},
     "output_type": "display_data"
    },
    {
     "data": {
      "application/javascript": [
       "\n",
       "        if (window._pyforest_update_imports_cell) { window._pyforest_update_imports_cell('import numpy as np\\nimport pandas as pd\\nimport matplotlib.pyplot as plt'); }\n",
       "    "
      ],
      "text/plain": [
       "<IPython.core.display.Javascript object>"
      ]
     },
     "metadata": {},
     "output_type": "display_data"
    },
    {
     "data": {
      "image/png": "[encoded data removed]",
      "text/plain": [
       "<Figure size 576x432 with 1 Axes>"
      ]
     },
     "metadata": {
      "needs_background": "light"
     },
     "output_type": "display_data"
    }
   ],
   "source": [
    "Sup_vis('LOUGA', 'MATAM', 'SAINT-LOUIS')"
   ]
  },
  {
   "cell_type": "code",
   "execution_count": 141,
   "metadata": {},
   "outputs": [
    {
     "data": {
      "application/javascript": [
       "\n",
       "        if (window._pyforest_update_imports_cell) { window._pyforest_update_imports_cell('import numpy as np\\nimport pandas as pd\\nimport matplotlib.pyplot as plt'); }\n",
       "    "
      ],
      "text/plain": [
       "<IPython.core.display.Javascript object>"
      ]
     },
     "metadata": {},
     "output_type": "display_data"
    },
    {
     "data": {
      "application/javascript": [
       "\n",
       "        if (window._pyforest_update_imports_cell) { window._pyforest_update_imports_cell('import numpy as np\\nimport pandas as pd\\nimport matplotlib.pyplot as plt'); }\n",
       "    "
      ],
      "text/plain": [
       "<IPython.core.display.Javascript object>"
      ]
     },
     "metadata": {},
     "output_type": "display_data"
    },
    {
     "data": {
      "application/javascript": [
       "\n",
       "        if (window._pyforest_update_imports_cell) { window._pyforest_update_imports_cell('import numpy as np\\nimport pandas as pd\\nimport matplotlib.pyplot as plt'); }\n",
       "    "
      ],
      "text/plain": [
       "<IPython.core.display.Javascript object>"
      ]
     },
     "metadata": {},
     "output_type": "display_data"
    },
    {
     "data": {
      "application/javascript": [
       "\n",
       "        if (window._pyforest_update_imports_cell) { window._pyforest_update_imports_cell('import numpy as np\\nimport pandas as pd\\nimport matplotlib.pyplot as plt'); }\n",
       "    "
      ],
      "text/plain": [
       "<IPython.core.display.Javascript object>"
      ]
     },
     "metadata": {},
     "output_type": "display_data"
    },
    {
     "data": {
      "application/javascript": [
       "\n",
       "        if (window._pyforest_update_imports_cell) { window._pyforest_update_imports_cell('import numpy as np\\nimport pandas as pd\\nimport matplotlib.pyplot as plt'); }\n",
       "    "
      ],
      "text/plain": [
       "<IPython.core.display.Javascript object>"
      ]
     },
     "metadata": {},
     "output_type": "display_data"
    },
    {
     "data": {
      "application/javascript": [
       "\n",
       "        if (window._pyforest_update_imports_cell) { window._pyforest_update_imports_cell('import numpy as np\\nimport pandas as pd\\nimport matplotlib.pyplot as plt'); }\n",
       "    "
      ],
      "text/plain": [
       "<IPython.core.display.Javascript object>"
      ]
     },
     "metadata": {},
     "output_type": "display_data"
    },
    {
     "data": {
      "application/javascript": [
       "\n",
       "        if (window._pyforest_update_imports_cell) { window._pyforest_update_imports_cell('import numpy as np\\nimport pandas as pd\\nimport matplotlib.pyplot as plt'); }\n",
       "    "
      ],
      "text/plain": [
       "<IPython.core.display.Javascript object>"
      ]
     },
     "metadata": {},
     "output_type": "display_data"
    },
    {
     "data": {
      "image/png": "[encoded data removed]",
      "text/plain": [
       "<Figure size 576x432 with 1 Axes>"
      ]
     },
     "metadata": {
      "needs_background": "light"
     },
     "output_type": "display_data"
    }
   ],
   "source": [
    "Sup_vis('SEDHIOU', 'TAMBACOUNDA','THIES')"
   ]
  },
  {
   "cell_type": "code",
   "execution_count": 142,
   "metadata": {},
   "outputs": [
    {
     "data": {
      "application/javascript": [
       "\n",
       "        if (window._pyforest_update_imports_cell) { window._pyforest_update_imports_cell('import numpy as np\\nimport pandas as pd\\nimport matplotlib.pyplot as plt'); }\n",
       "    "
      ],
      "text/plain": [
       "<IPython.core.display.Javascript object>"
      ]
     },
     "metadata": {},
     "output_type": "display_data"
    },
    {
     "data": {
      "application/javascript": [
       "\n",
       "        if (window._pyforest_update_imports_cell) { window._pyforest_update_imports_cell('import numpy as np\\nimport pandas as pd\\nimport matplotlib.pyplot as plt'); }\n",
       "    "
      ],
      "text/plain": [
       "<IPython.core.display.Javascript object>"
      ]
     },
     "metadata": {},
     "output_type": "display_data"
    },
    {
     "data": {
      "application/javascript": [
       "\n",
       "        if (window._pyforest_update_imports_cell) { window._pyforest_update_imports_cell('import numpy as np\\nimport pandas as pd\\nimport matplotlib.pyplot as plt'); }\n",
       "    "
      ],
      "text/plain": [
       "<IPython.core.display.Javascript object>"
      ]
     },
     "metadata": {},
     "output_type": "display_data"
    },
    {
     "data": {
      "application/javascript": [
       "\n",
       "        if (window._pyforest_update_imports_cell) { window._pyforest_update_imports_cell('import numpy as np\\nimport pandas as pd\\nimport matplotlib.pyplot as plt'); }\n",
       "    "
      ],
      "text/plain": [
       "<IPython.core.display.Javascript object>"
      ]
     },
     "metadata": {},
     "output_type": "display_data"
    },
    {
     "data": {
      "application/javascript": [
       "\n",
       "        if (window._pyforest_update_imports_cell) { window._pyforest_update_imports_cell('import numpy as np\\nimport pandas as pd\\nimport matplotlib.pyplot as plt'); }\n",
       "    "
      ],
      "text/plain": [
       "<IPython.core.display.Javascript object>"
      ]
     },
     "metadata": {},
     "output_type": "display_data"
    },
    {
     "data": {
      "application/javascript": [
       "\n",
       "        if (window._pyforest_update_imports_cell) { window._pyforest_update_imports_cell('import numpy as np\\nimport pandas as pd\\nimport matplotlib.pyplot as plt'); }\n",
       "    "
      ],
      "text/plain": [
       "<IPython.core.display.Javascript object>"
      ]
     },
     "metadata": {},
     "output_type": "display_data"
    },
    {
     "data": {
      "application/javascript": [
       "\n",
       "        if (window._pyforest_update_imports_cell) { window._pyforest_update_imports_cell('import numpy as np\\nimport pandas as pd\\nimport matplotlib.pyplot as plt'); }\n",
       "    "
      ],
      "text/plain": [
       "<IPython.core.display.Javascript object>"
      ]
     },
     "metadata": {},
     "output_type": "display_data"
    },
    {
     "data": {
      "image/png": "[encoded data removed]",
      "text/plain": [
       "<Figure size 576x432 with 1 Axes>"
      ]
     },
     "metadata": {
      "needs_background": "light"
     },
     "output_type": "display_data"
    }
   ],
   "source": [
    "Sup_vis('DAKAR', 'ZIGUINCHOR', 'THIES')"
   ]
  },
  {
   "cell_type": "markdown",
   "metadata": {},
   "source": [
    "## Exploitation des données sur l'urbanisation "
   ]
  },
  {
   "cell_type": "markdown",
   "metadata": {},
   "source": [
    "### Importer les données "
   ]
  },
  {
   "cell_type": "code",
   "execution_count": 143,
   "metadata": {},
   "outputs": [
    {
     "data": {
      "application/javascript": [
       "\n",
       "        if (window._pyforest_update_imports_cell) { window._pyforest_update_imports_cell('import numpy as np\\nimport pandas as pd\\nimport matplotlib.pyplot as plt'); }\n",
       "    "
      ],
      "text/plain": [
       "<IPython.core.display.Javascript object>"
      ]
     },
     "metadata": {},
     "output_type": "display_data"
    }
   ],
   "source": [
    "Urbanization_Data = pd.read_csv('data/Urbanization_Data.csv')"
   ]
  },
  {
   "cell_type": "code",
   "execution_count": 144,
   "metadata": {},
   "outputs": [],
   "source": [
    "Urbanization_Data = Urbanization_Data.drop('Unnamed: 0', axis = 1)"
   ]
  },
  {
   "cell_type": "code",
   "execution_count": 145,
   "metadata": {},
   "outputs": [
    {
     "data": {
      "text/html": [
       "<div>\n",
       "<style scoped>\n",
       "    .dataframe tbody tr th:only-of-type {\n",
       "        vertical-align: middle;\n",
       "    }\n",
       "\n",
       "    .dataframe tbody tr th {\n",
       "        vertical-align: top;\n",
       "    }\n",
       "\n",
       "    .dataframe thead th {\n",
       "        text-align: right;\n",
       "    }\n",
       "</style>\n",
       "<table border=\"1\" class=\"dataframe\">\n",
       "  <thead>\n",
       "    <tr style=\"text-align: right;\">\n",
       "      <th></th>\n",
       "      <th>region</th>\n",
       "      <th>Date</th>\n",
       "      <th>Effectif de la population</th>\n",
       "      <th>Population rurale</th>\n",
       "      <th>Population urbaine</th>\n",
       "      <th>Taux d'urbanisation</th>\n",
       "      <th>Nombre de ménages ruraux</th>\n",
       "      <th>Nombre de ménages urbains</th>\n",
       "      <th>Taille moyenne des ménages</th>\n",
       "      <th>Taille moyenne des ménages ruraux</th>\n",
       "      <th>Taille moyenne des ménages urbains</th>\n",
       "    </tr>\n",
       "  </thead>\n",
       "  <tbody>\n",
       "    <tr>\n",
       "      <th>0</th>\n",
       "      <td>Dakar</td>\n",
       "      <td>1970</td>\n",
       "      <td>724461.692160</td>\n",
       "      <td>27614.737826</td>\n",
       "      <td>696846.954334</td>\n",
       "      <td>96.188240</td>\n",
       "      <td>2785.348196</td>\n",
       "      <td>97871.763249</td>\n",
       "      <td>7.55</td>\n",
       "      <td>9.914286</td>\n",
       "      <td>7.120000</td>\n",
       "    </tr>\n",
       "    <tr>\n",
       "      <th>1</th>\n",
       "      <td>Dakar</td>\n",
       "      <td>1971</td>\n",
       "      <td>759203.252607</td>\n",
       "      <td>28805.871927</td>\n",
       "      <td>730397.380680</td>\n",
       "      <td>96.205776</td>\n",
       "      <td>2928.701576</td>\n",
       "      <td>101632.288592</td>\n",
       "      <td>7.52</td>\n",
       "      <td>9.835714</td>\n",
       "      <td>7.186667</td>\n",
       "    </tr>\n",
       "    <tr>\n",
       "      <th>2</th>\n",
       "      <td>Dakar</td>\n",
       "      <td>1972</td>\n",
       "      <td>795610.844586</td>\n",
       "      <td>30048.384407</td>\n",
       "      <td>765562.460179</td>\n",
       "      <td>96.223231</td>\n",
       "      <td>3079.629441</td>\n",
       "      <td>105546.295062</td>\n",
       "      <td>7.48</td>\n",
       "      <td>9.757143</td>\n",
       "      <td>7.253333</td>\n",
       "    </tr>\n",
       "    <tr>\n",
       "      <th>3</th>\n",
       "      <td>Dakar</td>\n",
       "      <td>1973</td>\n",
       "      <td>833764.362638</td>\n",
       "      <td>31344.491420</td>\n",
       "      <td>802419.871218</td>\n",
       "      <td>96.240606</td>\n",
       "      <td>3238.545239</td>\n",
       "      <td>109620.200986</td>\n",
       "      <td>7.45</td>\n",
       "      <td>9.678571</td>\n",
       "      <td>7.320000</td>\n",
       "    </tr>\n",
       "    <tr>\n",
       "      <th>4</th>\n",
       "      <td>Dakar</td>\n",
       "      <td>1974</td>\n",
       "      <td>873747.532649</td>\n",
       "      <td>32696.504713</td>\n",
       "      <td>841051.027936</td>\n",
       "      <td>96.257900</td>\n",
       "      <td>3405.885908</td>\n",
       "      <td>114397.582690</td>\n",
       "      <td>7.42</td>\n",
       "      <td>9.600000</td>\n",
       "      <td>7.352000</td>\n",
       "    </tr>\n",
       "  </tbody>\n",
       "</table>\n",
       "</div>"
      ],
      "text/plain": [
       "  region  Date  Effectif de la population  Population rurale  \\\n",
       "0  Dakar  1970              724461.692160       27614.737826   \n",
       "1  Dakar  1971              759203.252607       28805.871927   \n",
       "2  Dakar  1972              795610.844586       30048.384407   \n",
       "3  Dakar  1973              833764.362638       31344.491420   \n",
       "4  Dakar  1974              873747.532649       32696.504713   \n",
       "\n",
       "   Population urbaine  Taux d'urbanisation  Nombre de ménages ruraux  \\\n",
       "0       696846.954334            96.188240               2785.348196   \n",
       "1       730397.380680            96.205776               2928.701576   \n",
       "2       765562.460179            96.223231               3079.629441   \n",
       "3       802419.871218            96.240606               3238.545239   \n",
       "4       841051.027936            96.257900               3405.885908   \n",
       "\n",
       "   Nombre de ménages urbains  Taille moyenne des ménages  \\\n",
       "0               97871.763249                        7.55   \n",
       "1              101632.288592                        7.52   \n",
       "2              105546.295062                        7.48   \n",
       "3              109620.200986                        7.45   \n",
       "4              114397.582690                        7.42   \n",
       "\n",
       "   Taille moyenne des ménages ruraux  Taille moyenne des ménages urbains  \n",
       "0                           9.914286                            7.120000  \n",
       "1                           9.835714                            7.186667  \n",
       "2                           9.757143                            7.253333  \n",
       "3                           9.678571                            7.320000  \n",
       "4                           9.600000                            7.352000  "
      ]
     },
     "execution_count": 145,
     "metadata": {},
     "output_type": "execute_result"
    }
   ],
   "source": [
    "Urbanization_Data.head()"
   ]
  },
  {
   "cell_type": "markdown",
   "metadata": {},
   "source": [
    "### Visualisation de la variation du taux d'urbanisation"
   ]
  },
  {
   "cell_type": "code",
   "execution_count": 146,
   "metadata": {},
   "outputs": [],
   "source": [
    "def TU_vis(region1, region2, region3):\n",
    "    \n",
    "    fig, ax = plt.subplots(1, figsize=(8, 6))\n",
    "    fig.suptitle(\"Taux d'urbanisation\", fontsize=15)\n",
    "    x = Urbanization_Data[Urbanization_Data[\"region\"] == region1][\"Date\"].values\n",
    "    y1 = Urbanization_Data[Urbanization_Data[\"region\"] == region1][\"Taux d'urbanisation\"].values\n",
    "    y2 = Urbanization_Data[Urbanization_Data[\"region\"] == region2][\"Taux d'urbanisation\"].values\n",
    "    y3 = Urbanization_Data[Urbanization_Data[\"region\"] == region3][\"Taux d'urbanisation\"].values\n",
    "    ax.plot(x,y1,color=\"cyan\", label=region1)\n",
    "    ax.plot(x, y2, color=\"magenta\", label=region2)\n",
    "    ax.plot(x, y3, color=\"red\", label=region3)\n",
    "\n",
    "    plt.legend(loc=\"lower right\", title=\"Legend Title\", frameon=False)\n",
    "    plt.grid()\n",
    "\n",
    "    plt.show()"
   ]
  },
  {
   "cell_type": "code",
   "execution_count": 147,
   "metadata": {},
   "outputs": [
    {
     "data": {
      "application/javascript": [
       "\n",
       "        if (window._pyforest_update_imports_cell) { window._pyforest_update_imports_cell('import numpy as np\\nimport pandas as pd\\nimport matplotlib.pyplot as plt'); }\n",
       "    "
      ],
      "text/plain": [
       "<IPython.core.display.Javascript object>"
      ]
     },
     "metadata": {},
     "output_type": "display_data"
    },
    {
     "data": {
      "application/javascript": [
       "\n",
       "        if (window._pyforest_update_imports_cell) { window._pyforest_update_imports_cell('import numpy as np\\nimport pandas as pd\\nimport matplotlib.pyplot as plt'); }\n",
       "    "
      ],
      "text/plain": [
       "<IPython.core.display.Javascript object>"
      ]
     },
     "metadata": {},
     "output_type": "display_data"
    },
    {
     "data": {
      "application/javascript": [
       "\n",
       "        if (window._pyforest_update_imports_cell) { window._pyforest_update_imports_cell('import numpy as np\\nimport pandas as pd\\nimport matplotlib.pyplot as plt'); }\n",
       "    "
      ],
      "text/plain": [
       "<IPython.core.display.Javascript object>"
      ]
     },
     "metadata": {},
     "output_type": "display_data"
    },
    {
     "data": {
      "application/javascript": [
       "\n",
       "        if (window._pyforest_update_imports_cell) { window._pyforest_update_imports_cell('import numpy as np\\nimport pandas as pd\\nimport matplotlib.pyplot as plt'); }\n",
       "    "
      ],
      "text/plain": [
       "<IPython.core.display.Javascript object>"
      ]
     },
     "metadata": {},
     "output_type": "display_data"
    },
    {
     "data": {
      "image/png": "[encoded data removed]",
      "text/plain": [
       "<Figure size 576x432 with 1 Axes>"
      ]
     },
     "metadata": {
      "needs_background": "light"
     },
     "output_type": "display_data"
    }
   ],
   "source": [
    "TU_vis('Dakar', 'Diourbel', 'Fatick')"
   ]
  },
  {
   "cell_type": "code",
   "execution_count": 148,
   "metadata": {},
   "outputs": [
    {
     "data": {
      "application/javascript": [
       "\n",
       "        if (window._pyforest_update_imports_cell) { window._pyforest_update_imports_cell('import numpy as np\\nimport pandas as pd\\nimport matplotlib.pyplot as plt'); }\n",
       "    "
      ],
      "text/plain": [
       "<IPython.core.display.Javascript object>"
      ]
     },
     "metadata": {},
     "output_type": "display_data"
    },
    {
     "data": {
      "application/javascript": [
       "\n",
       "        if (window._pyforest_update_imports_cell) { window._pyforest_update_imports_cell('import numpy as np\\nimport pandas as pd\\nimport matplotlib.pyplot as plt'); }\n",
       "    "
      ],
      "text/plain": [
       "<IPython.core.display.Javascript object>"
      ]
     },
     "metadata": {},
     "output_type": "display_data"
    },
    {
     "data": {
      "application/javascript": [
       "\n",
       "        if (window._pyforest_update_imports_cell) { window._pyforest_update_imports_cell('import numpy as np\\nimport pandas as pd\\nimport matplotlib.pyplot as plt'); }\n",
       "    "
      ],
      "text/plain": [
       "<IPython.core.display.Javascript object>"
      ]
     },
     "metadata": {},
     "output_type": "display_data"
    },
    {
     "data": {
      "application/javascript": [
       "\n",
       "        if (window._pyforest_update_imports_cell) { window._pyforest_update_imports_cell('import numpy as np\\nimport pandas as pd\\nimport matplotlib.pyplot as plt'); }\n",
       "    "
      ],
      "text/plain": [
       "<IPython.core.display.Javascript object>"
      ]
     },
     "metadata": {},
     "output_type": "display_data"
    },
    {
     "data": {
      "image/png": "[encoded data removed]",
      "text/plain": [
       "<Figure size 576x432 with 1 Axes>"
      ]
     },
     "metadata": {
      "needs_background": "light"
     },
     "output_type": "display_data"
    }
   ],
   "source": [
    "TU_vis( 'Kedougou', 'Kaffrine', 'Sedhiou')"
   ]
  },
  {
   "cell_type": "code",
   "execution_count": 149,
   "metadata": {},
   "outputs": [
    {
     "data": {
      "application/javascript": [
       "\n",
       "        if (window._pyforest_update_imports_cell) { window._pyforest_update_imports_cell('import numpy as np\\nimport pandas as pd\\nimport matplotlib.pyplot as plt'); }\n",
       "    "
      ],
      "text/plain": [
       "<IPython.core.display.Javascript object>"
      ]
     },
     "metadata": {},
     "output_type": "display_data"
    },
    {
     "data": {
      "application/javascript": [
       "\n",
       "        if (window._pyforest_update_imports_cell) { window._pyforest_update_imports_cell('import numpy as np\\nimport pandas as pd\\nimport matplotlib.pyplot as plt'); }\n",
       "    "
      ],
      "text/plain": [
       "<IPython.core.display.Javascript object>"
      ]
     },
     "metadata": {},
     "output_type": "display_data"
    },
    {
     "data": {
      "application/javascript": [
       "\n",
       "        if (window._pyforest_update_imports_cell) { window._pyforest_update_imports_cell('import numpy as np\\nimport pandas as pd\\nimport matplotlib.pyplot as plt'); }\n",
       "    "
      ],
      "text/plain": [
       "<IPython.core.display.Javascript object>"
      ]
     },
     "metadata": {},
     "output_type": "display_data"
    },
    {
     "data": {
      "application/javascript": [
       "\n",
       "        if (window._pyforest_update_imports_cell) { window._pyforest_update_imports_cell('import numpy as np\\nimport pandas as pd\\nimport matplotlib.pyplot as plt'); }\n",
       "    "
      ],
      "text/plain": [
       "<IPython.core.display.Javascript object>"
      ]
     },
     "metadata": {},
     "output_type": "display_data"
    },
    {
     "data": {
      "image/png": "[encoded data removed]",
      "text/plain": [
       "<Figure size 576x432 with 1 Axes>"
      ]
     },
     "metadata": {
      "needs_background": "light"
     },
     "output_type": "display_data"
    }
   ],
   "source": [
    "TU_vis('Kaolack', 'Kolda', 'Louga')"
   ]
  },
  {
   "cell_type": "code",
   "execution_count": 150,
   "metadata": {},
   "outputs": [
    {
     "data": {
      "application/javascript": [
       "\n",
       "        if (window._pyforest_update_imports_cell) { window._pyforest_update_imports_cell('import numpy as np\\nimport pandas as pd\\nimport matplotlib.pyplot as plt'); }\n",
       "    "
      ],
      "text/plain": [
       "<IPython.core.display.Javascript object>"
      ]
     },
     "metadata": {},
     "output_type": "display_data"
    },
    {
     "data": {
      "application/javascript": [
       "\n",
       "        if (window._pyforest_update_imports_cell) { window._pyforest_update_imports_cell('import numpy as np\\nimport pandas as pd\\nimport matplotlib.pyplot as plt'); }\n",
       "    "
      ],
      "text/plain": [
       "<IPython.core.display.Javascript object>"
      ]
     },
     "metadata": {},
     "output_type": "display_data"
    },
    {
     "data": {
      "application/javascript": [
       "\n",
       "        if (window._pyforest_update_imports_cell) { window._pyforest_update_imports_cell('import numpy as np\\nimport pandas as pd\\nimport matplotlib.pyplot as plt'); }\n",
       "    "
      ],
      "text/plain": [
       "<IPython.core.display.Javascript object>"
      ]
     },
     "metadata": {},
     "output_type": "display_data"
    },
    {
     "data": {
      "application/javascript": [
       "\n",
       "        if (window._pyforest_update_imports_cell) { window._pyforest_update_imports_cell('import numpy as np\\nimport pandas as pd\\nimport matplotlib.pyplot as plt'); }\n",
       "    "
      ],
      "text/plain": [
       "<IPython.core.display.Javascript object>"
      ]
     },
     "metadata": {},
     "output_type": "display_data"
    },
    {
     "data": {
      "image/png": "[encoded data removed]",
      "text/plain": [
       "<Figure size 576x432 with 1 Axes>"
      ]
     },
     "metadata": {
      "needs_background": "light"
     },
     "output_type": "display_data"
    }
   ],
   "source": [
    "TU_vis('Saint Louis', 'Tambacounda','Thies')"
   ]
  },
  {
   "cell_type": "code",
   "execution_count": 151,
   "metadata": {},
   "outputs": [],
   "source": [
    "def TU_Vis(region, color):\n",
    "    fig, ax = plt.subplots(1, figsize=(8, 6))\n",
    "    fig.suptitle(\"Taux d'urbanisation\", fontsize=15)\n",
    "    x = Urbanization_Data[Urbanization_Data[\"region\"] == region][\"Date\"].values\n",
    "    y1 = Urbanization_Data[Urbanization_Data[\"region\"] == region][\"Taux d'urbanisation\"].values\n",
    "    ax.plot(x, y1, color=color, label=region)\n",
    "    plt.legend(loc=\"lower right\", title=\"Legend Title\", frameon=False)\n",
    "    plt.grid()\n",
    "    plt.show()"
   ]
  },
  {
   "cell_type": "code",
   "execution_count": 152,
   "metadata": {},
   "outputs": [
    {
     "data": {
      "application/javascript": [
       "\n",
       "        if (window._pyforest_update_imports_cell) { window._pyforest_update_imports_cell('import numpy as np\\nimport pandas as pd\\nimport matplotlib.pyplot as plt'); }\n",
       "    "
      ],
      "text/plain": [
       "<IPython.core.display.Javascript object>"
      ]
     },
     "metadata": {},
     "output_type": "display_data"
    },
    {
     "data": {
      "application/javascript": [
       "\n",
       "        if (window._pyforest_update_imports_cell) { window._pyforest_update_imports_cell('import numpy as np\\nimport pandas as pd\\nimport matplotlib.pyplot as plt'); }\n",
       "    "
      ],
      "text/plain": [
       "<IPython.core.display.Javascript object>"
      ]
     },
     "metadata": {},
     "output_type": "display_data"
    },
    {
     "data": {
      "application/javascript": [
       "\n",
       "        if (window._pyforest_update_imports_cell) { window._pyforest_update_imports_cell('import numpy as np\\nimport pandas as pd\\nimport matplotlib.pyplot as plt'); }\n",
       "    "
      ],
      "text/plain": [
       "<IPython.core.display.Javascript object>"
      ]
     },
     "metadata": {},
     "output_type": "display_data"
    },
    {
     "data": {
      "application/javascript": [
       "\n",
       "        if (window._pyforest_update_imports_cell) { window._pyforest_update_imports_cell('import numpy as np\\nimport pandas as pd\\nimport matplotlib.pyplot as plt'); }\n",
       "    "
      ],
      "text/plain": [
       "<IPython.core.display.Javascript object>"
      ]
     },
     "metadata": {},
     "output_type": "display_data"
    },
    {
     "data": {
      "image/png": "[encoded data removed]",
      "text/plain": [
       "<Figure size 576x432 with 1 Axes>"
      ]
     },
     "metadata": {
      "needs_background": "light"
     },
     "output_type": "display_data"
    }
   ],
   "source": [
    "TU_Vis('Matam', 'red')"
   ]
  },
  {
   "cell_type": "code",
   "execution_count": 153,
   "metadata": {},
   "outputs": [
    {
     "data": {
      "application/javascript": [
       "\n",
       "        if (window._pyforest_update_imports_cell) { window._pyforest_update_imports_cell('import numpy as np\\nimport pandas as pd\\nimport matplotlib.pyplot as plt'); }\n",
       "    "
      ],
      "text/plain": [
       "<IPython.core.display.Javascript object>"
      ]
     },
     "metadata": {},
     "output_type": "display_data"
    },
    {
     "data": {
      "application/javascript": [
       "\n",
       "        if (window._pyforest_update_imports_cell) { window._pyforest_update_imports_cell('import numpy as np\\nimport pandas as pd\\nimport matplotlib.pyplot as plt'); }\n",
       "    "
      ],
      "text/plain": [
       "<IPython.core.display.Javascript object>"
      ]
     },
     "metadata": {},
     "output_type": "display_data"
    },
    {
     "data": {
      "application/javascript": [
       "\n",
       "        if (window._pyforest_update_imports_cell) { window._pyforest_update_imports_cell('import numpy as np\\nimport pandas as pd\\nimport matplotlib.pyplot as plt'); }\n",
       "    "
      ],
      "text/plain": [
       "<IPython.core.display.Javascript object>"
      ]
     },
     "metadata": {},
     "output_type": "display_data"
    },
    {
     "data": {
      "application/javascript": [
       "\n",
       "        if (window._pyforest_update_imports_cell) { window._pyforest_update_imports_cell('import numpy as np\\nimport pandas as pd\\nimport matplotlib.pyplot as plt'); }\n",
       "    "
      ],
      "text/plain": [
       "<IPython.core.display.Javascript object>"
      ]
     },
     "metadata": {},
     "output_type": "display_data"
    },
    {
     "data": {
      "image/png": "[encoded data removed]",
      "text/plain": [
       "<Figure size 576x432 with 1 Axes>"
      ]
     },
     "metadata": {
      "needs_background": "light"
     },
     "output_type": "display_data"
    }
   ],
   "source": [
    "TU_Vis('Ziguinchor', 'blue')"
   ]
  },
  {
   "cell_type": "markdown",
   "metadata": {},
   "source": [
    "##### Décrire les données "
   ]
  },
  {
   "cell_type": "code",
   "execution_count": 154,
   "metadata": {},
   "outputs": [
    {
     "data": {
      "text/html": [
       "<div>\n",
       "<style scoped>\n",
       "    .dataframe tbody tr th:only-of-type {\n",
       "        vertical-align: middle;\n",
       "    }\n",
       "\n",
       "    .dataframe tbody tr th {\n",
       "        vertical-align: top;\n",
       "    }\n",
       "\n",
       "    .dataframe thead th {\n",
       "        text-align: right;\n",
       "    }\n",
       "</style>\n",
       "<table border=\"1\" class=\"dataframe\">\n",
       "  <thead>\n",
       "    <tr style=\"text-align: right;\">\n",
       "      <th></th>\n",
       "      <th>Date</th>\n",
       "      <th>Effectif de la population</th>\n",
       "      <th>Population rurale</th>\n",
       "      <th>Population urbaine</th>\n",
       "      <th>Taux d'urbanisation</th>\n",
       "      <th>Nombre de ménages ruraux</th>\n",
       "      <th>Nombre de ménages urbains</th>\n",
       "      <th>Taille moyenne des ménages</th>\n",
       "      <th>Taille moyenne des ménages ruraux</th>\n",
       "      <th>Taille moyenne des ménages urbains</th>\n",
       "    </tr>\n",
       "  </thead>\n",
       "  <tbody>\n",
       "    <tr>\n",
       "      <th>count</th>\n",
       "      <td>512.000000</td>\n",
       "      <td>5.120000e+02</td>\n",
       "      <td>5.120000e+02</td>\n",
       "      <td>5.120000e+02</td>\n",
       "      <td>512.000000</td>\n",
       "      <td>294.000000</td>\n",
       "      <td>370.000000</td>\n",
       "      <td>41.000000</td>\n",
       "      <td>294.000000</td>\n",
       "      <td>370.000000</td>\n",
       "    </tr>\n",
       "    <tr>\n",
       "      <th>mean</th>\n",
       "      <td>1994.798828</td>\n",
       "      <td>7.867694e+05</td>\n",
       "      <td>4.637996e+05</td>\n",
       "      <td>3.227130e+05</td>\n",
       "      <td>30.052947</td>\n",
       "      <td>50814.076665</td>\n",
       "      <td>40063.575421</td>\n",
       "      <td>7.907981</td>\n",
       "      <td>9.191148</td>\n",
       "      <td>7.947887</td>\n",
       "    </tr>\n",
       "    <tr>\n",
       "      <th>std</th>\n",
       "      <td>14.409056</td>\n",
       "      <td>5.210115e+05</td>\n",
       "      <td>2.343700e+05</td>\n",
       "      <td>5.502051e+05</td>\n",
       "      <td>23.561868</td>\n",
       "      <td>23727.130984</td>\n",
       "      <td>65374.681601</td>\n",
       "      <td>0.611427</td>\n",
       "      <td>0.959169</td>\n",
       "      <td>0.809353</td>\n",
       "    </tr>\n",
       "    <tr>\n",
       "      <th>min</th>\n",
       "      <td>1970.000000</td>\n",
       "      <td>1.223330e+05</td>\n",
       "      <td>2.761474e+04</td>\n",
       "      <td>2.005400e+04</td>\n",
       "      <td>7.512470</td>\n",
       "      <td>2785.348196</td>\n",
       "      <td>3867.327710</td>\n",
       "      <td>7.420000</td>\n",
       "      <td>7.000000</td>\n",
       "      <td>6.100000</td>\n",
       "    </tr>\n",
       "    <tr>\n",
       "      <th>25%</th>\n",
       "      <td>1982.000000</td>\n",
       "      <td>4.805221e+05</td>\n",
       "      <td>3.386832e+05</td>\n",
       "      <td>8.208850e+04</td>\n",
       "      <td>15.542724</td>\n",
       "      <td>37311.803382</td>\n",
       "      <td>10669.478348</td>\n",
       "      <td>7.520000</td>\n",
       "      <td>8.500000</td>\n",
       "      <td>7.466889</td>\n",
       "    </tr>\n",
       "    <tr>\n",
       "      <th>50%</th>\n",
       "      <td>1995.000000</td>\n",
       "      <td>6.421564e+05</td>\n",
       "      <td>4.563759e+05</td>\n",
       "      <td>1.378615e+05</td>\n",
       "      <td>21.826258</td>\n",
       "      <td>54047.442533</td>\n",
       "      <td>16359.135047</td>\n",
       "      <td>7.660000</td>\n",
       "      <td>8.896429</td>\n",
       "      <td>7.900000</td>\n",
       "    </tr>\n",
       "    <tr>\n",
       "      <th>75%</th>\n",
       "      <td>2007.000000</td>\n",
       "      <td>8.857962e+05</td>\n",
       "      <td>5.736733e+05</td>\n",
       "      <td>2.594450e+05</td>\n",
       "      <td>35.686539</td>\n",
       "      <td>67202.231091</td>\n",
       "      <td>30255.928918</td>\n",
       "      <td>7.833187</td>\n",
       "      <td>9.900000</td>\n",
       "      <td>8.151168</td>\n",
       "    </tr>\n",
       "    <tr>\n",
       "      <th>max</th>\n",
       "      <td>2018.000000</td>\n",
       "      <td>3.630324e+06</td>\n",
       "      <td>1.463564e+06</td>\n",
       "      <td>3.499631e+06</td>\n",
       "      <td>97.220000</td>\n",
       "      <td>100729.972452</td>\n",
       "      <td>321110.092032</td>\n",
       "      <td>9.200000</td>\n",
       "      <td>11.434020</td>\n",
       "      <td>10.387141</td>\n",
       "    </tr>\n",
       "  </tbody>\n",
       "</table>\n",
       "</div>"
      ],
      "text/plain": [
       "              Date  Effectif de la population  Population rurale  \\\n",
       "count   512.000000               5.120000e+02       5.120000e+02   \n",
       "mean   1994.798828               7.867694e+05       4.637996e+05   \n",
       "std      14.409056               5.210115e+05       2.343700e+05   \n",
       "min    1970.000000               1.223330e+05       2.761474e+04   \n",
       "25%    1982.000000               4.805221e+05       3.386832e+05   \n",
       "50%    1995.000000               6.421564e+05       4.563759e+05   \n",
       "75%    2007.000000               8.857962e+05       5.736733e+05   \n",
       "max    2018.000000               3.630324e+06       1.463564e+06   \n",
       "\n",
       "       Population urbaine  Taux d'urbanisation  Nombre de ménages ruraux  \\\n",
       "count        5.120000e+02           512.000000                294.000000   \n",
       "mean         3.227130e+05            30.052947              50814.076665   \n",
       "std          5.502051e+05            23.561868              23727.130984   \n",
       "min          2.005400e+04             7.512470               2785.348196   \n",
       "25%          8.208850e+04            15.542724              37311.803382   \n",
       "50%          1.378615e+05            21.826258              54047.442533   \n",
       "75%          2.594450e+05            35.686539              67202.231091   \n",
       "max          3.499631e+06            97.220000             100729.972452   \n",
       "\n",
       "       Nombre de ménages urbains  Taille moyenne des ménages  \\\n",
       "count                 370.000000                   41.000000   \n",
       "mean                40063.575421                    7.907981   \n",
       "std                 65374.681601                    0.611427   \n",
       "min                  3867.327710                    7.420000   \n",
       "25%                 10669.478348                    7.520000   \n",
       "50%                 16359.135047                    7.660000   \n",
       "75%                 30255.928918                    7.833187   \n",
       "max                321110.092032                    9.200000   \n",
       "\n",
       "       Taille moyenne des ménages ruraux  Taille moyenne des ménages urbains  \n",
       "count                         294.000000                          370.000000  \n",
       "mean                            9.191148                            7.947887  \n",
       "std                             0.959169                            0.809353  \n",
       "min                             7.000000                            6.100000  \n",
       "25%                             8.500000                            7.466889  \n",
       "50%                             8.896429                            7.900000  \n",
       "75%                             9.900000                            8.151168  \n",
       "max                            11.434020                           10.387141  "
      ]
     },
     "execution_count": 154,
     "metadata": {},
     "output_type": "execute_result"
    }
   ],
   "source": [
    "Urbanization_Data.describe()"
   ]
  },
  {
   "cell_type": "markdown",
   "metadata": {},
   "source": [
    "##### Vérifier l'existence des valeurs manquantes"
   ]
  },
  {
   "cell_type": "code",
   "execution_count": 155,
   "metadata": {},
   "outputs": [
    {
     "data": {
      "text/plain": [
       "region                                  0\n",
       "Date                                    0\n",
       "Effectif de la population               0\n",
       "Population rurale                       0\n",
       "Population urbaine                      0\n",
       "Taux d'urbanisation                     0\n",
       "Nombre de ménages ruraux              218\n",
       "Nombre de ménages urbains             142\n",
       "Taille moyenne des ménages            471\n",
       "Taille moyenne des ménages ruraux     218\n",
       "Taille moyenne des ménages urbains    142\n",
       "dtype: int64"
      ]
     },
     "execution_count": 155,
     "metadata": {},
     "output_type": "execute_result"
    }
   ],
   "source": [
    "Urbanization_Data.isna().sum()"
   ]
  },
  {
   "cell_type": "markdown",
   "metadata": {},
   "source": [
    "##### Remplacer les valeurs manquantes"
   ]
  },
  {
   "cell_type": "code",
   "execution_count": 156,
   "metadata": {},
   "outputs": [
    {
     "data": {
      "application/javascript": [
       "\n",
       "        if (window._pyforest_update_imports_cell) { window._pyforest_update_imports_cell('import numpy as np\\nimport pandas as pd\\nimport matplotlib.pyplot as plt'); }\n",
       "    "
      ],
      "text/plain": [
       "<IPython.core.display.Javascript object>"
      ]
     },
     "metadata": {},
     "output_type": "display_data"
    }
   ],
   "source": [
    "Mean = Urbanization_Data[['Nombre de ménages ruraux']].mean(axis = 0)\n",
    "Urbanization_Data[['Nombre de ménages ruraux']] = Urbanization_Data[['Nombre de ménages ruraux']].replace(np.nan,Mean)"
   ]
  },
  {
   "cell_type": "code",
   "execution_count": 157,
   "metadata": {},
   "outputs": [
    {
     "data": {
      "application/javascript": [
       "\n",
       "        if (window._pyforest_update_imports_cell) { window._pyforest_update_imports_cell('import numpy as np\\nimport pandas as pd\\nimport matplotlib.pyplot as plt'); }\n",
       "    "
      ],
      "text/plain": [
       "<IPython.core.display.Javascript object>"
      ]
     },
     "metadata": {},
     "output_type": "display_data"
    }
   ],
   "source": [
    "Mean = Urbanization_Data[['Nombre de ménages urbains']].mean(axis = 0)\n",
    "Urbanization_Data[['Nombre de ménages urbains']] = Urbanization_Data[['Nombre de ménages urbains']].replace(np.nan,Mean)"
   ]
  },
  {
   "cell_type": "code",
   "execution_count": 158,
   "metadata": {},
   "outputs": [
    {
     "data": {
      "application/javascript": [
       "\n",
       "        if (window._pyforest_update_imports_cell) { window._pyforest_update_imports_cell('import numpy as np\\nimport pandas as pd\\nimport matplotlib.pyplot as plt'); }\n",
       "    "
      ],
      "text/plain": [
       "<IPython.core.display.Javascript object>"
      ]
     },
     "metadata": {},
     "output_type": "display_data"
    }
   ],
   "source": [
    "Mean = Urbanization_Data[['Taille moyenne des ménages']].mean(axis = 0)\n",
    "Urbanization_Data[['Taille moyenne des ménages']] = Urbanization_Data[['Taille moyenne des ménages']].replace(np.nan,Mean)"
   ]
  },
  {
   "cell_type": "code",
   "execution_count": 159,
   "metadata": {},
   "outputs": [
    {
     "data": {
      "application/javascript": [
       "\n",
       "        if (window._pyforest_update_imports_cell) { window._pyforest_update_imports_cell('import numpy as np\\nimport pandas as pd\\nimport matplotlib.pyplot as plt'); }\n",
       "    "
      ],
      "text/plain": [
       "<IPython.core.display.Javascript object>"
      ]
     },
     "metadata": {},
     "output_type": "display_data"
    }
   ],
   "source": [
    "Mean = Urbanization_Data[['Taille moyenne des ménages ruraux']].mean(axis = 0)\n",
    "Urbanization_Data[['Taille moyenne des ménages ruraux']] = Urbanization_Data[['Taille moyenne des ménages ruraux']].replace(np.nan,Mean)"
   ]
  },
  {
   "cell_type": "code",
   "execution_count": 160,
   "metadata": {},
   "outputs": [
    {
     "data": {
      "application/javascript": [
       "\n",
       "        if (window._pyforest_update_imports_cell) { window._pyforest_update_imports_cell('import numpy as np\\nimport pandas as pd\\nimport matplotlib.pyplot as plt'); }\n",
       "    "
      ],
      "text/plain": [
       "<IPython.core.display.Javascript object>"
      ]
     },
     "metadata": {},
     "output_type": "display_data"
    }
   ],
   "source": [
    "Mean = Urbanization_Data[['Taille moyenne des ménages urbains']].mean(axis = 0)\n",
    "Urbanization_Data[['Taille moyenne des ménages urbains']] = Urbanization_Data[['Taille moyenne des ménages urbains']].replace(np.nan,Mean)"
   ]
  },
  {
   "cell_type": "code",
   "execution_count": 161,
   "metadata": {},
   "outputs": [
    {
     "data": {
      "text/plain": [
       "region                                0\n",
       "Date                                  0\n",
       "Effectif de la population             0\n",
       "Population rurale                     0\n",
       "Population urbaine                    0\n",
       "Taux d'urbanisation                   0\n",
       "Nombre de ménages ruraux              0\n",
       "Nombre de ménages urbains             0\n",
       "Taille moyenne des ménages            0\n",
       "Taille moyenne des ménages ruraux     0\n",
       "Taille moyenne des ménages urbains    0\n",
       "dtype: int64"
      ]
     },
     "execution_count": 161,
     "metadata": {},
     "output_type": "execute_result"
    }
   ],
   "source": [
    "Urbanization_Data.isnull().sum()"
   ]
  },
  {
   "cell_type": "markdown",
   "metadata": {},
   "source": [
    "##### Vérifier les types des données"
   ]
  },
  {
   "cell_type": "code",
   "execution_count": 162,
   "metadata": {},
   "outputs": [
    {
     "data": {
      "text/plain": [
       "region                                 object\n",
       "Date                                    int64\n",
       "Effectif de la population             float64\n",
       "Population rurale                     float64\n",
       "Population urbaine                    float64\n",
       "Taux d'urbanisation                   float64\n",
       "Nombre de ménages ruraux              float64\n",
       "Nombre de ménages urbains             float64\n",
       "Taille moyenne des ménages            float64\n",
       "Taille moyenne des ménages ruraux     float64\n",
       "Taille moyenne des ménages urbains    float64\n",
       "dtype: object"
      ]
     },
     "execution_count": 162,
     "metadata": {},
     "output_type": "execute_result"
    }
   ],
   "source": [
    "Urbanization_Data.dtypes"
   ]
  },
  {
   "cell_type": "code",
   "execution_count": null,
   "metadata": {},
   "outputs": [],
   "source": []
  }
 ],
 "metadata": {
  "kernelspec": {
   "display_name": "Python 3",
   "language": "python",
   "name": "python3"
  },
  "language_info": {
   "codemirror_mode": {
    "name": "ipython",
    "version": 3
   },
   "file_extension": ".py",
   "mimetype": "text/x-python",
   "name": "python",
   "nbconvert_exporter": "python",
   "pygments_lexer": "ipython3",
   "version": "3.7.6"
  }
 },
 "nbformat": 4,
 "nbformat_minor": 4
}
