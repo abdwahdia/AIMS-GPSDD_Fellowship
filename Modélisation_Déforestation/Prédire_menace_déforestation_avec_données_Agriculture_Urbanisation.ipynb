{
 "cells": [
  {
   "cell_type": "markdown",
   "metadata": {},
   "source": [
    "### Importer les packages et les données"
   ]
  },
  {
   "cell_type": "code",
   "execution_count": 5,
   "metadata": {},
   "outputs": [],
   "source": [
    "import pyforest\n",
    "from sklearn import metrics\n",
    "from sklearn.metrics import accuracy_score\n",
    "from sklearn.model_selection import GridSearchCV\n",
    "# Hide warnings\n",
    "import warnings\n",
    "warnings.filterwarnings('ignore')"
   ]
  },
  {
   "cell_type": "code",
   "execution_count": 1,
   "metadata": {},
   "outputs": [
    {
     "data": {
      "application/javascript": [
       "\n",
       "        if (window._pyforest_update_imports_cell) { window._pyforest_update_imports_cell('import pandas as pd'); }\n",
       "    "
      ],
      "text/plain": [
       "<IPython.core.display.Javascript object>"
      ]
     },
     "metadata": {},
     "output_type": "display_data"
    }
   ],
   "source": [
    "data = pd.read_csv('data/concat_data/Data_Agriculture_Urbanization.csv')\n",
    "# data = data.drop('Unnamed: 0', axis = 1)"
   ]
  },
  {
   "cell_type": "code",
   "execution_count": 2,
   "metadata": {},
   "outputs": [
    {
     "data": {
      "text/html": [
       "<div>\n",
       "<style scoped>\n",
       "    .dataframe tbody tr th:only-of-type {\n",
       "        vertical-align: middle;\n",
       "    }\n",
       "\n",
       "    .dataframe tbody tr th {\n",
       "        vertical-align: top;\n",
       "    }\n",
       "\n",
       "    .dataframe thead th {\n",
       "        text-align: right;\n",
       "    }\n",
       "</style>\n",
       "<table border=\"1\" class=\"dataframe\">\n",
       "  <thead>\n",
       "    <tr style=\"text-align: right;\">\n",
       "      <th></th>\n",
       "      <th>region</th>\n",
       "      <th>Date</th>\n",
       "      <th>Ménages exploitant moins de 3 parcelles (%)</th>\n",
       "      <th>Ménages exploitant 3 à 5 parcelles (%)</th>\n",
       "      <th>Ménages exploitant plus de 6 parcelles (%)</th>\n",
       "      <th>Nombre moyen de parcelles par ménage</th>\n",
       "      <th>Superficie moyenne des parcelles par ménage (Ha)</th>\n",
       "      <th>Taille moyenne des ménages</th>\n",
       "      <th>Effectif de la population</th>\n",
       "      <th>Population rurale</th>\n",
       "      <th>Population urbaine</th>\n",
       "      <th>Taux d'urbanisation</th>\n",
       "    </tr>\n",
       "  </thead>\n",
       "  <tbody>\n",
       "    <tr>\n",
       "      <th>0</th>\n",
       "      <td>Dakar</td>\n",
       "      <td>2017</td>\n",
       "      <td>96.799999</td>\n",
       "      <td>40.360239</td>\n",
       "      <td>9.933108</td>\n",
       "      <td>1.208000</td>\n",
       "      <td>0.462637</td>\n",
       "      <td>4.904000</td>\n",
       "      <td>3529300.0</td>\n",
       "      <td>127054.0</td>\n",
       "      <td>3402246.0</td>\n",
       "      <td>96.400023</td>\n",
       "    </tr>\n",
       "    <tr>\n",
       "      <th>1</th>\n",
       "      <td>Dakar</td>\n",
       "      <td>2018</td>\n",
       "      <td>100.000000</td>\n",
       "      <td>0.000000</td>\n",
       "      <td>0.000000</td>\n",
       "      <td>1.041970</td>\n",
       "      <td>0.465369</td>\n",
       "      <td>5.363169</td>\n",
       "      <td>3630324.0</td>\n",
       "      <td>130693.0</td>\n",
       "      <td>3499631.0</td>\n",
       "      <td>96.399963</td>\n",
       "    </tr>\n",
       "    <tr>\n",
       "      <th>2</th>\n",
       "      <td>Diourbel</td>\n",
       "      <td>2017</td>\n",
       "      <td>12.540621</td>\n",
       "      <td>64.680761</td>\n",
       "      <td>22.778620</td>\n",
       "      <td>4.337563</td>\n",
       "      <td>3.078930</td>\n",
       "      <td>9.519451</td>\n",
       "      <td>1692967.0</td>\n",
       "      <td>1418707.0</td>\n",
       "      <td>274260.0</td>\n",
       "      <td>16.199961</td>\n",
       "    </tr>\n",
       "    <tr>\n",
       "      <th>3</th>\n",
       "      <td>Diourbel</td>\n",
       "      <td>2018</td>\n",
       "      <td>25.740260</td>\n",
       "      <td>57.751203</td>\n",
       "      <td>16.508539</td>\n",
       "      <td>3.816028</td>\n",
       "      <td>4.645847</td>\n",
       "      <td>10.407418</td>\n",
       "      <td>1746496.0</td>\n",
       "      <td>1463564.0</td>\n",
       "      <td>282932.0</td>\n",
       "      <td>16.199980</td>\n",
       "    </tr>\n",
       "    <tr>\n",
       "      <th>4</th>\n",
       "      <td>Fatick</td>\n",
       "      <td>2017</td>\n",
       "      <td>37.248814</td>\n",
       "      <td>52.979088</td>\n",
       "      <td>9.772102</td>\n",
       "      <td>3.295946</td>\n",
       "      <td>2.884257</td>\n",
       "      <td>7.974183</td>\n",
       "      <td>813542.0</td>\n",
       "      <td>676053.0</td>\n",
       "      <td>137489.0</td>\n",
       "      <td>16.900049</td>\n",
       "    </tr>\n",
       "  </tbody>\n",
       "</table>\n",
       "</div>"
      ],
      "text/plain": [
       "     region  Date  Ménages exploitant moins de 3 parcelles (%)  \\\n",
       "0     Dakar  2017                                    96.799999   \n",
       "1     Dakar  2018                                   100.000000   \n",
       "2  Diourbel  2017                                    12.540621   \n",
       "3  Diourbel  2018                                    25.740260   \n",
       "4    Fatick  2017                                    37.248814   \n",
       "\n",
       "   Ménages exploitant 3 à 5 parcelles (%)  \\\n",
       "0                               40.360239   \n",
       "1                                0.000000   \n",
       "2                               64.680761   \n",
       "3                               57.751203   \n",
       "4                               52.979088   \n",
       "\n",
       "   Ménages exploitant plus de 6 parcelles (%)  \\\n",
       "0                                    9.933108   \n",
       "1                                    0.000000   \n",
       "2                                   22.778620   \n",
       "3                                   16.508539   \n",
       "4                                    9.772102   \n",
       "\n",
       "   Nombre moyen de parcelles par ménage  \\\n",
       "0                              1.208000   \n",
       "1                              1.041970   \n",
       "2                              4.337563   \n",
       "3                              3.816028   \n",
       "4                              3.295946   \n",
       "\n",
       "   Superficie moyenne des parcelles par ménage (Ha)  \\\n",
       "0                                          0.462637   \n",
       "1                                          0.465369   \n",
       "2                                          3.078930   \n",
       "3                                          4.645847   \n",
       "4                                          2.884257   \n",
       "\n",
       "   Taille moyenne des ménages  Effectif de la population  Population rurale  \\\n",
       "0                    4.904000                  3529300.0           127054.0   \n",
       "1                    5.363169                  3630324.0           130693.0   \n",
       "2                    9.519451                  1692967.0          1418707.0   \n",
       "3                   10.407418                  1746496.0          1463564.0   \n",
       "4                    7.974183                   813542.0           676053.0   \n",
       "\n",
       "   Population urbaine  Taux d'urbanisation  \n",
       "0           3402246.0            96.400023  \n",
       "1           3499631.0            96.399963  \n",
       "2            274260.0            16.199961  \n",
       "3            282932.0            16.199980  \n",
       "4            137489.0            16.900049  "
      ]
     },
     "execution_count": 2,
     "metadata": {},
     "output_type": "execute_result"
    }
   ],
   "source": [
    "data.head()"
   ]
  },
  {
   "cell_type": "markdown",
   "metadata": {},
   "source": [
    "### Variable cible "
   ]
  },
  {
   "cell_type": "code",
   "execution_count": 3,
   "metadata": {},
   "outputs": [],
   "source": [
    "risque_deforestation = [1,1,0,0,0,0,0,0,0,0,1,1,1,1,0,0,0,0,1,1,1,1,0,0,0,0,1,1]\n",
    "data['risque_deforestation'] = risque_deforestation"
   ]
  },
  {
   "cell_type": "markdown",
   "metadata": {},
   "source": [
    "- 1 : signifie que la région est fortement menacée par la déforestation\n",
    "- 0 : signifie que la région est faiblement menacée par la déforestation   "
   ]
  },
  {
   "cell_type": "markdown",
   "metadata": {},
   "source": [
    "### Jeu de donnée final avec la variable cible"
   ]
  },
  {
   "cell_type": "code",
   "execution_count": 4,
   "metadata": {},
   "outputs": [
    {
     "data": {
      "text/html": [
       "<div>\n",
       "<style scoped>\n",
       "    .dataframe tbody tr th:only-of-type {\n",
       "        vertical-align: middle;\n",
       "    }\n",
       "\n",
       "    .dataframe tbody tr th {\n",
       "        vertical-align: top;\n",
       "    }\n",
       "\n",
       "    .dataframe thead th {\n",
       "        text-align: right;\n",
       "    }\n",
       "</style>\n",
       "<table border=\"1\" class=\"dataframe\">\n",
       "  <thead>\n",
       "    <tr style=\"text-align: right;\">\n",
       "      <th></th>\n",
       "      <th>region</th>\n",
       "      <th>Date</th>\n",
       "      <th>Ménages exploitant moins de 3 parcelles (%)</th>\n",
       "      <th>Ménages exploitant 3 à 5 parcelles (%)</th>\n",
       "      <th>Ménages exploitant plus de 6 parcelles (%)</th>\n",
       "      <th>Nombre moyen de parcelles par ménage</th>\n",
       "      <th>Superficie moyenne des parcelles par ménage (Ha)</th>\n",
       "      <th>Taille moyenne des ménages</th>\n",
       "      <th>Effectif de la population</th>\n",
       "      <th>Population rurale</th>\n",
       "      <th>Population urbaine</th>\n",
       "      <th>Taux d'urbanisation</th>\n",
       "      <th>risque_deforestation</th>\n",
       "    </tr>\n",
       "  </thead>\n",
       "  <tbody>\n",
       "    <tr>\n",
       "      <th>0</th>\n",
       "      <td>Dakar</td>\n",
       "      <td>2017</td>\n",
       "      <td>96.799999</td>\n",
       "      <td>40.360239</td>\n",
       "      <td>9.933108</td>\n",
       "      <td>1.208000</td>\n",
       "      <td>0.462637</td>\n",
       "      <td>4.904000</td>\n",
       "      <td>3529300.0</td>\n",
       "      <td>127054.0</td>\n",
       "      <td>3402246.0</td>\n",
       "      <td>96.400023</td>\n",
       "      <td>1</td>\n",
       "    </tr>\n",
       "    <tr>\n",
       "      <th>1</th>\n",
       "      <td>Dakar</td>\n",
       "      <td>2018</td>\n",
       "      <td>100.000000</td>\n",
       "      <td>0.000000</td>\n",
       "      <td>0.000000</td>\n",
       "      <td>1.041970</td>\n",
       "      <td>0.465369</td>\n",
       "      <td>5.363169</td>\n",
       "      <td>3630324.0</td>\n",
       "      <td>130693.0</td>\n",
       "      <td>3499631.0</td>\n",
       "      <td>96.399963</td>\n",
       "      <td>1</td>\n",
       "    </tr>\n",
       "    <tr>\n",
       "      <th>2</th>\n",
       "      <td>Diourbel</td>\n",
       "      <td>2017</td>\n",
       "      <td>12.540621</td>\n",
       "      <td>64.680761</td>\n",
       "      <td>22.778620</td>\n",
       "      <td>4.337563</td>\n",
       "      <td>3.078930</td>\n",
       "      <td>9.519451</td>\n",
       "      <td>1692967.0</td>\n",
       "      <td>1418707.0</td>\n",
       "      <td>274260.0</td>\n",
       "      <td>16.199961</td>\n",
       "      <td>0</td>\n",
       "    </tr>\n",
       "    <tr>\n",
       "      <th>3</th>\n",
       "      <td>Diourbel</td>\n",
       "      <td>2018</td>\n",
       "      <td>25.740260</td>\n",
       "      <td>57.751203</td>\n",
       "      <td>16.508539</td>\n",
       "      <td>3.816028</td>\n",
       "      <td>4.645847</td>\n",
       "      <td>10.407418</td>\n",
       "      <td>1746496.0</td>\n",
       "      <td>1463564.0</td>\n",
       "      <td>282932.0</td>\n",
       "      <td>16.199980</td>\n",
       "      <td>0</td>\n",
       "    </tr>\n",
       "    <tr>\n",
       "      <th>4</th>\n",
       "      <td>Fatick</td>\n",
       "      <td>2017</td>\n",
       "      <td>37.248814</td>\n",
       "      <td>52.979088</td>\n",
       "      <td>9.772102</td>\n",
       "      <td>3.295946</td>\n",
       "      <td>2.884257</td>\n",
       "      <td>7.974183</td>\n",
       "      <td>813542.0</td>\n",
       "      <td>676053.0</td>\n",
       "      <td>137489.0</td>\n",
       "      <td>16.900049</td>\n",
       "      <td>0</td>\n",
       "    </tr>\n",
       "  </tbody>\n",
       "</table>\n",
       "</div>"
      ],
      "text/plain": [
       "     region  Date  Ménages exploitant moins de 3 parcelles (%)  \\\n",
       "0     Dakar  2017                                    96.799999   \n",
       "1     Dakar  2018                                   100.000000   \n",
       "2  Diourbel  2017                                    12.540621   \n",
       "3  Diourbel  2018                                    25.740260   \n",
       "4    Fatick  2017                                    37.248814   \n",
       "\n",
       "   Ménages exploitant 3 à 5 parcelles (%)  \\\n",
       "0                               40.360239   \n",
       "1                                0.000000   \n",
       "2                               64.680761   \n",
       "3                               57.751203   \n",
       "4                               52.979088   \n",
       "\n",
       "   Ménages exploitant plus de 6 parcelles (%)  \\\n",
       "0                                    9.933108   \n",
       "1                                    0.000000   \n",
       "2                                   22.778620   \n",
       "3                                   16.508539   \n",
       "4                                    9.772102   \n",
       "\n",
       "   Nombre moyen de parcelles par ménage  \\\n",
       "0                              1.208000   \n",
       "1                              1.041970   \n",
       "2                              4.337563   \n",
       "3                              3.816028   \n",
       "4                              3.295946   \n",
       "\n",
       "   Superficie moyenne des parcelles par ménage (Ha)  \\\n",
       "0                                          0.462637   \n",
       "1                                          0.465369   \n",
       "2                                          3.078930   \n",
       "3                                          4.645847   \n",
       "4                                          2.884257   \n",
       "\n",
       "   Taille moyenne des ménages  Effectif de la population  Population rurale  \\\n",
       "0                    4.904000                  3529300.0           127054.0   \n",
       "1                    5.363169                  3630324.0           130693.0   \n",
       "2                    9.519451                  1692967.0          1418707.0   \n",
       "3                   10.407418                  1746496.0          1463564.0   \n",
       "4                    7.974183                   813542.0           676053.0   \n",
       "\n",
       "   Population urbaine  Taux d'urbanisation  risque_deforestation  \n",
       "0           3402246.0            96.400023                     1  \n",
       "1           3499631.0            96.399963                     1  \n",
       "2            274260.0            16.199961                     0  \n",
       "3            282932.0            16.199980                     0  \n",
       "4            137489.0            16.900049                     0  "
      ]
     },
     "execution_count": 4,
     "metadata": {},
     "output_type": "execute_result"
    }
   ],
   "source": [
    "data.head()"
   ]
  },
  {
   "cell_type": "markdown",
   "metadata": {},
   "source": [
    "### Exploration des données"
   ]
  },
  {
   "cell_type": "code",
   "execution_count": 12,
   "metadata": {},
   "outputs": [
    {
     "data": {
      "application/javascript": [
       "\n",
       "        if (window._pyforest_update_imports_cell) { window._pyforest_update_imports_cell('import pandas as pd'); }\n",
       "    "
      ],
      "text/plain": [
       "<IPython.core.display.Javascript object>"
      ]
     },
     "metadata": {},
     "output_type": "display_data"
    },
    {
     "data": {
      "text/html": [
       "<div>\n",
       "<style scoped>\n",
       "    .dataframe tbody tr th:only-of-type {\n",
       "        vertical-align: middle;\n",
       "    }\n",
       "\n",
       "    .dataframe tbody tr th {\n",
       "        vertical-align: top;\n",
       "    }\n",
       "\n",
       "    .dataframe thead th {\n",
       "        text-align: right;\n",
       "    }\n",
       "</style>\n",
       "<table border=\"1\" class=\"dataframe\">\n",
       "  <thead>\n",
       "    <tr style=\"text-align: right;\">\n",
       "      <th></th>\n",
       "      <th>Date</th>\n",
       "      <th>Ménages exploitant moins de 3 parcelles (%)</th>\n",
       "      <th>Ménages exploitant 3 à 5 parcelles (%)</th>\n",
       "      <th>Ménages exploitant plus de 6 parcelles (%)</th>\n",
       "      <th>Nombre moyen de parcelles par ménage</th>\n",
       "      <th>Superficie moyenne des parcelles par ménage (Ha)</th>\n",
       "      <th>Taille moyenne des ménages</th>\n",
       "      <th>Effectif de la population</th>\n",
       "      <th>Population rurale</th>\n",
       "      <th>Population urbaine</th>\n",
       "      <th>Taux d'urbanisation</th>\n",
       "      <th>risque_deforestation</th>\n",
       "    </tr>\n",
       "  </thead>\n",
       "  <tbody>\n",
       "    <tr>\n",
       "      <th>count</th>\n",
       "      <td>28.00</td>\n",
       "      <td>28.00</td>\n",
       "      <td>28.00</td>\n",
       "      <td>28.00</td>\n",
       "      <td>28.00</td>\n",
       "      <td>28.00</td>\n",
       "      <td>28.00</td>\n",
       "      <td>28.00</td>\n",
       "      <td>28.00</td>\n",
       "      <td>28.00</td>\n",
       "      <td>28.00</td>\n",
       "      <td>28.00</td>\n",
       "    </tr>\n",
       "    <tr>\n",
       "      <th>mean</th>\n",
       "      <td>2017.50</td>\n",
       "      <td>53.93</td>\n",
       "      <td>40.36</td>\n",
       "      <td>9.93</td>\n",
       "      <td>2.77</td>\n",
       "      <td>2.69</td>\n",
       "      <td>9.31</td>\n",
       "      <td>1106515.00</td>\n",
       "      <td>591002.61</td>\n",
       "      <td>515512.39</td>\n",
       "      <td>34.54</td>\n",
       "      <td>0.43</td>\n",
       "    </tr>\n",
       "    <tr>\n",
       "      <th>std</th>\n",
       "      <td>0.51</td>\n",
       "      <td>28.58</td>\n",
       "      <td>19.57</td>\n",
       "      <td>7.18</td>\n",
       "      <td>1.06</td>\n",
       "      <td>1.76</td>\n",
       "      <td>1.95</td>\n",
       "      <td>837422.52</td>\n",
       "      <td>330100.12</td>\n",
       "      <td>863920.63</td>\n",
       "      <td>21.04</td>\n",
       "      <td>0.50</td>\n",
       "    </tr>\n",
       "    <tr>\n",
       "      <th>min</th>\n",
       "      <td>2017.00</td>\n",
       "      <td>12.54</td>\n",
       "      <td>0.00</td>\n",
       "      <td>0.00</td>\n",
       "      <td>1.04</td>\n",
       "      <td>0.46</td>\n",
       "      <td>4.90</td>\n",
       "      <td>172482.00</td>\n",
       "      <td>126257.00</td>\n",
       "      <td>46225.00</td>\n",
       "      <td>16.20</td>\n",
       "      <td>0.00</td>\n",
       "    </tr>\n",
       "    <tr>\n",
       "      <th>25%</th>\n",
       "      <td>2017.00</td>\n",
       "      <td>29.62</td>\n",
       "      <td>34.40</td>\n",
       "      <td>5.13</td>\n",
       "      <td>2.16</td>\n",
       "      <td>1.03</td>\n",
       "      <td>8.53</td>\n",
       "      <td>655086.00</td>\n",
       "      <td>412117.25</td>\n",
       "      <td>142268.00</td>\n",
       "      <td>22.27</td>\n",
       "      <td>0.00</td>\n",
       "    </tr>\n",
       "    <tr>\n",
       "      <th>50%</th>\n",
       "      <td>2017.50</td>\n",
       "      <td>54.40</td>\n",
       "      <td>41.40</td>\n",
       "      <td>9.85</td>\n",
       "      <td>2.67</td>\n",
       "      <td>2.87</td>\n",
       "      <td>9.25</td>\n",
       "      <td>812808.50</td>\n",
       "      <td>546967.50</td>\n",
       "      <td>222464.00</td>\n",
       "      <td>26.35</td>\n",
       "      <td>0.00</td>\n",
       "    </tr>\n",
       "    <tr>\n",
       "      <th>75%</th>\n",
       "      <td>2018.00</td>\n",
       "      <td>71.80</td>\n",
       "      <td>56.79</td>\n",
       "      <td>11.67</td>\n",
       "      <td>3.55</td>\n",
       "      <td>3.76</td>\n",
       "      <td>10.54</td>\n",
       "      <td>1094949.00</td>\n",
       "      <td>698138.00</td>\n",
       "      <td>407346.25</td>\n",
       "      <td>47.87</td>\n",
       "      <td>1.00</td>\n",
       "    </tr>\n",
       "    <tr>\n",
       "      <th>max</th>\n",
       "      <td>2018.00</td>\n",
       "      <td>100.00</td>\n",
       "      <td>67.12</td>\n",
       "      <td>24.93</td>\n",
       "      <td>4.49</td>\n",
       "      <td>8.03</td>\n",
       "      <td>12.34</td>\n",
       "      <td>3630324.00</td>\n",
       "      <td>1463564.00</td>\n",
       "      <td>3499631.00</td>\n",
       "      <td>96.40</td>\n",
       "      <td>1.00</td>\n",
       "    </tr>\n",
       "  </tbody>\n",
       "</table>\n",
       "</div>"
      ],
      "text/plain": [
       "         Date  Ménages exploitant moins de 3 parcelles (%)  \\\n",
       "count   28.00                                        28.00   \n",
       "mean  2017.50                                        53.93   \n",
       "std      0.51                                        28.58   \n",
       "min   2017.00                                        12.54   \n",
       "25%   2017.00                                        29.62   \n",
       "50%   2017.50                                        54.40   \n",
       "75%   2018.00                                        71.80   \n",
       "max   2018.00                                       100.00   \n",
       "\n",
       "       Ménages exploitant 3 à 5 parcelles (%)  \\\n",
       "count                                   28.00   \n",
       "mean                                    40.36   \n",
       "std                                     19.57   \n",
       "min                                      0.00   \n",
       "25%                                     34.40   \n",
       "50%                                     41.40   \n",
       "75%                                     56.79   \n",
       "max                                     67.12   \n",
       "\n",
       "       Ménages exploitant plus de 6 parcelles (%)  \\\n",
       "count                                       28.00   \n",
       "mean                                         9.93   \n",
       "std                                          7.18   \n",
       "min                                          0.00   \n",
       "25%                                          5.13   \n",
       "50%                                          9.85   \n",
       "75%                                         11.67   \n",
       "max                                         24.93   \n",
       "\n",
       "       Nombre moyen de parcelles par ménage  \\\n",
       "count                                 28.00   \n",
       "mean                                   2.77   \n",
       "std                                    1.06   \n",
       "min                                    1.04   \n",
       "25%                                    2.16   \n",
       "50%                                    2.67   \n",
       "75%                                    3.55   \n",
       "max                                    4.49   \n",
       "\n",
       "       Superficie moyenne des parcelles par ménage (Ha)  \\\n",
       "count                                             28.00   \n",
       "mean                                               2.69   \n",
       "std                                                1.76   \n",
       "min                                                0.46   \n",
       "25%                                                1.03   \n",
       "50%                                                2.87   \n",
       "75%                                                3.76   \n",
       "max                                                8.03   \n",
       "\n",
       "       Taille moyenne des ménages  Effectif de la population  \\\n",
       "count                       28.00                      28.00   \n",
       "mean                         9.31                 1106515.00   \n",
       "std                          1.95                  837422.52   \n",
       "min                          4.90                  172482.00   \n",
       "25%                          8.53                  655086.00   \n",
       "50%                          9.25                  812808.50   \n",
       "75%                         10.54                 1094949.00   \n",
       "max                         12.34                 3630324.00   \n",
       "\n",
       "       Population rurale  Population urbaine  Taux d'urbanisation  \\\n",
       "count              28.00               28.00                28.00   \n",
       "mean           591002.61           515512.39                34.54   \n",
       "std            330100.12           863920.63                21.04   \n",
       "min            126257.00            46225.00                16.20   \n",
       "25%            412117.25           142268.00                22.27   \n",
       "50%            546967.50           222464.00                26.35   \n",
       "75%            698138.00           407346.25                47.87   \n",
       "max           1463564.00          3499631.00                96.40   \n",
       "\n",
       "       risque_deforestation  \n",
       "count                 28.00  \n",
       "mean                   0.43  \n",
       "std                    0.50  \n",
       "min                    0.00  \n",
       "25%                    0.00  \n",
       "50%                    0.00  \n",
       "75%                    1.00  \n",
       "max                    1.00  "
      ]
     },
     "execution_count": 12,
     "metadata": {},
     "output_type": "execute_result"
    }
   ],
   "source": [
    "pd.set_option(\"display.float\", \"{:.2f}\".format)\n",
    "data.describe()"
   ]
  },
  {
   "cell_type": "code",
   "execution_count": 13,
   "metadata": {},
   "outputs": [
    {
     "data": {
      "text/plain": [
       "<AxesSubplot:>"
      ]
     },
     "execution_count": 13,
     "metadata": {},
     "output_type": "execute_result"
    },
    {
     "data": {
      "image/png": "[encoded data removed]",
      "text/plain": [
       "<Figure size 432x288 with 1 Axes>"
      ]
     },
     "metadata": {
      "needs_background": "light"
     },
     "output_type": "display_data"
    }
   ],
   "source": [
    "data.risque_deforestation.value_counts().plot(kind=\"bar\", color=[\"salmon\", \"lightblue\"])"
   ]
  },
  {
   "cell_type": "code",
   "execution_count": 14,
   "metadata": {},
   "outputs": [
    {
     "data": {
      "text/plain": [
       "region                                              0\n",
       "Date                                                0\n",
       "Ménages exploitant moins de 3 parcelles (%)         0\n",
       "Ménages exploitant 3 à 5 parcelles (%)              0\n",
       "Ménages exploitant plus de 6 parcelles (%)          0\n",
       "Nombre moyen de parcelles par ménage                0\n",
       "Superficie moyenne des parcelles par ménage (Ha)    0\n",
       "Taille moyenne des ménages                          0\n",
       "Effectif de la population                           0\n",
       "Population rurale                                   0\n",
       "Population urbaine                                  0\n",
       "Taux d'urbanisation                                 0\n",
       "risque_deforestation                                0\n",
       "dtype: int64"
      ]
     },
     "execution_count": 14,
     "metadata": {},
     "output_type": "execute_result"
    }
   ],
   "source": [
    "data.isna().sum()"
   ]
  },
  {
   "cell_type": "markdown",
   "metadata": {},
   "source": [
    "### Matrice de corrélation"
   ]
  },
  {
   "cell_type": "code",
   "execution_count": 15,
   "metadata": {},
   "outputs": [
    {
     "data": {
      "application/javascript": [
       "\n",
       "        if (window._pyforest_update_imports_cell) { window._pyforest_update_imports_cell('import matplotlib.pyplot as plt\\nimport pandas as pd'); }\n",
       "    "
      ],
      "text/plain": [
       "<IPython.core.display.Javascript object>"
      ]
     },
     "metadata": {},
     "output_type": "display_data"
    },
    {
     "data": {
      "application/javascript": [
       "\n",
       "        if (window._pyforest_update_imports_cell) { window._pyforest_update_imports_cell('import seaborn as sns\\nimport matplotlib.pyplot as plt\\nimport pandas as pd'); }\n",
       "    "
      ],
      "text/plain": [
       "<IPython.core.display.Javascript object>"
      ]
     },
     "metadata": {},
     "output_type": "display_data"
    },
    {
     "data": {
      "text/plain": [
       "(12.5, -0.5)"
      ]
     },
     "execution_count": 15,
     "metadata": {},
     "output_type": "execute_result"
    },
    {
     "data": {
      "image/png": "[encoded data removed]",
      "text/plain": [
       "<Figure size 1080x1080 with 2 Axes>"
      ]
     },
     "metadata": {
      "needs_background": "light"
     },
     "output_type": "display_data"
    }
   ],
   "source": [
    "# Let's make our correlation matrix a little prettier\n",
    "corr_matrix = data.corr()\n",
    "fig, ax = plt.subplots(figsize=(15, 15))\n",
    "ax = sns.heatmap(corr_matrix,\n",
    "                 annot=True,\n",
    "                 linewidths=0.5,\n",
    "                 fmt=\".2f\",\n",
    "                 cmap=\"YlGnBu\");\n",
    "bottom, top = ax.get_ylim()\n",
    "ax.set_ylim(bottom + 0.5, top - 0.5)"
   ]
  },
  {
   "cell_type": "code",
   "execution_count": 16,
   "metadata": {},
   "outputs": [
    {
     "data": {
      "text/plain": [
       "<AxesSubplot:title={'center':'Correlation avec la variable risque_deforestation'}>"
      ]
     },
     "execution_count": 16,
     "metadata": {},
     "output_type": "execute_result"
    },
    {
     "data": {
      "image/png": "[encoded data removed]",
      "text/plain": [
       "<Figure size 864x576 with 1 Axes>"
      ]
     },
     "metadata": {
      "needs_background": "light"
     },
     "output_type": "display_data"
    }
   ],
   "source": [
    "data.drop('risque_deforestation', axis=1).corrwith(data.risque_deforestation).plot(kind='bar', grid=True, figsize=(12, 8), \n",
    "                                                   title=\"Correlation avec la variable risque_deforestation\")"
   ]
  },
  {
   "cell_type": "markdown",
   "metadata": {},
   "source": [
    "- On constate que les variable 'Population rurale', 'Nombre moyen de parcelles par ménage (%)', 'Superficie moyenne des parcelles par ménage (Ha)', 'Taux d'urbanisation' et 'Zone Perdue' sont les plus correlée avec la variavle risque_deforestation. Ainsi ces variables sont considèrées comme étant de bons prédicteurs de la variable risque_deforestation. \n"
   ]
  },
  {
   "cell_type": "markdown",
   "metadata": {},
   "source": [
    "##### Sélectionner que les variables les plus ou moins correlées à la variable cible "
   ]
  },
  {
   "cell_type": "code",
   "execution_count": 29,
   "metadata": {},
   "outputs": [],
   "source": [
    "columns_selected  = [ 'Nombre moyen de parcelles par ménage',\n",
    "                    'Superficie moyenne des parcelles par ménage (Ha)', 'Population rurale', \"Taux d'urbanisation\", 'risque_deforestation']\n",
    "data = data[columns_selected]"
   ]
  },
  {
   "cell_type": "markdown",
   "metadata": {},
   "source": [
    "### Transformation des données"
   ]
  },
  {
   "cell_type": "code",
   "execution_count": 30,
   "metadata": {},
   "outputs": [],
   "source": [
    "X = data.drop(['risque_deforestation'], axis  = 1 ) \n",
    "y = data.risque_deforestation"
   ]
  },
  {
   "cell_type": "code",
   "execution_count": 31,
   "metadata": {},
   "outputs": [],
   "source": [
    "# # categorical_val.remove('target')\n",
    "# # dataset = pd.get_dummies(df, columns = categorical_val)\n",
    "\n",
    "# from sklearn.preprocessing import StandardScaler\n",
    "\n",
    "# s_sc = StandardScaler()\n",
    "# # col_to_scale = ['age', 'trestbps', 'chol', 'thalach', 'oldpeak']\n",
    "# # dataset[col_to_scale] = s_sc.fit_transform(dataset[col_to_scale])\n",
    "# X = s_sc.fit_transform(X)"
   ]
  },
  {
   "cell_type": "markdown",
   "metadata": {},
   "source": [
    "### Fractionner les données"
   ]
  },
  {
   "cell_type": "code",
   "execution_count": 32,
   "metadata": {},
   "outputs": [
    {
     "data": {
      "application/javascript": [
       "\n",
       "        if (window._pyforest_update_imports_cell) { window._pyforest_update_imports_cell('import pandas as pd\\nimport seaborn as sns\\nimport matplotlib.pyplot as plt\\nfrom sklearn.model_selection import train_test_split\\nfrom sklearn.ensemble import RandomForestClassifier'); }\n",
       "    "
      ],
      "text/plain": [
       "<IPython.core.display.Javascript object>"
      ]
     },
     "metadata": {},
     "output_type": "display_data"
    }
   ],
   "source": [
    "X_train, X_test, y_train, y_test = train_test_split(X, y, test_size=0.3, random_state=0)"
   ]
  },
  {
   "cell_type": "markdown",
   "metadata": {},
   "source": [
    "### Application de la méthode RandomForest"
   ]
  },
  {
   "cell_type": "code",
   "execution_count": 33,
   "metadata": {},
   "outputs": [],
   "source": [
    "from sklearn.metrics import accuracy_score, confusion_matrix, classification_report\n",
    "\n",
    "def print_score(clf, X_train, y_train, X_test, y_test, train=True):\n",
    "    if train:\n",
    "        pred = clf.predict(X_train)\n",
    "        clf_report = pd.DataFrame(classification_report(y_train, pred, output_dict=True))\n",
    "        print(\"Train Result:\\n================================================\")\n",
    "        print(f\"Accuracy Score: {accuracy_score(y_train, pred) * 100:.2f}%\")\n",
    "        print(\"_______________________________________________\")\n",
    "        print(f\"CLASSIFICATION REPORT:\\n{clf_report}\")\n",
    "        print(\"_______________________________________________\")\n",
    "        print(f\"Confusion Matrix: \\n {confusion_matrix(y_train, pred)}\\n\")\n",
    "        \n",
    "    elif train==False:\n",
    "        pred = clf.predict(X_test)\n",
    "        clf_report = pd.DataFrame(classification_report(y_test, pred, output_dict=True))\n",
    "        print(\"Test Result:\\n================================================\")        \n",
    "        print(f\"Accuracy Score: {accuracy_score(y_test, pred) * 100:.2f}%\")\n",
    "        print(\"_______________________________________________\")\n",
    "        print(f\"CLASSIFICATION REPORT:\\n{clf_report}\")\n",
    "        print(\"_______________________________________________\")\n",
    "        print(f\"Confusion Matrix: \\n {confusion_matrix(y_test, pred)}\\n\")"
   ]
  },
  {
   "cell_type": "markdown",
   "metadata": {},
   "source": [
    "##### Trouver les paramètres optimaux"
   ]
  },
  {
   "cell_type": "code",
   "execution_count": 34,
   "metadata": {},
   "outputs": [
    {
     "data": {
      "application/javascript": [
       "\n",
       "        if (window._pyforest_update_imports_cell) { window._pyforest_update_imports_cell('import pandas as pd\\nimport seaborn as sns\\nimport matplotlib.pyplot as plt\\nfrom sklearn.model_selection import train_test_split\\nfrom sklearn.ensemble import RandomForestClassifier'); }\n",
       "    "
      ],
      "text/plain": [
       "<IPython.core.display.Javascript object>"
      ]
     },
     "metadata": {},
     "output_type": "display_data"
    }
   ],
   "source": [
    "rfc=RandomForestClassifier(random_state=42)"
   ]
  },
  {
   "cell_type": "code",
   "execution_count": 35,
   "metadata": {},
   "outputs": [],
   "source": [
    "param_grid = { \n",
    "    'n_estimators': [200, 500],\n",
    "    'max_features': ['auto', 'sqrt', 'log2'],\n",
    "    'max_depth' : [4,5,6,7,8],\n",
    "    'criterion' :['gini', 'entropy']\n",
    "}"
   ]
  },
  {
   "cell_type": "code",
   "execution_count": 36,
   "metadata": {},
   "outputs": [
    {
     "data": {
      "text/plain": [
       "GridSearchCV(cv=5, error_score=nan,\n",
       "             estimator=RandomForestClassifier(bootstrap=True, ccp_alpha=0.0,\n",
       "                                              class_weight=None,\n",
       "                                              criterion='gini', max_depth=None,\n",
       "                                              max_features='auto',\n",
       "                                              max_leaf_nodes=None,\n",
       "                                              max_samples=None,\n",
       "                                              min_impurity_decrease=0.0,\n",
       "                                              min_impurity_split=None,\n",
       "                                              min_samples_leaf=1,\n",
       "                                              min_samples_split=2,\n",
       "                                              min_weight_fraction_leaf=0.0,\n",
       "                                              n_estimators=100, n_jobs=None,\n",
       "                                              oob_score=False, random_state=42,\n",
       "                                              verbose=0, warm_start=False),\n",
       "             iid='deprecated', n_jobs=None,\n",
       "             param_grid={'criterion': ['gini', 'entropy'],\n",
       "                         'max_depth': [4, 5, 6, 7, 8],\n",
       "                         'max_features': ['auto', 'sqrt', 'log2'],\n",
       "                         'n_estimators': [200, 500]},\n",
       "             pre_dispatch='2*n_jobs', refit=True, return_train_score=False,\n",
       "             scoring=None, verbose=0)"
      ]
     },
     "execution_count": 36,
     "metadata": {},
     "output_type": "execute_result"
    }
   ],
   "source": [
    "CV_rfc = GridSearchCV(estimator=rfc, param_grid=param_grid, cv= 5)\n",
    "CV_rfc.fit(X_train, y_train)"
   ]
  },
  {
   "cell_type": "code",
   "execution_count": 37,
   "metadata": {},
   "outputs": [
    {
     "data": {
      "text/plain": [
       "{'criterion': 'gini',\n",
       " 'max_depth': 4,\n",
       " 'max_features': 'auto',\n",
       " 'n_estimators': 200}"
      ]
     },
     "execution_count": 37,
     "metadata": {},
     "output_type": "execute_result"
    }
   ],
   "source": [
    "CV_rfc.best_params_"
   ]
  },
  {
   "cell_type": "markdown",
   "metadata": {},
   "source": [
    "##### Application de la méthode avec les paramètres optimaux"
   ]
  },
  {
   "cell_type": "code",
   "execution_count": 38,
   "metadata": {},
   "outputs": [
    {
     "data": {
      "application/javascript": [
       "\n",
       "        if (window._pyforest_update_imports_cell) { window._pyforest_update_imports_cell('import pandas as pd\\nimport seaborn as sns\\nimport matplotlib.pyplot as plt\\nfrom sklearn.model_selection import train_test_split\\nfrom sklearn.ensemble import RandomForestClassifier'); }\n",
       "    "
      ],
      "text/plain": [
       "<IPython.core.display.Javascript object>"
      ]
     },
     "metadata": {},
     "output_type": "display_data"
    },
    {
     "data": {
      "text/plain": [
       "RandomForestClassifier(bootstrap=True, ccp_alpha=0.0, class_weight=None,\n",
       "                       criterion='gini', max_depth=4, max_features='auto',\n",
       "                       max_leaf_nodes=None, max_samples=None,\n",
       "                       min_impurity_decrease=0.0, min_impurity_split=None,\n",
       "                       min_samples_leaf=1, min_samples_split=2,\n",
       "                       min_weight_fraction_leaf=0.0, n_estimators=200,\n",
       "                       n_jobs=None, oob_score=False, random_state=42, verbose=0,\n",
       "                       warm_start=False)"
      ]
     },
     "execution_count": 38,
     "metadata": {},
     "output_type": "execute_result"
    }
   ],
   "source": [
    "rfc1=RandomForestClassifier(random_state=42, max_features='auto', n_estimators= 200, \n",
    "                            max_depth=4, criterion='gini')\n",
    "rfc1.fit(X_train, y_train)"
   ]
  },
  {
   "cell_type": "code",
   "execution_count": 39,
   "metadata": {},
   "outputs": [
    {
     "data": {
      "application/javascript": [
       "\n",
       "        if (window._pyforest_update_imports_cell) { window._pyforest_update_imports_cell('import pandas as pd\\nimport seaborn as sns\\nimport matplotlib.pyplot as plt\\nfrom sklearn.model_selection import train_test_split\\nfrom sklearn.ensemble import RandomForestClassifier'); }\n",
       "    "
      ],
      "text/plain": [
       "<IPython.core.display.Javascript object>"
      ]
     },
     "metadata": {},
     "output_type": "display_data"
    },
    {
     "name": "stdout",
     "output_type": "stream",
     "text": [
      "Train Result:\n",
      "================================================\n",
      "Accuracy Score: 100.00%\n",
      "_______________________________________________\n",
      "CLASSIFICATION REPORT:\n",
      "              0    1  accuracy  macro avg  weighted avg\n",
      "precision  1.00 1.00      1.00       1.00          1.00\n",
      "recall     1.00 1.00      1.00       1.00          1.00\n",
      "f1-score   1.00 1.00      1.00       1.00          1.00\n",
      "support   10.00 9.00      1.00      19.00         19.00\n",
      "_______________________________________________\n",
      "Confusion Matrix: \n",
      " [[10  0]\n",
      " [ 0  9]]\n",
      "\n"
     ]
    },
    {
     "data": {
      "application/javascript": [
       "\n",
       "        if (window._pyforest_update_imports_cell) { window._pyforest_update_imports_cell('import pandas as pd\\nimport seaborn as sns\\nimport matplotlib.pyplot as plt\\nfrom sklearn.model_selection import train_test_split\\nfrom sklearn.ensemble import RandomForestClassifier'); }\n",
       "    "
      ],
      "text/plain": [
       "<IPython.core.display.Javascript object>"
      ]
     },
     "metadata": {},
     "output_type": "display_data"
    },
    {
     "name": "stdout",
     "output_type": "stream",
     "text": [
      "Test Result:\n",
      "================================================\n",
      "Accuracy Score: 77.78%\n",
      "_______________________________________________\n",
      "CLASSIFICATION REPORT:\n",
      "             0    1  accuracy  macro avg  weighted avg\n",
      "precision 0.83 0.67      0.78       0.75          0.78\n",
      "recall    0.83 0.67      0.78       0.75          0.78\n",
      "f1-score  0.83 0.67      0.78       0.75          0.78\n",
      "support   6.00 3.00      0.78       9.00          9.00\n",
      "_______________________________________________\n",
      "Confusion Matrix: \n",
      " [[5 1]\n",
      " [1 2]]\n",
      "\n"
     ]
    }
   ],
   "source": [
    "print_score(rfc1, X_train, y_train, X_test, y_test, train=True)\n",
    "print_score(rfc1, X_train, y_train, X_test, y_test, train=False)"
   ]
  },
  {
   "cell_type": "markdown",
   "metadata": {},
   "source": [
    "- Le modèle est performant à environ 100 % sur les données d'entrainement et à environ 77.78 % sur les données de test."
   ]
  },
  {
   "cell_type": "markdown",
   "metadata": {},
   "source": [
    "##### Prédiction "
   ]
  },
  {
   "cell_type": "code",
   "execution_count": 40,
   "metadata": {},
   "outputs": [],
   "source": [
    "def Prédiction(Value): \n",
    "    if Value == [1]: \n",
    "        print('PREDICTION : \\n La région est fortement menacée par la déforestation')\n",
    "    else:\n",
    "        print('PREDICTION : \\n La région est faiblement menacée par la déforestation')"
   ]
  },
  {
   "cell_type": "code",
   "execution_count": 41,
   "metadata": {},
   "outputs": [
    {
     "name": "stdout",
     "output_type": "stream",
     "text": [
      "PREDICTION : \n",
      " La région est fortement menacée par la déforestation\n"
     ]
    }
   ],
   "source": [
    "Value = rfc1.predict([[65.99, 2.32, 1.03, 48.20]])\n",
    "Prédiction(Value)"
   ]
  },
  {
   "cell_type": "code",
   "execution_count": null,
   "metadata": {},
   "outputs": [],
   "source": []
  }
 ],
 "metadata": {
  "kernelspec": {
   "display_name": "Python 3",
   "language": "python",
   "name": "python3"
  },
  "language_info": {
   "codemirror_mode": {
    "name": "ipython",
    "version": 3
   },
   "file_extension": ".py",
   "mimetype": "text/x-python",
   "name": "python",
   "nbconvert_exporter": "python",
   "pygments_lexer": "ipython3",
   "version": "3.7.10"
  }
 },
 "nbformat": 4,
 "nbformat_minor": 4
}
