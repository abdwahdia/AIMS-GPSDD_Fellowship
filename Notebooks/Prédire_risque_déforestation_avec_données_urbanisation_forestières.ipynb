{
 "cells": [
  {
   "cell_type": "markdown",
   "metadata": {},
   "source": [
    "### Importer les packages"
   ]
  },
  {
   "cell_type": "code",
   "execution_count": 2,
   "metadata": {},
   "outputs": [],
   "source": [
    "import pyforest\n",
    "import lazypredict\n",
    "from lazypredict.Supervised import LazyClassifier\n",
    "from sklearn import metrics\n",
    "from sklearn.metrics import accuracy_score\n",
    "from sklearn.model_selection import GridSearchCV\n",
    "# Hide warnings\n",
    "import warnings\n",
    "warnings.filterwarnings('ignore')"
   ]
  },
  {
   "cell_type": "markdown",
   "metadata": {},
   "source": [
    "### Importer les données"
   ]
  },
  {
   "cell_type": "code",
   "execution_count": 3,
   "metadata": {},
   "outputs": [
    {
     "data": {
      "application/javascript": [
       "\n",
       "        if (window._pyforest_update_imports_cell) { window._pyforest_update_imports_cell('import pandas as pd'); }\n",
       "    "
      ],
      "text/plain": [
       "<IPython.core.display.Javascript object>"
      ]
     },
     "metadata": {},
     "output_type": "display_data"
    }
   ],
   "source": [
    "Data_Urbanization_Forest = pd.read_csv('Data_Urbanization_Forest.csv')"
   ]
  },
  {
   "cell_type": "code",
   "execution_count": 4,
   "metadata": {},
   "outputs": [
    {
     "data": {
      "text/html": [
       "<div>\n",
       "<style scoped>\n",
       "    .dataframe tbody tr th:only-of-type {\n",
       "        vertical-align: middle;\n",
       "    }\n",
       "\n",
       "    .dataframe tbody tr th {\n",
       "        vertical-align: top;\n",
       "    }\n",
       "\n",
       "    .dataframe thead th {\n",
       "        text-align: right;\n",
       "    }\n",
       "</style>\n",
       "<table border=\"1\" class=\"dataframe\">\n",
       "  <thead>\n",
       "    <tr style=\"text-align: right;\">\n",
       "      <th></th>\n",
       "      <th>region</th>\n",
       "      <th>Date</th>\n",
       "      <th>Effectif de la population</th>\n",
       "      <th>Population rurale</th>\n",
       "      <th>Population urbaine</th>\n",
       "      <th>Taux d'urbanisation</th>\n",
       "      <th>Nombre de ménages ruraux</th>\n",
       "      <th>Nombre de ménages urbains</th>\n",
       "      <th>Taille moyenne des ménages</th>\n",
       "      <th>Taille moyenne des ménages ruraux</th>\n",
       "      <th>Taille moyenne des ménages urbains</th>\n",
       "      <th>Superficie Perdue</th>\n",
       "      <th>risque déforestation</th>\n",
       "    </tr>\n",
       "  </thead>\n",
       "  <tbody>\n",
       "    <tr>\n",
       "      <th>507</th>\n",
       "      <td>Ziguinchor</td>\n",
       "      <td>2014</td>\n",
       "      <td>565940.00</td>\n",
       "      <td>303344.00</td>\n",
       "      <td>262596.00</td>\n",
       "      <td>46.40</td>\n",
       "      <td>50814.08</td>\n",
       "      <td>40063.58</td>\n",
       "      <td>7.91</td>\n",
       "      <td>9.19</td>\n",
       "      <td>7.95</td>\n",
       "      <td>2988.99</td>\n",
       "      <td>1</td>\n",
       "    </tr>\n",
       "    <tr>\n",
       "      <th>508</th>\n",
       "      <td>Ziguinchor</td>\n",
       "      <td>2015</td>\n",
       "      <td>583528.00</td>\n",
       "      <td>309854.00</td>\n",
       "      <td>273674.00</td>\n",
       "      <td>46.90</td>\n",
       "      <td>50814.08</td>\n",
       "      <td>40063.58</td>\n",
       "      <td>7.91</td>\n",
       "      <td>9.19</td>\n",
       "      <td>7.95</td>\n",
       "      <td>1926.69</td>\n",
       "      <td>1</td>\n",
       "    </tr>\n",
       "    <tr>\n",
       "      <th>509</th>\n",
       "      <td>Ziguinchor</td>\n",
       "      <td>2016</td>\n",
       "      <td>601929.00</td>\n",
       "      <td>317216.00</td>\n",
       "      <td>284713.00</td>\n",
       "      <td>47.30</td>\n",
       "      <td>50814.08</td>\n",
       "      <td>40063.58</td>\n",
       "      <td>7.91</td>\n",
       "      <td>9.19</td>\n",
       "      <td>7.95</td>\n",
       "      <td>1988.32</td>\n",
       "      <td>1</td>\n",
       "    </tr>\n",
       "    <tr>\n",
       "      <th>510</th>\n",
       "      <td>Ziguinchor</td>\n",
       "      <td>2017</td>\n",
       "      <td>621168.00</td>\n",
       "      <td>324250.00</td>\n",
       "      <td>296918.00</td>\n",
       "      <td>47.80</td>\n",
       "      <td>50814.08</td>\n",
       "      <td>40063.58</td>\n",
       "      <td>7.91</td>\n",
       "      <td>9.19</td>\n",
       "      <td>7.95</td>\n",
       "      <td>3788.39</td>\n",
       "      <td>1</td>\n",
       "    </tr>\n",
       "    <tr>\n",
       "      <th>511</th>\n",
       "      <td>Ziguinchor</td>\n",
       "      <td>2018</td>\n",
       "      <td>641254.00</td>\n",
       "      <td>332170.00</td>\n",
       "      <td>309084.00</td>\n",
       "      <td>48.20</td>\n",
       "      <td>50814.08</td>\n",
       "      <td>40063.58</td>\n",
       "      <td>7.91</td>\n",
       "      <td>9.19</td>\n",
       "      <td>7.95</td>\n",
       "      <td>1706.27</td>\n",
       "      <td>1</td>\n",
       "    </tr>\n",
       "  </tbody>\n",
       "</table>\n",
       "</div>"
      ],
      "text/plain": [
       "         region  Date  Effectif de la population  Population rurale  \\\n",
       "507  Ziguinchor  2014                  565940.00          303344.00   \n",
       "508  Ziguinchor  2015                  583528.00          309854.00   \n",
       "509  Ziguinchor  2016                  601929.00          317216.00   \n",
       "510  Ziguinchor  2017                  621168.00          324250.00   \n",
       "511  Ziguinchor  2018                  641254.00          332170.00   \n",
       "\n",
       "     Population urbaine  Taux d'urbanisation  Nombre de ménages ruraux  \\\n",
       "507           262596.00                46.40                  50814.08   \n",
       "508           273674.00                46.90                  50814.08   \n",
       "509           284713.00                47.30                  50814.08   \n",
       "510           296918.00                47.80                  50814.08   \n",
       "511           309084.00                48.20                  50814.08   \n",
       "\n",
       "     Nombre de ménages urbains  Taille moyenne des ménages  \\\n",
       "507                   40063.58                        7.91   \n",
       "508                   40063.58                        7.91   \n",
       "509                   40063.58                        7.91   \n",
       "510                   40063.58                        7.91   \n",
       "511                   40063.58                        7.91   \n",
       "\n",
       "     Taille moyenne des ménages ruraux  Taille moyenne des ménages urbains  \\\n",
       "507                               9.19                                7.95   \n",
       "508                               9.19                                7.95   \n",
       "509                               9.19                                7.95   \n",
       "510                               9.19                                7.95   \n",
       "511                               9.19                                7.95   \n",
       "\n",
       "     Superficie Perdue  risque déforestation  \n",
       "507            2988.99                     1  \n",
       "508            1926.69                     1  \n",
       "509            1988.32                     1  \n",
       "510            3788.39                     1  \n",
       "511            1706.27                     1  "
      ]
     },
     "execution_count": 4,
     "metadata": {},
     "output_type": "execute_result"
    }
   ],
   "source": [
    "Data_Urbanization_Forest.tail()"
   ]
  },
  {
   "cell_type": "markdown",
   "metadata": {},
   "source": [
    "### Exploration des données "
   ]
  },
  {
   "cell_type": "code",
   "execution_count": 5,
   "metadata": {},
   "outputs": [
    {
     "data": {
      "application/javascript": [
       "\n",
       "        if (window._pyforest_update_imports_cell) { window._pyforest_update_imports_cell('import pandas as pd'); }\n",
       "    "
      ],
      "text/plain": [
       "<IPython.core.display.Javascript object>"
      ]
     },
     "metadata": {},
     "output_type": "display_data"
    },
    {
     "data": {
      "text/html": [
       "<div>\n",
       "<style scoped>\n",
       "    .dataframe tbody tr th:only-of-type {\n",
       "        vertical-align: middle;\n",
       "    }\n",
       "\n",
       "    .dataframe tbody tr th {\n",
       "        vertical-align: top;\n",
       "    }\n",
       "\n",
       "    .dataframe thead th {\n",
       "        text-align: right;\n",
       "    }\n",
       "</style>\n",
       "<table border=\"1\" class=\"dataframe\">\n",
       "  <thead>\n",
       "    <tr style=\"text-align: right;\">\n",
       "      <th></th>\n",
       "      <th>Date</th>\n",
       "      <th>Effectif de la population</th>\n",
       "      <th>Population rurale</th>\n",
       "      <th>Population urbaine</th>\n",
       "      <th>Taux d'urbanisation</th>\n",
       "      <th>Nombre de ménages ruraux</th>\n",
       "      <th>Nombre de ménages urbains</th>\n",
       "      <th>Taille moyenne des ménages</th>\n",
       "      <th>Taille moyenne des ménages ruraux</th>\n",
       "      <th>Taille moyenne des ménages urbains</th>\n",
       "      <th>Superficie Perdue</th>\n",
       "      <th>risque déforestation</th>\n",
       "    </tr>\n",
       "  </thead>\n",
       "  <tbody>\n",
       "    <tr>\n",
       "      <th>count</th>\n",
       "      <td>512.00</td>\n",
       "      <td>512.00</td>\n",
       "      <td>512.00</td>\n",
       "      <td>512.00</td>\n",
       "      <td>512.00</td>\n",
       "      <td>512.00</td>\n",
       "      <td>512.00</td>\n",
       "      <td>512.00</td>\n",
       "      <td>512.00</td>\n",
       "      <td>512.00</td>\n",
       "      <td>512.00</td>\n",
       "      <td>512.00</td>\n",
       "    </tr>\n",
       "    <tr>\n",
       "      <th>mean</th>\n",
       "      <td>1994.80</td>\n",
       "      <td>786769.36</td>\n",
       "      <td>463799.61</td>\n",
       "      <td>322712.98</td>\n",
       "      <td>30.05</td>\n",
       "      <td>50814.08</td>\n",
       "      <td>40063.58</td>\n",
       "      <td>7.91</td>\n",
       "      <td>9.19</td>\n",
       "      <td>7.95</td>\n",
       "      <td>554.82</td>\n",
       "      <td>0.40</td>\n",
       "    </tr>\n",
       "    <tr>\n",
       "      <th>std</th>\n",
       "      <td>14.41</td>\n",
       "      <td>521011.50</td>\n",
       "      <td>234370.01</td>\n",
       "      <td>550205.13</td>\n",
       "      <td>23.56</td>\n",
       "      <td>17966.71</td>\n",
       "      <td>55553.61</td>\n",
       "      <td>0.17</td>\n",
       "      <td>0.73</td>\n",
       "      <td>0.69</td>\n",
       "      <td>1161.01</td>\n",
       "      <td>0.49</td>\n",
       "    </tr>\n",
       "    <tr>\n",
       "      <th>min</th>\n",
       "      <td>1970.00</td>\n",
       "      <td>122333.00</td>\n",
       "      <td>27614.74</td>\n",
       "      <td>20054.00</td>\n",
       "      <td>7.51</td>\n",
       "      <td>2785.35</td>\n",
       "      <td>3867.33</td>\n",
       "      <td>7.42</td>\n",
       "      <td>7.00</td>\n",
       "      <td>6.10</td>\n",
       "      <td>0.00</td>\n",
       "      <td>0.00</td>\n",
       "    </tr>\n",
       "    <tr>\n",
       "      <th>25%</th>\n",
       "      <td>1982.00</td>\n",
       "      <td>480522.11</td>\n",
       "      <td>338683.24</td>\n",
       "      <td>82088.50</td>\n",
       "      <td>15.54</td>\n",
       "      <td>49939.38</td>\n",
       "      <td>12643.48</td>\n",
       "      <td>7.91</td>\n",
       "      <td>8.80</td>\n",
       "      <td>7.69</td>\n",
       "      <td>1.02</td>\n",
       "      <td>0.00</td>\n",
       "    </tr>\n",
       "    <tr>\n",
       "      <th>50%</th>\n",
       "      <td>1995.00</td>\n",
       "      <td>642156.40</td>\n",
       "      <td>456375.94</td>\n",
       "      <td>137861.49</td>\n",
       "      <td>21.83</td>\n",
       "      <td>50814.08</td>\n",
       "      <td>25930.51</td>\n",
       "      <td>7.91</td>\n",
       "      <td>9.19</td>\n",
       "      <td>7.95</td>\n",
       "      <td>8.87</td>\n",
       "      <td>0.00</td>\n",
       "    </tr>\n",
       "    <tr>\n",
       "      <th>75%</th>\n",
       "      <td>2007.00</td>\n",
       "      <td>885796.16</td>\n",
       "      <td>573673.31</td>\n",
       "      <td>259445.00</td>\n",
       "      <td>35.69</td>\n",
       "      <td>56703.03</td>\n",
       "      <td>40063.58</td>\n",
       "      <td>7.91</td>\n",
       "      <td>9.19</td>\n",
       "      <td>8.05</td>\n",
       "      <td>744.32</td>\n",
       "      <td>1.00</td>\n",
       "    </tr>\n",
       "    <tr>\n",
       "      <th>max</th>\n",
       "      <td>2018.00</td>\n",
       "      <td>3630324.00</td>\n",
       "      <td>1463564.00</td>\n",
       "      <td>3499631.00</td>\n",
       "      <td>97.22</td>\n",
       "      <td>100729.97</td>\n",
       "      <td>321110.09</td>\n",
       "      <td>9.20</td>\n",
       "      <td>11.43</td>\n",
       "      <td>10.39</td>\n",
       "      <td>12172.03</td>\n",
       "      <td>1.00</td>\n",
       "    </tr>\n",
       "  </tbody>\n",
       "</table>\n",
       "</div>"
      ],
      "text/plain": [
       "         Date  Effectif de la population  Population rurale  \\\n",
       "count  512.00                     512.00             512.00   \n",
       "mean  1994.80                  786769.36          463799.61   \n",
       "std     14.41                  521011.50          234370.01   \n",
       "min   1970.00                  122333.00           27614.74   \n",
       "25%   1982.00                  480522.11          338683.24   \n",
       "50%   1995.00                  642156.40          456375.94   \n",
       "75%   2007.00                  885796.16          573673.31   \n",
       "max   2018.00                 3630324.00         1463564.00   \n",
       "\n",
       "       Population urbaine  Taux d'urbanisation  Nombre de ménages ruraux  \\\n",
       "count              512.00               512.00                    512.00   \n",
       "mean            322712.98                30.05                  50814.08   \n",
       "std             550205.13                23.56                  17966.71   \n",
       "min              20054.00                 7.51                   2785.35   \n",
       "25%              82088.50                15.54                  49939.38   \n",
       "50%             137861.49                21.83                  50814.08   \n",
       "75%             259445.00                35.69                  56703.03   \n",
       "max            3499631.00                97.22                 100729.97   \n",
       "\n",
       "       Nombre de ménages urbains  Taille moyenne des ménages  \\\n",
       "count                     512.00                      512.00   \n",
       "mean                    40063.58                        7.91   \n",
       "std                     55553.61                        0.17   \n",
       "min                      3867.33                        7.42   \n",
       "25%                     12643.48                        7.91   \n",
       "50%                     25930.51                        7.91   \n",
       "75%                     40063.58                        7.91   \n",
       "max                    321110.09                        9.20   \n",
       "\n",
       "       Taille moyenne des ménages ruraux  Taille moyenne des ménages urbains  \\\n",
       "count                             512.00                              512.00   \n",
       "mean                                9.19                                7.95   \n",
       "std                                 0.73                                0.69   \n",
       "min                                 7.00                                6.10   \n",
       "25%                                 8.80                                7.69   \n",
       "50%                                 9.19                                7.95   \n",
       "75%                                 9.19                                8.05   \n",
       "max                                11.43                               10.39   \n",
       "\n",
       "       Superficie Perdue  risque déforestation  \n",
       "count             512.00                512.00  \n",
       "mean              554.82                  0.40  \n",
       "std              1161.01                  0.49  \n",
       "min                 0.00                  0.00  \n",
       "25%                 1.02                  0.00  \n",
       "50%                 8.87                  0.00  \n",
       "75%               744.32                  1.00  \n",
       "max             12172.03                  1.00  "
      ]
     },
     "execution_count": 5,
     "metadata": {},
     "output_type": "execute_result"
    }
   ],
   "source": [
    "pd.set_option(\"display.float\", \"{:.2f}\".format)\n",
    "Data_Urbanization_Forest.describe()"
   ]
  },
  {
   "cell_type": "code",
   "execution_count": 6,
   "metadata": {},
   "outputs": [
    {
     "data": {
      "text/plain": [
       "<AxesSubplot:>"
      ]
     },
     "execution_count": 6,
     "metadata": {},
     "output_type": "execute_result"
    },
    {
     "data": {
      "image/png": "[encoded data removed]",
      "text/plain": [
       "<Figure size 432x288 with 1 Axes>"
      ]
     },
     "metadata": {
      "needs_background": "light"
     },
     "output_type": "display_data"
    }
   ],
   "source": [
    "Data_Urbanization_Forest['risque déforestation'].value_counts().plot(kind=\"bar\", color=[\"salmon\", \"lightblue\"])"
   ]
  },
  {
   "cell_type": "code",
   "execution_count": 7,
   "metadata": {},
   "outputs": [
    {
     "data": {
      "text/plain": [
       "region                                0\n",
       "Date                                  0\n",
       "Effectif de la population             0\n",
       "Population rurale                     0\n",
       "Population urbaine                    0\n",
       "Taux d'urbanisation                   0\n",
       "Nombre de ménages ruraux              0\n",
       "Nombre de ménages urbains             0\n",
       "Taille moyenne des ménages            0\n",
       "Taille moyenne des ménages ruraux     0\n",
       "Taille moyenne des ménages urbains    0\n",
       "Superficie Perdue                     0\n",
       "risque déforestation                  0\n",
       "dtype: int64"
      ]
     },
     "execution_count": 7,
     "metadata": {},
     "output_type": "execute_result"
    }
   ],
   "source": [
    "Data_Urbanization_Forest.isna().sum()"
   ]
  },
  {
   "cell_type": "markdown",
   "metadata": {},
   "source": [
    "##### Sélection des variables continues "
   ]
  },
  {
   "cell_type": "code",
   "execution_count": 8,
   "metadata": {},
   "outputs": [
    {
     "data": {
      "text/html": [
       "<div>\n",
       "<style scoped>\n",
       "    .dataframe tbody tr th:only-of-type {\n",
       "        vertical-align: middle;\n",
       "    }\n",
       "\n",
       "    .dataframe tbody tr th {\n",
       "        vertical-align: top;\n",
       "    }\n",
       "\n",
       "    .dataframe thead th {\n",
       "        text-align: right;\n",
       "    }\n",
       "</style>\n",
       "<table border=\"1\" class=\"dataframe\">\n",
       "  <thead>\n",
       "    <tr style=\"text-align: right;\">\n",
       "      <th></th>\n",
       "      <th>Effectif de la population</th>\n",
       "      <th>Population rurale</th>\n",
       "      <th>Population urbaine</th>\n",
       "      <th>Taux d'urbanisation</th>\n",
       "      <th>Nombre de ménages ruraux</th>\n",
       "      <th>Nombre de ménages urbains</th>\n",
       "      <th>Taille moyenne des ménages</th>\n",
       "      <th>Taille moyenne des ménages ruraux</th>\n",
       "      <th>Taille moyenne des ménages urbains</th>\n",
       "      <th>Superficie Perdue</th>\n",
       "      <th>risque déforestation</th>\n",
       "    </tr>\n",
       "  </thead>\n",
       "  <tbody>\n",
       "    <tr>\n",
       "      <th>0</th>\n",
       "      <td>724461.69</td>\n",
       "      <td>27614.74</td>\n",
       "      <td>696846.95</td>\n",
       "      <td>96.19</td>\n",
       "      <td>2785.35</td>\n",
       "      <td>97871.76</td>\n",
       "      <td>7.55</td>\n",
       "      <td>9.91</td>\n",
       "      <td>7.12</td>\n",
       "      <td>3.04</td>\n",
       "      <td>1</td>\n",
       "    </tr>\n",
       "    <tr>\n",
       "      <th>1</th>\n",
       "      <td>759203.25</td>\n",
       "      <td>28805.87</td>\n",
       "      <td>730397.38</td>\n",
       "      <td>96.21</td>\n",
       "      <td>2928.70</td>\n",
       "      <td>101632.29</td>\n",
       "      <td>7.52</td>\n",
       "      <td>9.84</td>\n",
       "      <td>7.19</td>\n",
       "      <td>3.04</td>\n",
       "      <td>1</td>\n",
       "    </tr>\n",
       "    <tr>\n",
       "      <th>2</th>\n",
       "      <td>795610.84</td>\n",
       "      <td>30048.38</td>\n",
       "      <td>765562.46</td>\n",
       "      <td>96.22</td>\n",
       "      <td>3079.63</td>\n",
       "      <td>105546.30</td>\n",
       "      <td>7.48</td>\n",
       "      <td>9.76</td>\n",
       "      <td>7.25</td>\n",
       "      <td>3.04</td>\n",
       "      <td>1</td>\n",
       "    </tr>\n",
       "    <tr>\n",
       "      <th>3</th>\n",
       "      <td>833764.36</td>\n",
       "      <td>31344.49</td>\n",
       "      <td>802419.87</td>\n",
       "      <td>96.24</td>\n",
       "      <td>3238.55</td>\n",
       "      <td>109620.20</td>\n",
       "      <td>7.45</td>\n",
       "      <td>9.68</td>\n",
       "      <td>7.32</td>\n",
       "      <td>3.04</td>\n",
       "      <td>1</td>\n",
       "    </tr>\n",
       "    <tr>\n",
       "      <th>4</th>\n",
       "      <td>873747.53</td>\n",
       "      <td>32696.50</td>\n",
       "      <td>841051.03</td>\n",
       "      <td>96.26</td>\n",
       "      <td>3405.89</td>\n",
       "      <td>114397.58</td>\n",
       "      <td>7.42</td>\n",
       "      <td>9.60</td>\n",
       "      <td>7.35</td>\n",
       "      <td>3.04</td>\n",
       "      <td>1</td>\n",
       "    </tr>\n",
       "  </tbody>\n",
       "</table>\n",
       "</div>"
      ],
      "text/plain": [
       "   Effectif de la population  Population rurale  Population urbaine  \\\n",
       "0                  724461.69           27614.74           696846.95   \n",
       "1                  759203.25           28805.87           730397.38   \n",
       "2                  795610.84           30048.38           765562.46   \n",
       "3                  833764.36           31344.49           802419.87   \n",
       "4                  873747.53           32696.50           841051.03   \n",
       "\n",
       "   Taux d'urbanisation  Nombre de ménages ruraux  Nombre de ménages urbains  \\\n",
       "0                96.19                   2785.35                   97871.76   \n",
       "1                96.21                   2928.70                  101632.29   \n",
       "2                96.22                   3079.63                  105546.30   \n",
       "3                96.24                   3238.55                  109620.20   \n",
       "4                96.26                   3405.89                  114397.58   \n",
       "\n",
       "   Taille moyenne des ménages  Taille moyenne des ménages ruraux  \\\n",
       "0                        7.55                               9.91   \n",
       "1                        7.52                               9.84   \n",
       "2                        7.48                               9.76   \n",
       "3                        7.45                               9.68   \n",
       "4                        7.42                               9.60   \n",
       "\n",
       "   Taille moyenne des ménages urbains  Superficie Perdue  risque déforestation  \n",
       "0                                7.12               3.04                     1  \n",
       "1                                7.19               3.04                     1  \n",
       "2                                7.25               3.04                     1  \n",
       "3                                7.32               3.04                     1  \n",
       "4                                7.35               3.04                     1  "
      ]
     },
     "execution_count": 8,
     "metadata": {},
     "output_type": "execute_result"
    }
   ],
   "source": [
    "Data_Urbanization_Forest = Data_Urbanization_Forest.drop(['region', 'Date'], axis= 1 ) \n",
    "Data_Urbanization_Forest.head()"
   ]
  },
  {
   "cell_type": "markdown",
   "metadata": {},
   "source": [
    "### Matrice de corrélation "
   ]
  },
  {
   "cell_type": "code",
   "execution_count": 9,
   "metadata": {},
   "outputs": [
    {
     "data": {
      "application/javascript": [
       "\n",
       "        if (window._pyforest_update_imports_cell) { window._pyforest_update_imports_cell('import matplotlib.pyplot as plt\\nimport pandas as pd'); }\n",
       "    "
      ],
      "text/plain": [
       "<IPython.core.display.Javascript object>"
      ]
     },
     "metadata": {},
     "output_type": "display_data"
    },
    {
     "data": {
      "application/javascript": [
       "\n",
       "        if (window._pyforest_update_imports_cell) { window._pyforest_update_imports_cell('import matplotlib.pyplot as plt\\nimport pandas as pd\\nimport seaborn as sns'); }\n",
       "    "
      ],
      "text/plain": [
       "<IPython.core.display.Javascript object>"
      ]
     },
     "metadata": {},
     "output_type": "display_data"
    },
    {
     "data": {
      "text/plain": [
       "(11.5, -0.5)"
      ]
     },
     "execution_count": 9,
     "metadata": {},
     "output_type": "execute_result"
    },
    {
     "data": {
      "image/png": "[encoded data removed]",
      "text/plain": [
       "<Figure size 1080x1080 with 2 Axes>"
      ]
     },
     "metadata": {
      "needs_background": "light"
     },
     "output_type": "display_data"
    }
   ],
   "source": [
    "# Let's make our correlation matrix a little prettier\n",
    "corr_matrix = Data_Urbanization_Forest.corr()\n",
    "fig, ax = plt.subplots(figsize=(15, 15))\n",
    "ax = sns.heatmap(corr_matrix,\n",
    "                 annot=True,\n",
    "                 linewidths=0.5,\n",
    "                 fmt=\".2f\",\n",
    "                 cmap=\"coolwarm\");\n",
    "bottom, top = ax.get_ylim()\n",
    "ax.set_ylim(bottom + 0.5, top - 0.5)"
   ]
  },
  {
   "cell_type": "code",
   "execution_count": 10,
   "metadata": {},
   "outputs": [
    {
     "data": {
      "text/plain": [
       "<AxesSubplot:title={'center':'Correlation avec la variable risque_déforestation'}>"
      ]
     },
     "execution_count": 10,
     "metadata": {},
     "output_type": "execute_result"
    },
    {
     "data": {
      "image/png": "[encoded data removed]",
      "text/plain": [
       "<Figure size 864x576 with 1 Axes>"
      ]
     },
     "metadata": {
      "needs_background": "light"
     },
     "output_type": "display_data"
    }
   ],
   "source": [
    "Data_Urbanization_Forest.drop('risque déforestation', axis=1).corrwith(Data_Urbanization_Forest['risque déforestation']).plot(kind='bar', grid=True, figsize=(12, 8), \n",
    "                                                   title=\"Correlation avec la variable risque_déforestation\")"
   ]
  },
  {
   "cell_type": "markdown",
   "metadata": {},
   "source": [
    "##### Commentaires"
   ]
  },
  {
   "cell_type": "markdown",
   "metadata": {},
   "source": [
    "- On voit les variables 'Population rurale', 'Population urbaine', 'Taux d'urbanisation', 'Nombre de ménages urbains' et 'Superficie Perdue' sont plus correlées avec la variable 'risque_déforestation' contrairement aux autres.\n",
    "\n",
    "- Donc les variables citées ci-dessus sont considérées comme de bons prédicteurs.  "
   ]
  },
  {
   "cell_type": "markdown",
   "metadata": {},
   "source": [
    "##### Sélection des variables les plus  corrélées avec la variable cible"
   ]
  },
  {
   "cell_type": "code",
   "execution_count": 11,
   "metadata": {},
   "outputs": [],
   "source": [
    "Selected_columns = ['Population urbaine',\n",
    "       \"Taux d'urbanisation\", 'Nombre de ménages urbains', 'Superficie Perdue','risque déforestation']"
   ]
  },
  {
   "cell_type": "code",
   "execution_count": 12,
   "metadata": {},
   "outputs": [],
   "source": [
    "Data_Urbanization_Forest = Data_Urbanization_Forest[Selected_columns]"
   ]
  },
  {
   "cell_type": "markdown",
   "metadata": {},
   "source": [
    "### Transformation des données "
   ]
  },
  {
   "cell_type": "code",
   "execution_count": 13,
   "metadata": {},
   "outputs": [],
   "source": [
    "X = Data_Urbanization_Forest.drop(['risque déforestation'], axis  = 1 ) \n",
    "y = Data_Urbanization_Forest['risque déforestation']"
   ]
  },
  {
   "cell_type": "code",
   "execution_count": 14,
   "metadata": {},
   "outputs": [],
   "source": [
    "# from sklearn.preprocessing import StandardScaler\n",
    "# s_sc = StandardScaler()\n",
    "# X = s_sc.fit_transform(X)"
   ]
  },
  {
   "cell_type": "markdown",
   "metadata": {},
   "source": [
    "### Fractionner les données "
   ]
  },
  {
   "cell_type": "code",
   "execution_count": 15,
   "metadata": {},
   "outputs": [
    {
     "data": {
      "application/javascript": [
       "\n",
       "        if (window._pyforest_update_imports_cell) { window._pyforest_update_imports_cell('from sklearn.model_selection import train_test_split\\nimport matplotlib.pyplot as plt\\nimport pandas as pd\\nimport seaborn as sns'); }\n",
       "    "
      ],
      "text/plain": [
       "<IPython.core.display.Javascript object>"
      ]
     },
     "metadata": {},
     "output_type": "display_data"
    }
   ],
   "source": [
    "X_train, X_test, y_train, y_test = train_test_split(X, y, test_size=0.3, random_state=0)"
   ]
  },
  {
   "cell_type": "markdown",
   "metadata": {},
   "source": [
    "### Application de la méthode RandomForest sur les données"
   ]
  },
  {
   "cell_type": "code",
   "execution_count": 16,
   "metadata": {},
   "outputs": [],
   "source": [
    "from sklearn.metrics import accuracy_score, confusion_matrix, classification_report\n",
    "\n",
    "def print_score(clf, X_train, y_train, X_test, y_test, train=True):\n",
    "    if train:\n",
    "        pred = clf.predict(X_train)\n",
    "#         clf_report = pd.DataFrame(classification_report(y_train, pred, output_dict=True))\n",
    "        print(\"Train Result:\\n================================================\")\n",
    "        print(f\"Accuracy Score: {accuracy_score(y_train, pred) * 100:.2f}%\")\n",
    "#         print(\"_______________________________________________\")\n",
    "#         print(f\"CLASSIFICATION REPORT:\\n{clf_report}\")\n",
    "        print(\"_______________________________________________\")\n",
    "        print(f\"Confusion Matrix: \\n {confusion_matrix(y_train, pred)}\\n\")\n",
    "        \n",
    "    elif train==False:\n",
    "        pred = clf.predict(X_test)\n",
    "#         clf_report = pd.DataFrame(classification_report(y_test, pred, output_dict=True))\n",
    "        print(\"Test Result:\\n================================================\")        \n",
    "        print(f\"Accuracy Score: {accuracy_score(y_test, pred) * 100:.2f}%\")\n",
    "#         print(\"_______________________________________________\")\n",
    "#         print(f\"CLASSIFICATION REPORT:\\n{clf_report}\")\n",
    "        print(\"_______________________________________________\")\n",
    "        print(f\"Confusion Matrix: \\n {confusion_matrix(y_test, pred)}\\n\")"
   ]
  },
  {
   "cell_type": "markdown",
   "metadata": {},
   "source": [
    "##### Trouver les paramètres optimaux"
   ]
  },
  {
   "cell_type": "code",
   "execution_count": 17,
   "metadata": {},
   "outputs": [
    {
     "data": {
      "application/javascript": [
       "\n",
       "        if (window._pyforest_update_imports_cell) { window._pyforest_update_imports_cell('from sklearn.ensemble import RandomForestClassifier\\nimport matplotlib.pyplot as plt\\nimport seaborn as sns\\nfrom sklearn.model_selection import train_test_split\\nimport pandas as pd'); }\n",
       "    "
      ],
      "text/plain": [
       "<IPython.core.display.Javascript object>"
      ]
     },
     "metadata": {},
     "output_type": "display_data"
    }
   ],
   "source": [
    "rfc =RandomForestClassifier(random_state=42)"
   ]
  },
  {
   "cell_type": "code",
   "execution_count": 19,
   "metadata": {},
   "outputs": [],
   "source": [
    "param_grid = { \n",
    "    'n_estimators': [200, 500],\n",
    "    'max_features': ['auto', 'sqrt', 'log2'],\n",
    "    'max_depth' : [4,5,6,7,8],\n",
    "    'criterion' :['gini', 'entropy']\n",
    "}"
   ]
  },
  {
   "cell_type": "code",
   "execution_count": 24,
   "metadata": {},
   "outputs": [
    {
     "data": {
      "text/plain": [
       "GridSearchCV(cv=5, error_score=nan,\n",
       "             estimator=RandomForestClassifier(bootstrap=True, ccp_alpha=0.0,\n",
       "                                              class_weight=None,\n",
       "                                              criterion='gini', max_depth=None,\n",
       "                                              max_features='auto',\n",
       "                                              max_leaf_nodes=None,\n",
       "                                              max_samples=None,\n",
       "                                              min_impurity_decrease=0.0,\n",
       "                                              min_impurity_split=None,\n",
       "                                              min_samples_leaf=1,\n",
       "                                              min_samples_split=2,\n",
       "                                              min_weight_fraction_leaf=0.0,\n",
       "                                              n_estimators=100, n_jobs=None,\n",
       "                                              oob_score=False, random_state=42,\n",
       "                                              verbose=0, warm_start=False),\n",
       "             iid='deprecated', n_jobs=None,\n",
       "             param_grid={'criterion': ['gini', 'entropy'],\n",
       "                         'max_depth': [4, 5, 6, 7, 8],\n",
       "                         'max_features': ['auto', 'sqrt', 'log2'],\n",
       "                         'n_estimators': [200, 500]},\n",
       "             pre_dispatch='2*n_jobs', refit=True, return_train_score=False,\n",
       "             scoring=None, verbose=0)"
      ]
     },
     "execution_count": 24,
     "metadata": {},
     "output_type": "execute_result"
    }
   ],
   "source": [
    "CV_rfc = GridSearchCV(estimator=rfc, param_grid=param_grid, cv= 5)\n",
    "CV_rfc.fit(X_train, y_train)"
   ]
  },
  {
   "cell_type": "code",
   "execution_count": 25,
   "metadata": {},
   "outputs": [
    {
     "data": {
      "text/plain": [
       "{'criterion': 'gini',\n",
       " 'max_depth': 5,\n",
       " 'max_features': 'auto',\n",
       " 'n_estimators': 200}"
      ]
     },
     "execution_count": 25,
     "metadata": {},
     "output_type": "execute_result"
    }
   ],
   "source": [
    "CV_rfc.best_params_"
   ]
  },
  {
   "cell_type": "markdown",
   "metadata": {},
   "source": [
    "##### Application du modèle avec les paramètres optimaux obtenus"
   ]
  },
  {
   "cell_type": "code",
   "execution_count": 26,
   "metadata": {},
   "outputs": [
    {
     "data": {
      "application/javascript": [
       "\n",
       "        if (window._pyforest_update_imports_cell) { window._pyforest_update_imports_cell('from sklearn.ensemble import RandomForestClassifier\\nimport matplotlib.pyplot as plt\\nimport seaborn as sns\\nfrom sklearn.model_selection import train_test_split\\nimport pandas as pd'); }\n",
       "    "
      ],
      "text/plain": [
       "<IPython.core.display.Javascript object>"
      ]
     },
     "metadata": {},
     "output_type": "display_data"
    },
    {
     "data": {
      "text/plain": [
       "RandomForestClassifier(bootstrap=True, ccp_alpha=0.0, class_weight=None,\n",
       "                       criterion='gini', max_depth=5, max_features='auto',\n",
       "                       max_leaf_nodes=None, max_samples=None,\n",
       "                       min_impurity_decrease=0.0, min_impurity_split=None,\n",
       "                       min_samples_leaf=1, min_samples_split=2,\n",
       "                       min_weight_fraction_leaf=0.0, n_estimators=200,\n",
       "                       n_jobs=None, oob_score=False, random_state=42, verbose=0,\n",
       "                       warm_start=False)"
      ]
     },
     "execution_count": 26,
     "metadata": {},
     "output_type": "execute_result"
    }
   ],
   "source": [
    "rfc1=RandomForestClassifier(random_state=42, max_features='auto', n_estimators= 200, \n",
    "                            max_depth=5, criterion='gini')\n",
    "rfc1.fit(X_train, y_train)"
   ]
  },
  {
   "cell_type": "code",
   "execution_count": 27,
   "metadata": {},
   "outputs": [
    {
     "name": "stdout",
     "output_type": "stream",
     "text": [
      "Train Result:\n",
      "================================================\n",
      "Accuracy Score: 99.44%\n",
      "_______________________________________________\n",
      "Confusion Matrix: \n",
      " [[216   0]\n",
      " [  2 140]]\n",
      "\n",
      "Test Result:\n",
      "================================================\n",
      "Accuracy Score: 93.51%\n",
      "_______________________________________________\n",
      "Confusion Matrix: \n",
      " [[87  3]\n",
      " [ 7 57]]\n",
      "\n"
     ]
    }
   ],
   "source": [
    "print_score(rfc1, X_train, y_train, X_test, y_test, train=True)\n",
    "print_score(rfc1, X_train, y_train, X_test, y_test, train=False)"
   ]
  },
  {
   "cell_type": "markdown",
   "metadata": {},
   "source": [
    "##### Prédiction"
   ]
  },
  {
   "cell_type": "code",
   "execution_count": 28,
   "metadata": {},
   "outputs": [],
   "source": [
    "def Prédiction(Value): \n",
    "    if Value == [1]: \n",
    "        print('PREDICTION : \\n La région est fortement menacée par la déforestation')\n",
    "    else:\n",
    "        print('PREDICTION : \\n La région est faiblement menacée par la déforestation')"
   ]
  },
  {
   "cell_type": "code",
   "execution_count": 29,
   "metadata": {},
   "outputs": [
    {
     "name": "stdout",
     "output_type": "stream",
     "text": [
      "PREDICTION : \n",
      " La région est faiblement menacée par la déforestation\n"
     ]
    }
   ],
   "source": [
    "Value = rfc1.predict([[213312.93, 24.78, 4983.11, 8.87]])\n",
    "Prédiction(Value)"
   ]
  },
  {
   "cell_type": "code",
   "execution_count": null,
   "metadata": {},
   "outputs": [],
   "source": []
  }
 ],
 "metadata": {
  "kernelspec": {
   "display_name": "Python 3",
   "language": "python",
   "name": "python3"
  },
  "language_info": {
   "codemirror_mode": {
    "name": "ipython",
    "version": 3
   },
   "file_extension": ".py",
   "mimetype": "text/x-python",
   "name": "python",
   "nbconvert_exporter": "python",
   "pygments_lexer": "ipython3",
   "version": "3.7.10"
  }
 },
 "nbformat": 4,
 "nbformat_minor": 4
}
