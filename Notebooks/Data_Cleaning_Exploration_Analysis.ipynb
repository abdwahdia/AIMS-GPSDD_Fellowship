{
 "cells": [
  {
   "cell_type": "markdown",
   "metadata": {},
   "source": [
    "### Importer les packages à utiliser et les données sur l'agriculture"
   ]
  },
  {
   "cell_type": "code",
   "execution_count": 29,
   "metadata": {},
   "outputs": [],
   "source": [
    "import pyforest \n",
    "from Utils import Remove \n",
    "import warnings\n",
    "warnings.filterwarnings('ignore')"
   ]
  },
  {
   "cell_type": "code",
   "execution_count": 30,
   "metadata": {},
   "outputs": [
    {
     "data": {
      "application/javascript": [
       "\n",
       "        if (window._pyforest_update_imports_cell) { window._pyforest_update_imports_cell('import numpy as np\\nimport pandas as pd\\nimport matplotlib.pyplot as plt'); }\n",
       "    "
      ],
      "text/plain": [
       "<IPython.core.display.Javascript object>"
      ]
     },
     "metadata": {},
     "output_type": "display_data"
    }
   ],
   "source": [
    "Agriculture_Data = pd.read_csv('data/Agriculture_Data.csv')"
   ]
  },
  {
   "cell_type": "code",
   "execution_count": 31,
   "metadata": {},
   "outputs": [
    {
     "data": {
      "text/html": [
       "<div>\n",
       "<style scoped>\n",
       "    .dataframe tbody tr th:only-of-type {\n",
       "        vertical-align: middle;\n",
       "    }\n",
       "\n",
       "    .dataframe tbody tr th {\n",
       "        vertical-align: top;\n",
       "    }\n",
       "\n",
       "    .dataframe thead th {\n",
       "        text-align: right;\n",
       "    }\n",
       "</style>\n",
       "<table border=\"1\" class=\"dataframe\">\n",
       "  <thead>\n",
       "    <tr style=\"text-align: right;\">\n",
       "      <th></th>\n",
       "      <th>region</th>\n",
       "      <th>indicateur</th>\n",
       "      <th>Unit</th>\n",
       "      <th>Date</th>\n",
       "      <th>Value</th>\n",
       "    </tr>\n",
       "  </thead>\n",
       "  <tbody>\n",
       "    <tr>\n",
       "      <th>0</th>\n",
       "      <td>Dakar</td>\n",
       "      <td>Superficie moyenne des parcelles par ménage (Ha)</td>\n",
       "      <td>Ha</td>\n",
       "      <td>2017</td>\n",
       "      <td>0.462637</td>\n",
       "    </tr>\n",
       "    <tr>\n",
       "      <th>1</th>\n",
       "      <td>Dakar</td>\n",
       "      <td>Superficie moyenne des parcelles par ménage (Ha)</td>\n",
       "      <td>Ha</td>\n",
       "      <td>2018</td>\n",
       "      <td>0.465369</td>\n",
       "    </tr>\n",
       "    <tr>\n",
       "      <th>2</th>\n",
       "      <td>Dakar</td>\n",
       "      <td>Ménages exploitant 3 à 5 parcelles (%)</td>\n",
       "      <td>%</td>\n",
       "      <td>2018</td>\n",
       "      <td>0.000000</td>\n",
       "    </tr>\n",
       "    <tr>\n",
       "      <th>3</th>\n",
       "      <td>Dakar</td>\n",
       "      <td>Ménages exploitant moins de 3 parcelles (%)</td>\n",
       "      <td>%</td>\n",
       "      <td>2017</td>\n",
       "      <td>96.799999</td>\n",
       "    </tr>\n",
       "    <tr>\n",
       "      <th>4</th>\n",
       "      <td>Dakar</td>\n",
       "      <td>Ménages exploitant moins de 3 parcelles (%)</td>\n",
       "      <td>%</td>\n",
       "      <td>2018</td>\n",
       "      <td>100.000000</td>\n",
       "    </tr>\n",
       "  </tbody>\n",
       "</table>\n",
       "</div>"
      ],
      "text/plain": [
       "  region                                        indicateur Unit  Date  \\\n",
       "0  Dakar  Superficie moyenne des parcelles par ménage (Ha)   Ha  2017   \n",
       "1  Dakar  Superficie moyenne des parcelles par ménage (Ha)   Ha  2018   \n",
       "2  Dakar            Ménages exploitant 3 à 5 parcelles (%)    %  2018   \n",
       "3  Dakar       Ménages exploitant moins de 3 parcelles (%)    %  2017   \n",
       "4  Dakar       Ménages exploitant moins de 3 parcelles (%)    %  2018   \n",
       "\n",
       "        Value  \n",
       "0    0.462637  \n",
       "1    0.465369  \n",
       "2    0.000000  \n",
       "3   96.799999  \n",
       "4  100.000000  "
      ]
     },
     "execution_count": 31,
     "metadata": {},
     "output_type": "execute_result"
    }
   ],
   "source": [
    "Agriculture_Data.head()"
   ]
  },
  {
   "cell_type": "markdown",
   "metadata": {},
   "source": [
    "### Lecture et transformation des données sur l'agriculture "
   ]
  },
  {
   "cell_type": "markdown",
   "metadata": {},
   "source": [
    "##### Ménages exploitant moins de 3 parcelles pour toutes les régions "
   ]
  },
  {
   "cell_type": "code",
   "execution_count": 32,
   "metadata": {},
   "outputs": [
    {
     "data": {
      "text/html": [
       "<div>\n",
       "<style scoped>\n",
       "    .dataframe tbody tr th:only-of-type {\n",
       "        vertical-align: middle;\n",
       "    }\n",
       "\n",
       "    .dataframe tbody tr th {\n",
       "        vertical-align: top;\n",
       "    }\n",
       "\n",
       "    .dataframe thead th {\n",
       "        text-align: right;\n",
       "    }\n",
       "</style>\n",
       "<table border=\"1\" class=\"dataframe\">\n",
       "  <thead>\n",
       "    <tr style=\"text-align: right;\">\n",
       "      <th></th>\n",
       "      <th>region</th>\n",
       "      <th>indicateur</th>\n",
       "      <th>Unit</th>\n",
       "      <th>Date</th>\n",
       "      <th>Value</th>\n",
       "    </tr>\n",
       "  </thead>\n",
       "  <tbody>\n",
       "    <tr>\n",
       "      <th>0</th>\n",
       "      <td>Dakar</td>\n",
       "      <td>Ménages exploitant moins de 3 parcelles (%)</td>\n",
       "      <td>%</td>\n",
       "      <td>2017</td>\n",
       "      <td>96.799999</td>\n",
       "    </tr>\n",
       "    <tr>\n",
       "      <th>1</th>\n",
       "      <td>Dakar</td>\n",
       "      <td>Ménages exploitant moins de 3 parcelles (%)</td>\n",
       "      <td>%</td>\n",
       "      <td>2018</td>\n",
       "      <td>100.000000</td>\n",
       "    </tr>\n",
       "    <tr>\n",
       "      <th>2</th>\n",
       "      <td>Diourbel</td>\n",
       "      <td>Ménages exploitant moins de 3 parcelles (%)</td>\n",
       "      <td>%</td>\n",
       "      <td>2017</td>\n",
       "      <td>12.540621</td>\n",
       "    </tr>\n",
       "    <tr>\n",
       "      <th>3</th>\n",
       "      <td>Diourbel</td>\n",
       "      <td>Ménages exploitant moins de 3 parcelles (%)</td>\n",
       "      <td>%</td>\n",
       "      <td>2018</td>\n",
       "      <td>25.740260</td>\n",
       "    </tr>\n",
       "    <tr>\n",
       "      <th>4</th>\n",
       "      <td>Fatick</td>\n",
       "      <td>Ménages exploitant moins de 3 parcelles (%)</td>\n",
       "      <td>%</td>\n",
       "      <td>2017</td>\n",
       "      <td>37.248814</td>\n",
       "    </tr>\n",
       "  </tbody>\n",
       "</table>\n",
       "</div>"
      ],
      "text/plain": [
       "     region                                   indicateur Unit  Date  \\\n",
       "0     Dakar  Ménages exploitant moins de 3 parcelles (%)    %  2017   \n",
       "1     Dakar  Ménages exploitant moins de 3 parcelles (%)    %  2018   \n",
       "2  Diourbel  Ménages exploitant moins de 3 parcelles (%)    %  2017   \n",
       "3  Diourbel  Ménages exploitant moins de 3 parcelles (%)    %  2018   \n",
       "4    Fatick  Ménages exploitant moins de 3 parcelles (%)    %  2017   \n",
       "\n",
       "        Value  \n",
       "0   96.799999  \n",
       "1  100.000000  \n",
       "2   12.540621  \n",
       "3   25.740260  \n",
       "4   37.248814  "
      ]
     },
     "execution_count": 32,
     "metadata": {},
     "output_type": "execute_result"
    }
   ],
   "source": [
    "data1 = Agriculture_Data.loc[Agriculture_Data['indicateur'] == 'Ménages exploitant moins de 3 parcelles (%)'].reset_index(drop = True)\n",
    "data1.head()"
   ]
  },
  {
   "cell_type": "code",
   "execution_count": 33,
   "metadata": {},
   "outputs": [],
   "source": [
    "data1 = data1[['region', 'Date', 'Value']].reset_index(drop = True)"
   ]
  },
  {
   "cell_type": "markdown",
   "metadata": {},
   "source": [
    "##### Ménages exploitant 3 à 5 parcelles pour toutes les régions "
   ]
  },
  {
   "cell_type": "code",
   "execution_count": 34,
   "metadata": {},
   "outputs": [
    {
     "data": {
      "text/html": [
       "<div>\n",
       "<style scoped>\n",
       "    .dataframe tbody tr th:only-of-type {\n",
       "        vertical-align: middle;\n",
       "    }\n",
       "\n",
       "    .dataframe tbody tr th {\n",
       "        vertical-align: top;\n",
       "    }\n",
       "\n",
       "    .dataframe thead th {\n",
       "        text-align: right;\n",
       "    }\n",
       "</style>\n",
       "<table border=\"1\" class=\"dataframe\">\n",
       "  <thead>\n",
       "    <tr style=\"text-align: right;\">\n",
       "      <th></th>\n",
       "      <th>region</th>\n",
       "      <th>indicateur</th>\n",
       "      <th>Unit</th>\n",
       "      <th>Date</th>\n",
       "      <th>Value</th>\n",
       "    </tr>\n",
       "  </thead>\n",
       "  <tbody>\n",
       "    <tr>\n",
       "      <th>2</th>\n",
       "      <td>Dakar</td>\n",
       "      <td>Ménages exploitant 3 à 5 parcelles (%)</td>\n",
       "      <td>%</td>\n",
       "      <td>2018</td>\n",
       "      <td>0.000000</td>\n",
       "    </tr>\n",
       "    <tr>\n",
       "      <th>12</th>\n",
       "      <td>Diourbel</td>\n",
       "      <td>Ménages exploitant 3 à 5 parcelles (%)</td>\n",
       "      <td>%</td>\n",
       "      <td>2017</td>\n",
       "      <td>64.680761</td>\n",
       "    </tr>\n",
       "    <tr>\n",
       "      <th>13</th>\n",
       "      <td>Diourbel</td>\n",
       "      <td>Ménages exploitant 3 à 5 parcelles (%)</td>\n",
       "      <td>%</td>\n",
       "      <td>2018</td>\n",
       "      <td>57.751203</td>\n",
       "    </tr>\n",
       "    <tr>\n",
       "      <th>24</th>\n",
       "      <td>Fatick</td>\n",
       "      <td>Ménages exploitant 3 à 5 parcelles (%)</td>\n",
       "      <td>%</td>\n",
       "      <td>2017</td>\n",
       "      <td>52.979088</td>\n",
       "    </tr>\n",
       "    <tr>\n",
       "      <th>25</th>\n",
       "      <td>Fatick</td>\n",
       "      <td>Ménages exploitant 3 à 5 parcelles (%)</td>\n",
       "      <td>%</td>\n",
       "      <td>2018</td>\n",
       "      <td>38.961223</td>\n",
       "    </tr>\n",
       "  </tbody>\n",
       "</table>\n",
       "</div>"
      ],
      "text/plain": [
       "      region                              indicateur Unit  Date      Value\n",
       "2      Dakar  Ménages exploitant 3 à 5 parcelles (%)    %  2018   0.000000\n",
       "12  Diourbel  Ménages exploitant 3 à 5 parcelles (%)    %  2017  64.680761\n",
       "13  Diourbel  Ménages exploitant 3 à 5 parcelles (%)    %  2018  57.751203\n",
       "24    Fatick  Ménages exploitant 3 à 5 parcelles (%)    %  2017  52.979088\n",
       "25    Fatick  Ménages exploitant 3 à 5 parcelles (%)    %  2018  38.961223"
      ]
     },
     "execution_count": 34,
     "metadata": {},
     "output_type": "execute_result"
    }
   ],
   "source": [
    "data2 = Agriculture_Data.loc[Agriculture_Data['indicateur'] == 'Ménages exploitant 3 à 5 parcelles (%)']\n",
    "data2.head()"
   ]
  },
  {
   "cell_type": "code",
   "execution_count": 35,
   "metadata": {},
   "outputs": [
    {
     "data": {
      "application/javascript": [
       "\n",
       "        if (window._pyforest_update_imports_cell) { window._pyforest_update_imports_cell('import numpy as np\\nimport pandas as pd\\nimport matplotlib.pyplot as plt'); }\n",
       "    "
      ],
      "text/plain": [
       "<IPython.core.display.Javascript object>"
      ]
     },
     "metadata": {},
     "output_type": "display_data"
    }
   ],
   "source": [
    "R = list(np.arange(28))\n",
    "R = Remove(R,[0,19])\n",
    "data2 = data2[['Value']]\n",
    "data2.index = R"
   ]
  },
  {
   "cell_type": "markdown",
   "metadata": {},
   "source": [
    "##### Ménages exploitant plus de 6 parcelles pour toutes les régions "
   ]
  },
  {
   "cell_type": "code",
   "execution_count": 36,
   "metadata": {},
   "outputs": [
    {
     "data": {
      "text/html": [
       "<div>\n",
       "<style scoped>\n",
       "    .dataframe tbody tr th:only-of-type {\n",
       "        vertical-align: middle;\n",
       "    }\n",
       "\n",
       "    .dataframe tbody tr th {\n",
       "        vertical-align: top;\n",
       "    }\n",
       "\n",
       "    .dataframe thead th {\n",
       "        text-align: right;\n",
       "    }\n",
       "</style>\n",
       "<table border=\"1\" class=\"dataframe\">\n",
       "  <thead>\n",
       "    <tr style=\"text-align: right;\">\n",
       "      <th></th>\n",
       "      <th>region</th>\n",
       "      <th>indicateur</th>\n",
       "      <th>Unit</th>\n",
       "      <th>Date</th>\n",
       "      <th>Value</th>\n",
       "    </tr>\n",
       "  </thead>\n",
       "  <tbody>\n",
       "    <tr>\n",
       "      <th>5</th>\n",
       "      <td>Dakar</td>\n",
       "      <td>Ménages exploitant plus de 6 parcelles (%)</td>\n",
       "      <td>%</td>\n",
       "      <td>2018</td>\n",
       "      <td>0.000000</td>\n",
       "    </tr>\n",
       "    <tr>\n",
       "      <th>16</th>\n",
       "      <td>Diourbel</td>\n",
       "      <td>Ménages exploitant plus de 6 parcelles (%)</td>\n",
       "      <td>%</td>\n",
       "      <td>2017</td>\n",
       "      <td>22.778620</td>\n",
       "    </tr>\n",
       "    <tr>\n",
       "      <th>17</th>\n",
       "      <td>Diourbel</td>\n",
       "      <td>Ménages exploitant plus de 6 parcelles (%)</td>\n",
       "      <td>%</td>\n",
       "      <td>2018</td>\n",
       "      <td>16.508539</td>\n",
       "    </tr>\n",
       "    <tr>\n",
       "      <th>28</th>\n",
       "      <td>Fatick</td>\n",
       "      <td>Ménages exploitant plus de 6 parcelles (%)</td>\n",
       "      <td>%</td>\n",
       "      <td>2017</td>\n",
       "      <td>9.772102</td>\n",
       "    </tr>\n",
       "    <tr>\n",
       "      <th>29</th>\n",
       "      <td>Fatick</td>\n",
       "      <td>Ménages exploitant plus de 6 parcelles (%)</td>\n",
       "      <td>%</td>\n",
       "      <td>2018</td>\n",
       "      <td>9.772102</td>\n",
       "    </tr>\n",
       "  </tbody>\n",
       "</table>\n",
       "</div>"
      ],
      "text/plain": [
       "      region                                  indicateur Unit  Date      Value\n",
       "5      Dakar  Ménages exploitant plus de 6 parcelles (%)    %  2018   0.000000\n",
       "16  Diourbel  Ménages exploitant plus de 6 parcelles (%)    %  2017  22.778620\n",
       "17  Diourbel  Ménages exploitant plus de 6 parcelles (%)    %  2018  16.508539\n",
       "28    Fatick  Ménages exploitant plus de 6 parcelles (%)    %  2017   9.772102\n",
       "29    Fatick  Ménages exploitant plus de 6 parcelles (%)    %  2018   9.772102"
      ]
     },
     "execution_count": 36,
     "metadata": {},
     "output_type": "execute_result"
    }
   ],
   "source": [
    "data3 = Agriculture_Data.loc[Agriculture_Data['indicateur'] == 'Ménages exploitant plus de 6 parcelles (%)']\n",
    "data3.head()"
   ]
  },
  {
   "cell_type": "code",
   "execution_count": 37,
   "metadata": {},
   "outputs": [
    {
     "data": {
      "application/javascript": [
       "\n",
       "        if (window._pyforest_update_imports_cell) { window._pyforest_update_imports_cell('import numpy as np\\nimport pandas as pd\\nimport matplotlib.pyplot as plt'); }\n",
       "    "
      ],
      "text/plain": [
       "<IPython.core.display.Javascript object>"
      ]
     },
     "metadata": {},
     "output_type": "display_data"
    }
   ],
   "source": [
    "R = list(np.arange(28))\n",
    "R = Remove(R,[0,10,11, 16])\n",
    "data3 = data3[['Value']]\n",
    "data3.index = R"
   ]
  },
  {
   "cell_type": "markdown",
   "metadata": {},
   "source": [
    "##### Nombre moyen de parcelles par ménage pour toutes les régions "
   ]
  },
  {
   "cell_type": "code",
   "execution_count": 38,
   "metadata": {},
   "outputs": [
    {
     "data": {
      "text/html": [
       "<div>\n",
       "<style scoped>\n",
       "    .dataframe tbody tr th:only-of-type {\n",
       "        vertical-align: middle;\n",
       "    }\n",
       "\n",
       "    .dataframe tbody tr th {\n",
       "        vertical-align: top;\n",
       "    }\n",
       "\n",
       "    .dataframe thead th {\n",
       "        text-align: right;\n",
       "    }\n",
       "</style>\n",
       "<table border=\"1\" class=\"dataframe\">\n",
       "  <thead>\n",
       "    <tr style=\"text-align: right;\">\n",
       "      <th></th>\n",
       "      <th>region</th>\n",
       "      <th>indicateur</th>\n",
       "      <th>Unit</th>\n",
       "      <th>Date</th>\n",
       "      <th>Value</th>\n",
       "    </tr>\n",
       "  </thead>\n",
       "  <tbody>\n",
       "    <tr>\n",
       "      <th>0</th>\n",
       "      <td>Dakar</td>\n",
       "      <td>Nombre moyen de parcelles par ménage</td>\n",
       "      <td>Unités</td>\n",
       "      <td>2017</td>\n",
       "      <td>1.208000</td>\n",
       "    </tr>\n",
       "    <tr>\n",
       "      <th>1</th>\n",
       "      <td>Dakar</td>\n",
       "      <td>Nombre moyen de parcelles par ménage</td>\n",
       "      <td>Unités</td>\n",
       "      <td>2018</td>\n",
       "      <td>1.041970</td>\n",
       "    </tr>\n",
       "    <tr>\n",
       "      <th>2</th>\n",
       "      <td>Diourbel</td>\n",
       "      <td>Nombre moyen de parcelles par ménage</td>\n",
       "      <td>Unités</td>\n",
       "      <td>2017</td>\n",
       "      <td>4.337563</td>\n",
       "    </tr>\n",
       "    <tr>\n",
       "      <th>3</th>\n",
       "      <td>Diourbel</td>\n",
       "      <td>Nombre moyen de parcelles par ménage</td>\n",
       "      <td>Unités</td>\n",
       "      <td>2018</td>\n",
       "      <td>3.816028</td>\n",
       "    </tr>\n",
       "    <tr>\n",
       "      <th>4</th>\n",
       "      <td>Fatick</td>\n",
       "      <td>Nombre moyen de parcelles par ménage</td>\n",
       "      <td>Unités</td>\n",
       "      <td>2017</td>\n",
       "      <td>3.295946</td>\n",
       "    </tr>\n",
       "  </tbody>\n",
       "</table>\n",
       "</div>"
      ],
      "text/plain": [
       "     region                            indicateur    Unit  Date     Value\n",
       "0     Dakar  Nombre moyen de parcelles par ménage  Unités  2017  1.208000\n",
       "1     Dakar  Nombre moyen de parcelles par ménage  Unités  2018  1.041970\n",
       "2  Diourbel  Nombre moyen de parcelles par ménage  Unités  2017  4.337563\n",
       "3  Diourbel  Nombre moyen de parcelles par ménage  Unités  2018  3.816028\n",
       "4    Fatick  Nombre moyen de parcelles par ménage  Unités  2017  3.295946"
      ]
     },
     "execution_count": 38,
     "metadata": {},
     "output_type": "execute_result"
    }
   ],
   "source": [
    "data4 = Agriculture_Data.loc[Agriculture_Data['indicateur'] == 'Nombre moyen de parcelles par ménage'].reset_index(drop = True)\n",
    "data4.head()"
   ]
  },
  {
   "cell_type": "code",
   "execution_count": 39,
   "metadata": {},
   "outputs": [],
   "source": [
    "data4 = data4[['Value']].reset_index(drop = True)"
   ]
  },
  {
   "cell_type": "markdown",
   "metadata": {},
   "source": [
    "##### Superficie moyenne des parcelles par ménage pour toutes les régions "
   ]
  },
  {
   "cell_type": "code",
   "execution_count": 40,
   "metadata": {},
   "outputs": [
    {
     "data": {
      "text/html": [
       "<div>\n",
       "<style scoped>\n",
       "    .dataframe tbody tr th:only-of-type {\n",
       "        vertical-align: middle;\n",
       "    }\n",
       "\n",
       "    .dataframe tbody tr th {\n",
       "        vertical-align: top;\n",
       "    }\n",
       "\n",
       "    .dataframe thead th {\n",
       "        text-align: right;\n",
       "    }\n",
       "</style>\n",
       "<table border=\"1\" class=\"dataframe\">\n",
       "  <thead>\n",
       "    <tr style=\"text-align: right;\">\n",
       "      <th></th>\n",
       "      <th>region</th>\n",
       "      <th>indicateur</th>\n",
       "      <th>Unit</th>\n",
       "      <th>Date</th>\n",
       "      <th>Value</th>\n",
       "    </tr>\n",
       "  </thead>\n",
       "  <tbody>\n",
       "    <tr>\n",
       "      <th>0</th>\n",
       "      <td>Dakar</td>\n",
       "      <td>Superficie moyenne des parcelles par ménage (Ha)</td>\n",
       "      <td>Ha</td>\n",
       "      <td>2017</td>\n",
       "      <td>0.462637</td>\n",
       "    </tr>\n",
       "    <tr>\n",
       "      <th>1</th>\n",
       "      <td>Dakar</td>\n",
       "      <td>Superficie moyenne des parcelles par ménage (Ha)</td>\n",
       "      <td>Ha</td>\n",
       "      <td>2018</td>\n",
       "      <td>0.465369</td>\n",
       "    </tr>\n",
       "    <tr>\n",
       "      <th>2</th>\n",
       "      <td>Diourbel</td>\n",
       "      <td>Superficie moyenne des parcelles par ménage (Ha)</td>\n",
       "      <td>Ha</td>\n",
       "      <td>2017</td>\n",
       "      <td>3.078930</td>\n",
       "    </tr>\n",
       "    <tr>\n",
       "      <th>3</th>\n",
       "      <td>Diourbel</td>\n",
       "      <td>Superficie moyenne des parcelles par ménage (Ha)</td>\n",
       "      <td>Ha</td>\n",
       "      <td>2018</td>\n",
       "      <td>4.645847</td>\n",
       "    </tr>\n",
       "    <tr>\n",
       "      <th>4</th>\n",
       "      <td>Fatick</td>\n",
       "      <td>Superficie moyenne des parcelles par ménage (Ha)</td>\n",
       "      <td>Ha</td>\n",
       "      <td>2017</td>\n",
       "      <td>2.884257</td>\n",
       "    </tr>\n",
       "  </tbody>\n",
       "</table>\n",
       "</div>"
      ],
      "text/plain": [
       "     region                                        indicateur Unit  Date  \\\n",
       "0     Dakar  Superficie moyenne des parcelles par ménage (Ha)   Ha  2017   \n",
       "1     Dakar  Superficie moyenne des parcelles par ménage (Ha)   Ha  2018   \n",
       "2  Diourbel  Superficie moyenne des parcelles par ménage (Ha)   Ha  2017   \n",
       "3  Diourbel  Superficie moyenne des parcelles par ménage (Ha)   Ha  2018   \n",
       "4    Fatick  Superficie moyenne des parcelles par ménage (Ha)   Ha  2017   \n",
       "\n",
       "      Value  \n",
       "0  0.462637  \n",
       "1  0.465369  \n",
       "2  3.078930  \n",
       "3  4.645847  \n",
       "4  2.884257  "
      ]
     },
     "execution_count": 40,
     "metadata": {},
     "output_type": "execute_result"
    }
   ],
   "source": [
    "data5 = Agriculture_Data.loc[Agriculture_Data['indicateur'] == 'Superficie moyenne des parcelles par ménage (Ha)'].reset_index(drop = True)\n",
    "data5.head()"
   ]
  },
  {
   "cell_type": "code",
   "execution_count": 41,
   "metadata": {},
   "outputs": [],
   "source": [
    "data5 = data5[['Value']].reset_index(drop = True)"
   ]
  },
  {
   "cell_type": "markdown",
   "metadata": {},
   "source": [
    "##### Taille moyenne des ménages pour toutes les régions "
   ]
  },
  {
   "cell_type": "code",
   "execution_count": 42,
   "metadata": {},
   "outputs": [
    {
     "data": {
      "text/html": [
       "<div>\n",
       "<style scoped>\n",
       "    .dataframe tbody tr th:only-of-type {\n",
       "        vertical-align: middle;\n",
       "    }\n",
       "\n",
       "    .dataframe tbody tr th {\n",
       "        vertical-align: top;\n",
       "    }\n",
       "\n",
       "    .dataframe thead th {\n",
       "        text-align: right;\n",
       "    }\n",
       "</style>\n",
       "<table border=\"1\" class=\"dataframe\">\n",
       "  <thead>\n",
       "    <tr style=\"text-align: right;\">\n",
       "      <th></th>\n",
       "      <th>region</th>\n",
       "      <th>indicateur</th>\n",
       "      <th>Unit</th>\n",
       "      <th>Date</th>\n",
       "      <th>Value</th>\n",
       "    </tr>\n",
       "  </thead>\n",
       "  <tbody>\n",
       "    <tr>\n",
       "      <th>0</th>\n",
       "      <td>Dakar</td>\n",
       "      <td>Taille moyenne des ménages</td>\n",
       "      <td>Individus</td>\n",
       "      <td>2017</td>\n",
       "      <td>4.904000</td>\n",
       "    </tr>\n",
       "    <tr>\n",
       "      <th>1</th>\n",
       "      <td>Dakar</td>\n",
       "      <td>Taille moyenne des ménages</td>\n",
       "      <td>Individus</td>\n",
       "      <td>2018</td>\n",
       "      <td>5.363169</td>\n",
       "    </tr>\n",
       "    <tr>\n",
       "      <th>2</th>\n",
       "      <td>Diourbel</td>\n",
       "      <td>Taille moyenne des ménages</td>\n",
       "      <td>Individus</td>\n",
       "      <td>2017</td>\n",
       "      <td>9.519451</td>\n",
       "    </tr>\n",
       "    <tr>\n",
       "      <th>3</th>\n",
       "      <td>Diourbel</td>\n",
       "      <td>Taille moyenne des ménages</td>\n",
       "      <td>Individus</td>\n",
       "      <td>2018</td>\n",
       "      <td>10.407418</td>\n",
       "    </tr>\n",
       "    <tr>\n",
       "      <th>4</th>\n",
       "      <td>Fatick</td>\n",
       "      <td>Taille moyenne des ménages</td>\n",
       "      <td>Individus</td>\n",
       "      <td>2017</td>\n",
       "      <td>7.974183</td>\n",
       "    </tr>\n",
       "  </tbody>\n",
       "</table>\n",
       "</div>"
      ],
      "text/plain": [
       "     region                  indicateur       Unit  Date      Value\n",
       "0     Dakar  Taille moyenne des ménages  Individus  2017   4.904000\n",
       "1     Dakar  Taille moyenne des ménages  Individus  2018   5.363169\n",
       "2  Diourbel  Taille moyenne des ménages  Individus  2017   9.519451\n",
       "3  Diourbel  Taille moyenne des ménages  Individus  2018  10.407418\n",
       "4    Fatick  Taille moyenne des ménages  Individus  2017   7.974183"
      ]
     },
     "execution_count": 42,
     "metadata": {},
     "output_type": "execute_result"
    }
   ],
   "source": [
    "data6 = Agriculture_Data.loc[Agriculture_Data['indicateur'] == 'Taille moyenne des ménages'].reset_index(drop = True)\n",
    "data6.head()"
   ]
  },
  {
   "cell_type": "code",
   "execution_count": 43,
   "metadata": {},
   "outputs": [],
   "source": [
    "data6 = data6[['Value']].reset_index(drop = True)"
   ]
  },
  {
   "cell_type": "markdown",
   "metadata": {},
   "source": [
    "### Assemblage des indicateurs sur l'agriculture pour en faire un seul jeu de donnée"
   ]
  },
  {
   "cell_type": "code",
   "execution_count": 44,
   "metadata": {},
   "outputs": [
    {
     "data": {
      "application/javascript": [
       "\n",
       "        if (window._pyforest_update_imports_cell) { window._pyforest_update_imports_cell('import numpy as np\\nimport pandas as pd\\nimport matplotlib.pyplot as plt'); }\n",
       "    "
      ],
      "text/plain": [
       "<IPython.core.display.Javascript object>"
      ]
     },
     "metadata": {},
     "output_type": "display_data"
    }
   ],
   "source": [
    "Agriculture_Data = pd.concat([data1, data2, data3, data4, data5, data6], axis=1)"
   ]
  },
  {
   "cell_type": "code",
   "execution_count": 45,
   "metadata": {},
   "outputs": [],
   "source": [
    "Agriculture_Data.columns= ['region', 'Date', 'Ménages exploitant moins de 3 parcelles (%)',\n",
    " 'Ménages exploitant 3 à 5 parcelles (%)',\n",
    " 'Ménages exploitant plus de 6 parcelles (%)',\n",
    " 'Nombre moyen de parcelles par ménage',\n",
    " 'Superficie moyenne des parcelles par ménage (Ha)',\n",
    " 'Taille moyenne des ménages']"
   ]
  },
  {
   "cell_type": "code",
   "execution_count": 46,
   "metadata": {},
   "outputs": [
    {
     "data": {
      "text/html": [
       "<div>\n",
       "<style scoped>\n",
       "    .dataframe tbody tr th:only-of-type {\n",
       "        vertical-align: middle;\n",
       "    }\n",
       "\n",
       "    .dataframe tbody tr th {\n",
       "        vertical-align: top;\n",
       "    }\n",
       "\n",
       "    .dataframe thead th {\n",
       "        text-align: right;\n",
       "    }\n",
       "</style>\n",
       "<table border=\"1\" class=\"dataframe\">\n",
       "  <thead>\n",
       "    <tr style=\"text-align: right;\">\n",
       "      <th></th>\n",
       "      <th>region</th>\n",
       "      <th>Date</th>\n",
       "      <th>Ménages exploitant moins de 3 parcelles (%)</th>\n",
       "      <th>Ménages exploitant 3 à 5 parcelles (%)</th>\n",
       "      <th>Ménages exploitant plus de 6 parcelles (%)</th>\n",
       "      <th>Nombre moyen de parcelles par ménage</th>\n",
       "      <th>Superficie moyenne des parcelles par ménage (Ha)</th>\n",
       "      <th>Taille moyenne des ménages</th>\n",
       "    </tr>\n",
       "  </thead>\n",
       "  <tbody>\n",
       "    <tr>\n",
       "      <th>0</th>\n",
       "      <td>Dakar</td>\n",
       "      <td>2017</td>\n",
       "      <td>96.799999</td>\n",
       "      <td>NaN</td>\n",
       "      <td>NaN</td>\n",
       "      <td>1.208000</td>\n",
       "      <td>0.462637</td>\n",
       "      <td>4.904000</td>\n",
       "    </tr>\n",
       "    <tr>\n",
       "      <th>1</th>\n",
       "      <td>Dakar</td>\n",
       "      <td>2018</td>\n",
       "      <td>100.000000</td>\n",
       "      <td>0.000000</td>\n",
       "      <td>0.000000</td>\n",
       "      <td>1.041970</td>\n",
       "      <td>0.465369</td>\n",
       "      <td>5.363169</td>\n",
       "    </tr>\n",
       "    <tr>\n",
       "      <th>2</th>\n",
       "      <td>Diourbel</td>\n",
       "      <td>2017</td>\n",
       "      <td>12.540621</td>\n",
       "      <td>64.680761</td>\n",
       "      <td>22.778620</td>\n",
       "      <td>4.337563</td>\n",
       "      <td>3.078930</td>\n",
       "      <td>9.519451</td>\n",
       "    </tr>\n",
       "    <tr>\n",
       "      <th>3</th>\n",
       "      <td>Diourbel</td>\n",
       "      <td>2018</td>\n",
       "      <td>25.740260</td>\n",
       "      <td>57.751203</td>\n",
       "      <td>16.508539</td>\n",
       "      <td>3.816028</td>\n",
       "      <td>4.645847</td>\n",
       "      <td>10.407418</td>\n",
       "    </tr>\n",
       "    <tr>\n",
       "      <th>4</th>\n",
       "      <td>Fatick</td>\n",
       "      <td>2017</td>\n",
       "      <td>37.248814</td>\n",
       "      <td>52.979088</td>\n",
       "      <td>9.772102</td>\n",
       "      <td>3.295946</td>\n",
       "      <td>2.884257</td>\n",
       "      <td>7.974183</td>\n",
       "    </tr>\n",
       "  </tbody>\n",
       "</table>\n",
       "</div>"
      ],
      "text/plain": [
       "     region  Date  Ménages exploitant moins de 3 parcelles (%)  \\\n",
       "0     Dakar  2017                                    96.799999   \n",
       "1     Dakar  2018                                   100.000000   \n",
       "2  Diourbel  2017                                    12.540621   \n",
       "3  Diourbel  2018                                    25.740260   \n",
       "4    Fatick  2017                                    37.248814   \n",
       "\n",
       "   Ménages exploitant 3 à 5 parcelles (%)  \\\n",
       "0                                     NaN   \n",
       "1                                0.000000   \n",
       "2                               64.680761   \n",
       "3                               57.751203   \n",
       "4                               52.979088   \n",
       "\n",
       "   Ménages exploitant plus de 6 parcelles (%)  \\\n",
       "0                                         NaN   \n",
       "1                                    0.000000   \n",
       "2                                   22.778620   \n",
       "3                                   16.508539   \n",
       "4                                    9.772102   \n",
       "\n",
       "   Nombre moyen de parcelles par ménage  \\\n",
       "0                              1.208000   \n",
       "1                              1.041970   \n",
       "2                              4.337563   \n",
       "3                              3.816028   \n",
       "4                              3.295946   \n",
       "\n",
       "   Superficie moyenne des parcelles par ménage (Ha)  \\\n",
       "0                                          0.462637   \n",
       "1                                          0.465369   \n",
       "2                                          3.078930   \n",
       "3                                          4.645847   \n",
       "4                                          2.884257   \n",
       "\n",
       "   Taille moyenne des ménages  \n",
       "0                    4.904000  \n",
       "1                    5.363169  \n",
       "2                    9.519451  \n",
       "3                   10.407418  \n",
       "4                    7.974183  "
      ]
     },
     "execution_count": 46,
     "metadata": {},
     "output_type": "execute_result"
    }
   ],
   "source": [
    "Agriculture_Data.head()"
   ]
  },
  {
   "cell_type": "markdown",
   "metadata": {},
   "source": [
    "##### Décrire les données"
   ]
  },
  {
   "cell_type": "code",
   "execution_count": 47,
   "metadata": {},
   "outputs": [
    {
     "data": {
      "text/html": [
       "<div>\n",
       "<style scoped>\n",
       "    .dataframe tbody tr th:only-of-type {\n",
       "        vertical-align: middle;\n",
       "    }\n",
       "\n",
       "    .dataframe tbody tr th {\n",
       "        vertical-align: top;\n",
       "    }\n",
       "\n",
       "    .dataframe thead th {\n",
       "        text-align: right;\n",
       "    }\n",
       "</style>\n",
       "<table border=\"1\" class=\"dataframe\">\n",
       "  <thead>\n",
       "    <tr style=\"text-align: right;\">\n",
       "      <th></th>\n",
       "      <th>Date</th>\n",
       "      <th>Ménages exploitant moins de 3 parcelles (%)</th>\n",
       "      <th>Ménages exploitant 3 à 5 parcelles (%)</th>\n",
       "      <th>Ménages exploitant plus de 6 parcelles (%)</th>\n",
       "      <th>Nombre moyen de parcelles par ménage</th>\n",
       "      <th>Superficie moyenne des parcelles par ménage (Ha)</th>\n",
       "      <th>Taille moyenne des ménages</th>\n",
       "    </tr>\n",
       "  </thead>\n",
       "  <tbody>\n",
       "    <tr>\n",
       "      <th>count</th>\n",
       "      <td>28.000000</td>\n",
       "      <td>28.000000</td>\n",
       "      <td>26.000000</td>\n",
       "      <td>24.000000</td>\n",
       "      <td>28.000000</td>\n",
       "      <td>28.000000</td>\n",
       "      <td>28.000000</td>\n",
       "    </tr>\n",
       "    <tr>\n",
       "      <th>mean</th>\n",
       "      <td>2017.500000</td>\n",
       "      <td>53.930653</td>\n",
       "      <td>40.360239</td>\n",
       "      <td>9.933108</td>\n",
       "      <td>2.770551</td>\n",
       "      <td>2.685132</td>\n",
       "      <td>9.306321</td>\n",
       "    </tr>\n",
       "    <tr>\n",
       "      <th>std</th>\n",
       "      <td>0.509175</td>\n",
       "      <td>28.576675</td>\n",
       "      <td>20.333939</td>\n",
       "      <td>7.777486</td>\n",
       "      <td>1.062623</td>\n",
       "      <td>1.762347</td>\n",
       "      <td>1.947172</td>\n",
       "    </tr>\n",
       "    <tr>\n",
       "      <th>min</th>\n",
       "      <td>2017.000000</td>\n",
       "      <td>12.540621</td>\n",
       "      <td>0.000000</td>\n",
       "      <td>0.000000</td>\n",
       "      <td>1.041970</td>\n",
       "      <td>0.462637</td>\n",
       "      <td>4.904000</td>\n",
       "    </tr>\n",
       "    <tr>\n",
       "      <th>25%</th>\n",
       "      <td>2017.000000</td>\n",
       "      <td>29.616007</td>\n",
       "      <td>32.247736</td>\n",
       "      <td>4.920405</td>\n",
       "      <td>2.156988</td>\n",
       "      <td>1.027505</td>\n",
       "      <td>8.530413</td>\n",
       "    </tr>\n",
       "    <tr>\n",
       "      <th>50%</th>\n",
       "      <td>2017.500000</td>\n",
       "      <td>54.395512</td>\n",
       "      <td>42.953219</td>\n",
       "      <td>9.456790</td>\n",
       "      <td>2.665345</td>\n",
       "      <td>2.874809</td>\n",
       "      <td>9.246027</td>\n",
       "    </tr>\n",
       "    <tr>\n",
       "      <th>75%</th>\n",
       "      <td>2018.000000</td>\n",
       "      <td>71.796966</td>\n",
       "      <td>57.275926</td>\n",
       "      <td>13.710308</td>\n",
       "      <td>3.550553</td>\n",
       "      <td>3.756447</td>\n",
       "      <td>10.538056</td>\n",
       "    </tr>\n",
       "    <tr>\n",
       "      <th>max</th>\n",
       "      <td>2018.000000</td>\n",
       "      <td>100.000000</td>\n",
       "      <td>67.115271</td>\n",
       "      <td>24.925579</td>\n",
       "      <td>4.492590</td>\n",
       "      <td>8.034989</td>\n",
       "      <td>12.344740</td>\n",
       "    </tr>\n",
       "  </tbody>\n",
       "</table>\n",
       "</div>"
      ],
      "text/plain": [
       "              Date  Ménages exploitant moins de 3 parcelles (%)  \\\n",
       "count    28.000000                                    28.000000   \n",
       "mean   2017.500000                                    53.930653   \n",
       "std       0.509175                                    28.576675   \n",
       "min    2017.000000                                    12.540621   \n",
       "25%    2017.000000                                    29.616007   \n",
       "50%    2017.500000                                    54.395512   \n",
       "75%    2018.000000                                    71.796966   \n",
       "max    2018.000000                                   100.000000   \n",
       "\n",
       "       Ménages exploitant 3 à 5 parcelles (%)  \\\n",
       "count                               26.000000   \n",
       "mean                                40.360239   \n",
       "std                                 20.333939   \n",
       "min                                  0.000000   \n",
       "25%                                 32.247736   \n",
       "50%                                 42.953219   \n",
       "75%                                 57.275926   \n",
       "max                                 67.115271   \n",
       "\n",
       "       Ménages exploitant plus de 6 parcelles (%)  \\\n",
       "count                                   24.000000   \n",
       "mean                                     9.933108   \n",
       "std                                      7.777486   \n",
       "min                                      0.000000   \n",
       "25%                                      4.920405   \n",
       "50%                                      9.456790   \n",
       "75%                                     13.710308   \n",
       "max                                     24.925579   \n",
       "\n",
       "       Nombre moyen de parcelles par ménage  \\\n",
       "count                             28.000000   \n",
       "mean                               2.770551   \n",
       "std                                1.062623   \n",
       "min                                1.041970   \n",
       "25%                                2.156988   \n",
       "50%                                2.665345   \n",
       "75%                                3.550553   \n",
       "max                                4.492590   \n",
       "\n",
       "       Superficie moyenne des parcelles par ménage (Ha)  \\\n",
       "count                                         28.000000   \n",
       "mean                                           2.685132   \n",
       "std                                            1.762347   \n",
       "min                                            0.462637   \n",
       "25%                                            1.027505   \n",
       "50%                                            2.874809   \n",
       "75%                                            3.756447   \n",
       "max                                            8.034989   \n",
       "\n",
       "       Taille moyenne des ménages  \n",
       "count                   28.000000  \n",
       "mean                     9.306321  \n",
       "std                      1.947172  \n",
       "min                      4.904000  \n",
       "25%                      8.530413  \n",
       "50%                      9.246027  \n",
       "75%                     10.538056  \n",
       "max                     12.344740  "
      ]
     },
     "execution_count": 47,
     "metadata": {},
     "output_type": "execute_result"
    }
   ],
   "source": [
    "Agriculture_Data.describe()"
   ]
  },
  {
   "cell_type": "markdown",
   "metadata": {},
   "source": [
    "##### Vérifier l'existence des valeurs manquantes"
   ]
  },
  {
   "cell_type": "code",
   "execution_count": 48,
   "metadata": {},
   "outputs": [
    {
     "data": {
      "text/plain": [
       "region                                              0\n",
       "Date                                                0\n",
       "Ménages exploitant moins de 3 parcelles (%)         0\n",
       "Ménages exploitant 3 à 5 parcelles (%)              2\n",
       "Ménages exploitant plus de 6 parcelles (%)          4\n",
       "Nombre moyen de parcelles par ménage                0\n",
       "Superficie moyenne des parcelles par ménage (Ha)    0\n",
       "Taille moyenne des ménages                          0\n",
       "dtype: int64"
      ]
     },
     "execution_count": 48,
     "metadata": {},
     "output_type": "execute_result"
    }
   ],
   "source": [
    "Agriculture_Data.isnull().sum()"
   ]
  },
  {
   "cell_type": "markdown",
   "metadata": {},
   "source": [
    "On constate que quatre valeurs manquent pour l'indicateur 'Ménages exploitant plus de 6 parcelles (%)' et deux pour l'indicateur 'Ménages exploitant 3 à 5 parcelles (%)'."
   ]
  },
  {
   "cell_type": "markdown",
   "metadata": {},
   "source": [
    "#### Remplacement des valeurs manquantes"
   ]
  },
  {
   "cell_type": "markdown",
   "metadata": {},
   "source": [
    "Les valeurs manquantes des indicateurs 'Ménages exploitant plus de 6 parcelles (%)' et 'Ménages exploitant 3 à 5 parcelles (%) ' sont remplacées par la moyenne de la colonne. Le remplacement des valeurs manquantes nous permet de mettre en place un jeu de donnée utile dans le futur pour la mise en place d'un model de machine learning qui fonctionne."
   ]
  },
  {
   "cell_type": "markdown",
   "metadata": {},
   "source": [
    "###### Remplacement de NaN dans la colonne 'Ménages exploitant plus de 6 parcelles (%)'  "
   ]
  },
  {
   "cell_type": "code",
   "execution_count": 49,
   "metadata": {},
   "outputs": [
    {
     "data": {
      "application/javascript": [
       "\n",
       "        if (window._pyforest_update_imports_cell) { window._pyforest_update_imports_cell('import numpy as np\\nimport pandas as pd\\nimport matplotlib.pyplot as plt'); }\n",
       "    "
      ],
      "text/plain": [
       "<IPython.core.display.Javascript object>"
      ]
     },
     "metadata": {},
     "output_type": "display_data"
    }
   ],
   "source": [
    "Mean = Agriculture_Data[['Ménages exploitant plus de 6 parcelles (%)']].mean(axis = 0)\n",
    "Agriculture_Data[['Ménages exploitant plus de 6 parcelles (%)']] = Agriculture_Data[['Ménages exploitant plus de 6 parcelles (%)']].replace(np.nan,Mean)"
   ]
  },
  {
   "cell_type": "markdown",
   "metadata": {},
   "source": [
    "###### Remplacement de NaN dans la colonne 'Ménages exploitant 3 à 5 parcelles (%)'"
   ]
  },
  {
   "cell_type": "code",
   "execution_count": 50,
   "metadata": {},
   "outputs": [
    {
     "data": {
      "application/javascript": [
       "\n",
       "        if (window._pyforest_update_imports_cell) { window._pyforest_update_imports_cell('import numpy as np\\nimport pandas as pd\\nimport matplotlib.pyplot as plt'); }\n",
       "    "
      ],
      "text/plain": [
       "<IPython.core.display.Javascript object>"
      ]
     },
     "metadata": {},
     "output_type": "display_data"
    }
   ],
   "source": [
    "MEan = Agriculture_Data[['Ménages exploitant 3 à 5 parcelles (%)']].mean(axis = 0)\n",
    "Agriculture_Data[['Ménages exploitant 3 à 5 parcelles (%)']] = Agriculture_Data[['Ménages exploitant 3 à 5 parcelles (%)']].replace(np.nan,MEan)"
   ]
  },
  {
   "cell_type": "code",
   "execution_count": 51,
   "metadata": {},
   "outputs": [
    {
     "data": {
      "text/plain": [
       "region                                              0\n",
       "Date                                                0\n",
       "Ménages exploitant moins de 3 parcelles (%)         0\n",
       "Ménages exploitant 3 à 5 parcelles (%)              0\n",
       "Ménages exploitant plus de 6 parcelles (%)          0\n",
       "Nombre moyen de parcelles par ménage                0\n",
       "Superficie moyenne des parcelles par ménage (Ha)    0\n",
       "Taille moyenne des ménages                          0\n",
       "dtype: int64"
      ]
     },
     "execution_count": 51,
     "metadata": {},
     "output_type": "execute_result"
    }
   ],
   "source": [
    "Agriculture_Data.isnull().sum()"
   ]
  },
  {
   "cell_type": "markdown",
   "metadata": {},
   "source": [
    "##### Jeu de donnée final sur l'agriculture"
   ]
  },
  {
   "cell_type": "code",
   "execution_count": 52,
   "metadata": {},
   "outputs": [
    {
     "data": {
      "text/html": [
       "<div>\n",
       "<style scoped>\n",
       "    .dataframe tbody tr th:only-of-type {\n",
       "        vertical-align: middle;\n",
       "    }\n",
       "\n",
       "    .dataframe tbody tr th {\n",
       "        vertical-align: top;\n",
       "    }\n",
       "\n",
       "    .dataframe thead th {\n",
       "        text-align: right;\n",
       "    }\n",
       "</style>\n",
       "<table border=\"1\" class=\"dataframe\">\n",
       "  <thead>\n",
       "    <tr style=\"text-align: right;\">\n",
       "      <th></th>\n",
       "      <th>region</th>\n",
       "      <th>Date</th>\n",
       "      <th>Ménages exploitant moins de 3 parcelles (%)</th>\n",
       "      <th>Ménages exploitant 3 à 5 parcelles (%)</th>\n",
       "      <th>Ménages exploitant plus de 6 parcelles (%)</th>\n",
       "      <th>Nombre moyen de parcelles par ménage</th>\n",
       "      <th>Superficie moyenne des parcelles par ménage (Ha)</th>\n",
       "      <th>Taille moyenne des ménages</th>\n",
       "    </tr>\n",
       "  </thead>\n",
       "  <tbody>\n",
       "    <tr>\n",
       "      <th>0</th>\n",
       "      <td>Dakar</td>\n",
       "      <td>2017</td>\n",
       "      <td>96.799999</td>\n",
       "      <td>40.360239</td>\n",
       "      <td>9.933108</td>\n",
       "      <td>1.208000</td>\n",
       "      <td>0.462637</td>\n",
       "      <td>4.904000</td>\n",
       "    </tr>\n",
       "    <tr>\n",
       "      <th>1</th>\n",
       "      <td>Dakar</td>\n",
       "      <td>2018</td>\n",
       "      <td>100.000000</td>\n",
       "      <td>0.000000</td>\n",
       "      <td>0.000000</td>\n",
       "      <td>1.041970</td>\n",
       "      <td>0.465369</td>\n",
       "      <td>5.363169</td>\n",
       "    </tr>\n",
       "    <tr>\n",
       "      <th>2</th>\n",
       "      <td>Diourbel</td>\n",
       "      <td>2017</td>\n",
       "      <td>12.540621</td>\n",
       "      <td>64.680761</td>\n",
       "      <td>22.778620</td>\n",
       "      <td>4.337563</td>\n",
       "      <td>3.078930</td>\n",
       "      <td>9.519451</td>\n",
       "    </tr>\n",
       "    <tr>\n",
       "      <th>3</th>\n",
       "      <td>Diourbel</td>\n",
       "      <td>2018</td>\n",
       "      <td>25.740260</td>\n",
       "      <td>57.751203</td>\n",
       "      <td>16.508539</td>\n",
       "      <td>3.816028</td>\n",
       "      <td>4.645847</td>\n",
       "      <td>10.407418</td>\n",
       "    </tr>\n",
       "    <tr>\n",
       "      <th>4</th>\n",
       "      <td>Fatick</td>\n",
       "      <td>2017</td>\n",
       "      <td>37.248814</td>\n",
       "      <td>52.979088</td>\n",
       "      <td>9.772102</td>\n",
       "      <td>3.295946</td>\n",
       "      <td>2.884257</td>\n",
       "      <td>7.974183</td>\n",
       "    </tr>\n",
       "  </tbody>\n",
       "</table>\n",
       "</div>"
      ],
      "text/plain": [
       "     region  Date  Ménages exploitant moins de 3 parcelles (%)  \\\n",
       "0     Dakar  2017                                    96.799999   \n",
       "1     Dakar  2018                                   100.000000   \n",
       "2  Diourbel  2017                                    12.540621   \n",
       "3  Diourbel  2018                                    25.740260   \n",
       "4    Fatick  2017                                    37.248814   \n",
       "\n",
       "   Ménages exploitant 3 à 5 parcelles (%)  \\\n",
       "0                               40.360239   \n",
       "1                                0.000000   \n",
       "2                               64.680761   \n",
       "3                               57.751203   \n",
       "4                               52.979088   \n",
       "\n",
       "   Ménages exploitant plus de 6 parcelles (%)  \\\n",
       "0                                    9.933108   \n",
       "1                                    0.000000   \n",
       "2                                   22.778620   \n",
       "3                                   16.508539   \n",
       "4                                    9.772102   \n",
       "\n",
       "   Nombre moyen de parcelles par ménage  \\\n",
       "0                              1.208000   \n",
       "1                              1.041970   \n",
       "2                              4.337563   \n",
       "3                              3.816028   \n",
       "4                              3.295946   \n",
       "\n",
       "   Superficie moyenne des parcelles par ménage (Ha)  \\\n",
       "0                                          0.462637   \n",
       "1                                          0.465369   \n",
       "2                                          3.078930   \n",
       "3                                          4.645847   \n",
       "4                                          2.884257   \n",
       "\n",
       "   Taille moyenne des ménages  \n",
       "0                    4.904000  \n",
       "1                    5.363169  \n",
       "2                    9.519451  \n",
       "3                   10.407418  \n",
       "4                    7.974183  "
      ]
     },
     "execution_count": 52,
     "metadata": {},
     "output_type": "execute_result"
    }
   ],
   "source": [
    "Agriculture_Data.head()"
   ]
  },
  {
   "cell_type": "markdown",
   "metadata": {},
   "source": [
    "##### Vérifier le  type de valeurs pour chaque variable "
   ]
  },
  {
   "cell_type": "code",
   "execution_count": 53,
   "metadata": {},
   "outputs": [
    {
     "data": {
      "text/plain": [
       "region                                               object\n",
       "Date                                                  int64\n",
       "Ménages exploitant moins de 3 parcelles (%)         float64\n",
       "Ménages exploitant 3 à 5 parcelles (%)              float64\n",
       "Ménages exploitant plus de 6 parcelles (%)          float64\n",
       "Nombre moyen de parcelles par ménage                float64\n",
       "Superficie moyenne des parcelles par ménage (Ha)    float64\n",
       "Taille moyenne des ménages                          float64\n",
       "dtype: object"
      ]
     },
     "execution_count": 53,
     "metadata": {},
     "output_type": "execute_result"
    }
   ],
   "source": [
    "Agriculture_Data.dtypes"
   ]
  },
  {
   "cell_type": "markdown",
   "metadata": {},
   "source": [
    "### Visualisation des données sur l'agriculture "
   ]
  },
  {
   "cell_type": "code",
   "execution_count": 54,
   "metadata": {},
   "outputs": [],
   "source": [
    "continous_columns = Agriculture_Data.iloc[:, 2:].columns"
   ]
  },
  {
   "cell_type": "markdown",
   "metadata": {},
   "source": [
    "##### Visualisation des indicateurs prélevés en 2017 et 2018 dans toutes les régions"
   ]
  },
  {
   "cell_type": "code",
   "execution_count": 55,
   "metadata": {},
   "outputs": [
    {
     "data": {
      "application/javascript": [
       "\n",
       "        if (window._pyforest_update_imports_cell) { window._pyforest_update_imports_cell('import numpy as np\\nimport pandas as pd\\nimport matplotlib.pyplot as plt'); }\n",
       "    "
      ],
      "text/plain": [
       "<IPython.core.display.Javascript object>"
      ]
     },
     "metadata": {},
     "output_type": "display_data"
    },
    {
     "data": {
      "application/javascript": [
       "\n",
       "        if (window._pyforest_update_imports_cell) { window._pyforest_update_imports_cell('import numpy as np\\nimport pandas as pd\\nimport matplotlib.pyplot as plt'); }\n",
       "    "
      ],
      "text/plain": [
       "<IPython.core.display.Javascript object>"
      ]
     },
     "metadata": {},
     "output_type": "display_data"
    },
    {
     "data": {
      "application/javascript": [
       "\n",
       "        if (window._pyforest_update_imports_cell) { window._pyforest_update_imports_cell('import numpy as np\\nimport pandas as pd\\nimport matplotlib.pyplot as plt'); }\n",
       "    "
      ],
      "text/plain": [
       "<IPython.core.display.Javascript object>"
      ]
     },
     "metadata": {},
     "output_type": "display_data"
    },
    {
     "data": {
      "application/javascript": [
       "\n",
       "        if (window._pyforest_update_imports_cell) { window._pyforest_update_imports_cell('import numpy as np\\nimport pandas as pd\\nimport matplotlib.pyplot as plt'); }\n",
       "    "
      ],
      "text/plain": [
       "<IPython.core.display.Javascript object>"
      ]
     },
     "metadata": {},
     "output_type": "display_data"
    },
    {
     "data": {
      "application/javascript": [
       "\n",
       "        if (window._pyforest_update_imports_cell) { window._pyforest_update_imports_cell('import numpy as np\\nimport pandas as pd\\nimport matplotlib.pyplot as plt'); }\n",
       "    "
      ],
      "text/plain": [
       "<IPython.core.display.Javascript object>"
      ]
     },
     "metadata": {},
     "output_type": "display_data"
    },
    {
     "data": {
      "application/javascript": [
       "\n",
       "        if (window._pyforest_update_imports_cell) { window._pyforest_update_imports_cell('import numpy as np\\nimport pandas as pd\\nimport matplotlib.pyplot as plt'); }\n",
       "    "
      ],
      "text/plain": [
       "<IPython.core.display.Javascript object>"
      ]
     },
     "metadata": {},
     "output_type": "display_data"
    },
    {
     "data": {
      "application/javascript": [
       "\n",
       "        if (window._pyforest_update_imports_cell) { window._pyforest_update_imports_cell('import numpy as np\\nimport pandas as pd\\nimport matplotlib.pyplot as plt'); }\n",
       "    "
      ],
      "text/plain": [
       "<IPython.core.display.Javascript object>"
      ]
     },
     "metadata": {},
     "output_type": "display_data"
    },
    {
     "data": {
      "application/javascript": [
       "\n",
       "        if (window._pyforest_update_imports_cell) { window._pyforest_update_imports_cell('import numpy as np\\nimport pandas as pd\\nimport matplotlib.pyplot as plt'); }\n",
       "    "
      ],
      "text/plain": [
       "<IPython.core.display.Javascript object>"
      ]
     },
     "metadata": {},
     "output_type": "display_data"
    },
    {
     "data": {
      "application/javascript": [
       "\n",
       "        if (window._pyforest_update_imports_cell) { window._pyforest_update_imports_cell('import numpy as np\\nimport pandas as pd\\nimport matplotlib.pyplot as plt'); }\n",
       "    "
      ],
      "text/plain": [
       "<IPython.core.display.Javascript object>"
      ]
     },
     "metadata": {},
     "output_type": "display_data"
    },
    {
     "data": {
      "application/javascript": [
       "\n",
       "        if (window._pyforest_update_imports_cell) { window._pyforest_update_imports_cell('import numpy as np\\nimport pandas as pd\\nimport matplotlib.pyplot as plt'); }\n",
       "    "
      ],
      "text/plain": [
       "<IPython.core.display.Javascript object>"
      ]
     },
     "metadata": {},
     "output_type": "display_data"
    },
    {
     "data": {
      "application/javascript": [
       "\n",
       "        if (window._pyforest_update_imports_cell) { window._pyforest_update_imports_cell('import numpy as np\\nimport pandas as pd\\nimport matplotlib.pyplot as plt'); }\n",
       "    "
      ],
      "text/plain": [
       "<IPython.core.display.Javascript object>"
      ]
     },
     "metadata": {},
     "output_type": "display_data"
    },
    {
     "data": {
      "application/javascript": [
       "\n",
       "        if (window._pyforest_update_imports_cell) { window._pyforest_update_imports_cell('import numpy as np\\nimport pandas as pd\\nimport matplotlib.pyplot as plt'); }\n",
       "    "
      ],
      "text/plain": [
       "<IPython.core.display.Javascript object>"
      ]
     },
     "metadata": {},
     "output_type": "display_data"
    },
    {
     "data": {
      "application/javascript": [
       "\n",
       "        if (window._pyforest_update_imports_cell) { window._pyforest_update_imports_cell('import numpy as np\\nimport pandas as pd\\nimport matplotlib.pyplot as plt'); }\n",
       "    "
      ],
      "text/plain": [
       "<IPython.core.display.Javascript object>"
      ]
     },
     "metadata": {},
     "output_type": "display_data"
    },
    {
     "data": {
      "application/javascript": [
       "\n",
       "        if (window._pyforest_update_imports_cell) { window._pyforest_update_imports_cell('import numpy as np\\nimport pandas as pd\\nimport matplotlib.pyplot as plt'); }\n",
       "    "
      ],
      "text/plain": [
       "<IPython.core.display.Javascript object>"
      ]
     },
     "metadata": {},
     "output_type": "display_data"
    },
    {
     "data": {
      "application/javascript": [
       "\n",
       "        if (window._pyforest_update_imports_cell) { window._pyforest_update_imports_cell('import numpy as np\\nimport pandas as pd\\nimport matplotlib.pyplot as plt'); }\n",
       "    "
      ],
      "text/plain": [
       "<IPython.core.display.Javascript object>"
      ]
     },
     "metadata": {},
     "output_type": "display_data"
    },
    {
     "data": {
      "application/javascript": [
       "\n",
       "        if (window._pyforest_update_imports_cell) { window._pyforest_update_imports_cell('import numpy as np\\nimport pandas as pd\\nimport matplotlib.pyplot as plt'); }\n",
       "    "
      ],
      "text/plain": [
       "<IPython.core.display.Javascript object>"
      ]
     },
     "metadata": {},
     "output_type": "display_data"
    },
    {
     "data": {
      "application/javascript": [
       "\n",
       "        if (window._pyforest_update_imports_cell) { window._pyforest_update_imports_cell('import numpy as np\\nimport pandas as pd\\nimport matplotlib.pyplot as plt'); }\n",
       "    "
      ],
      "text/plain": [
       "<IPython.core.display.Javascript object>"
      ]
     },
     "metadata": {},
     "output_type": "display_data"
    },
    {
     "data": {
      "application/javascript": [
       "\n",
       "        if (window._pyforest_update_imports_cell) { window._pyforest_update_imports_cell('import numpy as np\\nimport pandas as pd\\nimport matplotlib.pyplot as plt'); }\n",
       "    "
      ],
      "text/plain": [
       "<IPython.core.display.Javascript object>"
      ]
     },
     "metadata": {},
     "output_type": "display_data"
    },
    {
     "data": {
      "application/javascript": [
       "\n",
       "        if (window._pyforest_update_imports_cell) { window._pyforest_update_imports_cell('import numpy as np\\nimport pandas as pd\\nimport matplotlib.pyplot as plt'); }\n",
       "    "
      ],
      "text/plain": [
       "<IPython.core.display.Javascript object>"
      ]
     },
     "metadata": {},
     "output_type": "display_data"
    },
    {
     "data": {
      "image/png": "[encoded data removed]",
      "text/plain": [
       "<Figure size 1080x1080 with 6 Axes>"
      ]
     },
     "metadata": {
      "needs_background": "light"
     },
     "output_type": "display_data"
    }
   ],
   "source": [
    "plt.figure(figsize=(15, 15))\n",
    "\n",
    "for i, column in enumerate(continous_columns, 1):\n",
    "    plt.subplot(3, 2, i)\n",
    "    Agriculture_Data[Agriculture_Data[\"Date\"] == 2017][column].hist(bins=30, color='blue', label='Date = 2017', alpha=0.6)\n",
    "    Agriculture_Data[Agriculture_Data[\"Date\"] == 2018][column].hist(bins=30, color='red', label='Date = 2018', alpha=0.6)\n",
    "    plt.legend()\n",
    "    plt.xlabel(column)"
   ]
  },
  {
   "cell_type": "markdown",
   "metadata": {},
   "source": [
    "- On observe qu'à travers les figures 1 et 2, que la grande majorité des régions ont un pourcentage de Ménages exploitant moins de parcelles et de Ménages exploitant 3 à 5 parcelles comprise entre 20 et 70 % pour les années 2017 et 2018.\n",
    "\n",
    "- On observe aussi à travers les figures 4, 5 et 6 que le nombre moyen de parcelles par ménage, la superficie moyenne des parcelles par ménage et la taille moyenne des ménages ont respectivement des valeurs comprises entre 2 ~ 5, 1 ~ 5  et 7 ~ 13 pour la majorité des régions."
   ]
  },
  {
   "cell_type": "markdown",
   "metadata": {},
   "source": [
    "##### Visualisation des indicateurs prélevés en 2017 et 2018 dans la région deThies"
   ]
  },
  {
   "cell_type": "code",
   "execution_count": 56,
   "metadata": {},
   "outputs": [
    {
     "data": {
      "application/javascript": [
       "\n",
       "        if (window._pyforest_update_imports_cell) { window._pyforest_update_imports_cell('import numpy as np\\nimport pandas as pd\\nimport matplotlib.pyplot as plt'); }\n",
       "    "
      ],
      "text/plain": [
       "<IPython.core.display.Javascript object>"
      ]
     },
     "metadata": {},
     "output_type": "display_data"
    },
    {
     "data": {
      "application/javascript": [
       "\n",
       "        if (window._pyforest_update_imports_cell) { window._pyforest_update_imports_cell('import numpy as np\\nimport pandas as pd\\nimport matplotlib.pyplot as plt'); }\n",
       "    "
      ],
      "text/plain": [
       "<IPython.core.display.Javascript object>"
      ]
     },
     "metadata": {},
     "output_type": "display_data"
    },
    {
     "data": {
      "application/javascript": [
       "\n",
       "        if (window._pyforest_update_imports_cell) { window._pyforest_update_imports_cell('import numpy as np\\nimport pandas as pd\\nimport matplotlib.pyplot as plt'); }\n",
       "    "
      ],
      "text/plain": [
       "<IPython.core.display.Javascript object>"
      ]
     },
     "metadata": {},
     "output_type": "display_data"
    },
    {
     "data": {
      "application/javascript": [
       "\n",
       "        if (window._pyforest_update_imports_cell) { window._pyforest_update_imports_cell('import numpy as np\\nimport pandas as pd\\nimport matplotlib.pyplot as plt'); }\n",
       "    "
      ],
      "text/plain": [
       "<IPython.core.display.Javascript object>"
      ]
     },
     "metadata": {},
     "output_type": "display_data"
    },
    {
     "data": {
      "application/javascript": [
       "\n",
       "        if (window._pyforest_update_imports_cell) { window._pyforest_update_imports_cell('import numpy as np\\nimport pandas as pd\\nimport matplotlib.pyplot as plt'); }\n",
       "    "
      ],
      "text/plain": [
       "<IPython.core.display.Javascript object>"
      ]
     },
     "metadata": {},
     "output_type": "display_data"
    },
    {
     "data": {
      "application/javascript": [
       "\n",
       "        if (window._pyforest_update_imports_cell) { window._pyforest_update_imports_cell('import numpy as np\\nimport pandas as pd\\nimport matplotlib.pyplot as plt'); }\n",
       "    "
      ],
      "text/plain": [
       "<IPython.core.display.Javascript object>"
      ]
     },
     "metadata": {},
     "output_type": "display_data"
    },
    {
     "data": {
      "application/javascript": [
       "\n",
       "        if (window._pyforest_update_imports_cell) { window._pyforest_update_imports_cell('import numpy as np\\nimport pandas as pd\\nimport matplotlib.pyplot as plt'); }\n",
       "    "
      ],
      "text/plain": [
       "<IPython.core.display.Javascript object>"
      ]
     },
     "metadata": {},
     "output_type": "display_data"
    },
    {
     "data": {
      "application/javascript": [
       "\n",
       "        if (window._pyforest_update_imports_cell) { window._pyforest_update_imports_cell('import numpy as np\\nimport pandas as pd\\nimport matplotlib.pyplot as plt'); }\n",
       "    "
      ],
      "text/plain": [
       "<IPython.core.display.Javascript object>"
      ]
     },
     "metadata": {},
     "output_type": "display_data"
    },
    {
     "data": {
      "application/javascript": [
       "\n",
       "        if (window._pyforest_update_imports_cell) { window._pyforest_update_imports_cell('import numpy as np\\nimport pandas as pd\\nimport matplotlib.pyplot as plt'); }\n",
       "    "
      ],
      "text/plain": [
       "<IPython.core.display.Javascript object>"
      ]
     },
     "metadata": {},
     "output_type": "display_data"
    },
    {
     "data": {
      "application/javascript": [
       "\n",
       "        if (window._pyforest_update_imports_cell) { window._pyforest_update_imports_cell('import numpy as np\\nimport pandas as pd\\nimport matplotlib.pyplot as plt'); }\n",
       "    "
      ],
      "text/plain": [
       "<IPython.core.display.Javascript object>"
      ]
     },
     "metadata": {},
     "output_type": "display_data"
    },
    {
     "data": {
      "application/javascript": [
       "\n",
       "        if (window._pyforest_update_imports_cell) { window._pyforest_update_imports_cell('import numpy as np\\nimport pandas as pd\\nimport matplotlib.pyplot as plt'); }\n",
       "    "
      ],
      "text/plain": [
       "<IPython.core.display.Javascript object>"
      ]
     },
     "metadata": {},
     "output_type": "display_data"
    },
    {
     "data": {
      "application/javascript": [
       "\n",
       "        if (window._pyforest_update_imports_cell) { window._pyforest_update_imports_cell('import numpy as np\\nimport pandas as pd\\nimport matplotlib.pyplot as plt'); }\n",
       "    "
      ],
      "text/plain": [
       "<IPython.core.display.Javascript object>"
      ]
     },
     "metadata": {},
     "output_type": "display_data"
    },
    {
     "data": {
      "application/javascript": [
       "\n",
       "        if (window._pyforest_update_imports_cell) { window._pyforest_update_imports_cell('import numpy as np\\nimport pandas as pd\\nimport matplotlib.pyplot as plt'); }\n",
       "    "
      ],
      "text/plain": [
       "<IPython.core.display.Javascript object>"
      ]
     },
     "metadata": {},
     "output_type": "display_data"
    },
    {
     "data": {
      "application/javascript": [
       "\n",
       "        if (window._pyforest_update_imports_cell) { window._pyforest_update_imports_cell('import numpy as np\\nimport pandas as pd\\nimport matplotlib.pyplot as plt'); }\n",
       "    "
      ],
      "text/plain": [
       "<IPython.core.display.Javascript object>"
      ]
     },
     "metadata": {},
     "output_type": "display_data"
    },
    {
     "data": {
      "application/javascript": [
       "\n",
       "        if (window._pyforest_update_imports_cell) { window._pyforest_update_imports_cell('import numpy as np\\nimport pandas as pd\\nimport matplotlib.pyplot as plt'); }\n",
       "    "
      ],
      "text/plain": [
       "<IPython.core.display.Javascript object>"
      ]
     },
     "metadata": {},
     "output_type": "display_data"
    },
    {
     "data": {
      "application/javascript": [
       "\n",
       "        if (window._pyforest_update_imports_cell) { window._pyforest_update_imports_cell('import numpy as np\\nimport pandas as pd\\nimport matplotlib.pyplot as plt'); }\n",
       "    "
      ],
      "text/plain": [
       "<IPython.core.display.Javascript object>"
      ]
     },
     "metadata": {},
     "output_type": "display_data"
    },
    {
     "data": {
      "application/javascript": [
       "\n",
       "        if (window._pyforest_update_imports_cell) { window._pyforest_update_imports_cell('import numpy as np\\nimport pandas as pd\\nimport matplotlib.pyplot as plt'); }\n",
       "    "
      ],
      "text/plain": [
       "<IPython.core.display.Javascript object>"
      ]
     },
     "metadata": {},
     "output_type": "display_data"
    },
    {
     "data": {
      "application/javascript": [
       "\n",
       "        if (window._pyforest_update_imports_cell) { window._pyforest_update_imports_cell('import numpy as np\\nimport pandas as pd\\nimport matplotlib.pyplot as plt'); }\n",
       "    "
      ],
      "text/plain": [
       "<IPython.core.display.Javascript object>"
      ]
     },
     "metadata": {},
     "output_type": "display_data"
    },
    {
     "data": {
      "application/javascript": [
       "\n",
       "        if (window._pyforest_update_imports_cell) { window._pyforest_update_imports_cell('import numpy as np\\nimport pandas as pd\\nimport matplotlib.pyplot as plt'); }\n",
       "    "
      ],
      "text/plain": [
       "<IPython.core.display.Javascript object>"
      ]
     },
     "metadata": {},
     "output_type": "display_data"
    },
    {
     "data": {
      "image/png": "[encoded data removed]",
      "text/plain": [
       "<Figure size 1080x1080 with 6 Axes>"
      ]
     },
     "metadata": {
      "needs_background": "light"
     },
     "output_type": "display_data"
    }
   ],
   "source": [
    "plt.figure(figsize=(15, 15))\n",
    "\n",
    "for i, column in enumerate(continous_columns, 1):\n",
    "    plt.subplot(3, 2, i)\n",
    "    Agriculture_Data[Agriculture_Data[\"region\"] == 'Thies'][Agriculture_Data[\"Date\"] == 2017][column].hist(bins=5, color='blue', label='Date = 2017', alpha = 0.7)\n",
    "    Agriculture_Data[Agriculture_Data[\"region\"] == 'Thies'][Agriculture_Data[\"Date\"] == 2018][column].hist(bins=5, color='red', label='Date = 2018', alpha = 0.7)\n",
    "    plt.legend()\n",
    "    plt.xlabel(column)"
   ]
  },
  {
   "cell_type": "markdown",
   "metadata": {},
   "source": [
    "- On observe à travers la première figure que le nombre de ménages exploitant au moins de 3 parcelles dans la région de Thiés en 2018 est en réduction par rapport celui de l'année 2017.\n",
    "\n",
    "- Pour ce qui est des autres indicateurs, on observe une augmentation en 2018 par rapport aux indicateurs enregistrés en 2017."
   ]
  },
  {
   "cell_type": "markdown",
   "metadata": {},
   "source": [
    "##### Visualisation des indicateurs prélevés en 2017 et 2018 dans la région de  Kolda"
   ]
  },
  {
   "cell_type": "code",
   "execution_count": 57,
   "metadata": {},
   "outputs": [
    {
     "data": {
      "application/javascript": [
       "\n",
       "        if (window._pyforest_update_imports_cell) { window._pyforest_update_imports_cell('import numpy as np\\nimport pandas as pd\\nimport matplotlib.pyplot as plt'); }\n",
       "    "
      ],
      "text/plain": [
       "<IPython.core.display.Javascript object>"
      ]
     },
     "metadata": {},
     "output_type": "display_data"
    },
    {
     "data": {
      "application/javascript": [
       "\n",
       "        if (window._pyforest_update_imports_cell) { window._pyforest_update_imports_cell('import numpy as np\\nimport pandas as pd\\nimport matplotlib.pyplot as plt'); }\n",
       "    "
      ],
      "text/plain": [
       "<IPython.core.display.Javascript object>"
      ]
     },
     "metadata": {},
     "output_type": "display_data"
    },
    {
     "data": {
      "application/javascript": [
       "\n",
       "        if (window._pyforest_update_imports_cell) { window._pyforest_update_imports_cell('import numpy as np\\nimport pandas as pd\\nimport matplotlib.pyplot as plt'); }\n",
       "    "
      ],
      "text/plain": [
       "<IPython.core.display.Javascript object>"
      ]
     },
     "metadata": {},
     "output_type": "display_data"
    },
    {
     "data": {
      "application/javascript": [
       "\n",
       "        if (window._pyforest_update_imports_cell) { window._pyforest_update_imports_cell('import numpy as np\\nimport pandas as pd\\nimport matplotlib.pyplot as plt'); }\n",
       "    "
      ],
      "text/plain": [
       "<IPython.core.display.Javascript object>"
      ]
     },
     "metadata": {},
     "output_type": "display_data"
    },
    {
     "data": {
      "application/javascript": [
       "\n",
       "        if (window._pyforest_update_imports_cell) { window._pyforest_update_imports_cell('import numpy as np\\nimport pandas as pd\\nimport matplotlib.pyplot as plt'); }\n",
       "    "
      ],
      "text/plain": [
       "<IPython.core.display.Javascript object>"
      ]
     },
     "metadata": {},
     "output_type": "display_data"
    },
    {
     "data": {
      "application/javascript": [
       "\n",
       "        if (window._pyforest_update_imports_cell) { window._pyforest_update_imports_cell('import numpy as np\\nimport pandas as pd\\nimport matplotlib.pyplot as plt'); }\n",
       "    "
      ],
      "text/plain": [
       "<IPython.core.display.Javascript object>"
      ]
     },
     "metadata": {},
     "output_type": "display_data"
    },
    {
     "data": {
      "application/javascript": [
       "\n",
       "        if (window._pyforest_update_imports_cell) { window._pyforest_update_imports_cell('import numpy as np\\nimport pandas as pd\\nimport matplotlib.pyplot as plt'); }\n",
       "    "
      ],
      "text/plain": [
       "<IPython.core.display.Javascript object>"
      ]
     },
     "metadata": {},
     "output_type": "display_data"
    },
    {
     "data": {
      "application/javascript": [
       "\n",
       "        if (window._pyforest_update_imports_cell) { window._pyforest_update_imports_cell('import numpy as np\\nimport pandas as pd\\nimport matplotlib.pyplot as plt'); }\n",
       "    "
      ],
      "text/plain": [
       "<IPython.core.display.Javascript object>"
      ]
     },
     "metadata": {},
     "output_type": "display_data"
    },
    {
     "data": {
      "application/javascript": [
       "\n",
       "        if (window._pyforest_update_imports_cell) { window._pyforest_update_imports_cell('import numpy as np\\nimport pandas as pd\\nimport matplotlib.pyplot as plt'); }\n",
       "    "
      ],
      "text/plain": [
       "<IPython.core.display.Javascript object>"
      ]
     },
     "metadata": {},
     "output_type": "display_data"
    },
    {
     "data": {
      "application/javascript": [
       "\n",
       "        if (window._pyforest_update_imports_cell) { window._pyforest_update_imports_cell('import numpy as np\\nimport pandas as pd\\nimport matplotlib.pyplot as plt'); }\n",
       "    "
      ],
      "text/plain": [
       "<IPython.core.display.Javascript object>"
      ]
     },
     "metadata": {},
     "output_type": "display_data"
    },
    {
     "data": {
      "application/javascript": [
       "\n",
       "        if (window._pyforest_update_imports_cell) { window._pyforest_update_imports_cell('import numpy as np\\nimport pandas as pd\\nimport matplotlib.pyplot as plt'); }\n",
       "    "
      ],
      "text/plain": [
       "<IPython.core.display.Javascript object>"
      ]
     },
     "metadata": {},
     "output_type": "display_data"
    },
    {
     "data": {
      "application/javascript": [
       "\n",
       "        if (window._pyforest_update_imports_cell) { window._pyforest_update_imports_cell('import numpy as np\\nimport pandas as pd\\nimport matplotlib.pyplot as plt'); }\n",
       "    "
      ],
      "text/plain": [
       "<IPython.core.display.Javascript object>"
      ]
     },
     "metadata": {},
     "output_type": "display_data"
    },
    {
     "data": {
      "application/javascript": [
       "\n",
       "        if (window._pyforest_update_imports_cell) { window._pyforest_update_imports_cell('import numpy as np\\nimport pandas as pd\\nimport matplotlib.pyplot as plt'); }\n",
       "    "
      ],
      "text/plain": [
       "<IPython.core.display.Javascript object>"
      ]
     },
     "metadata": {},
     "output_type": "display_data"
    },
    {
     "data": {
      "application/javascript": [
       "\n",
       "        if (window._pyforest_update_imports_cell) { window._pyforest_update_imports_cell('import numpy as np\\nimport pandas as pd\\nimport matplotlib.pyplot as plt'); }\n",
       "    "
      ],
      "text/plain": [
       "<IPython.core.display.Javascript object>"
      ]
     },
     "metadata": {},
     "output_type": "display_data"
    },
    {
     "data": {
      "application/javascript": [
       "\n",
       "        if (window._pyforest_update_imports_cell) { window._pyforest_update_imports_cell('import numpy as np\\nimport pandas as pd\\nimport matplotlib.pyplot as plt'); }\n",
       "    "
      ],
      "text/plain": [
       "<IPython.core.display.Javascript object>"
      ]
     },
     "metadata": {},
     "output_type": "display_data"
    },
    {
     "data": {
      "application/javascript": [
       "\n",
       "        if (window._pyforest_update_imports_cell) { window._pyforest_update_imports_cell('import numpy as np\\nimport pandas as pd\\nimport matplotlib.pyplot as plt'); }\n",
       "    "
      ],
      "text/plain": [
       "<IPython.core.display.Javascript object>"
      ]
     },
     "metadata": {},
     "output_type": "display_data"
    },
    {
     "data": {
      "application/javascript": [
       "\n",
       "        if (window._pyforest_update_imports_cell) { window._pyforest_update_imports_cell('import numpy as np\\nimport pandas as pd\\nimport matplotlib.pyplot as plt'); }\n",
       "    "
      ],
      "text/plain": [
       "<IPython.core.display.Javascript object>"
      ]
     },
     "metadata": {},
     "output_type": "display_data"
    },
    {
     "data": {
      "application/javascript": [
       "\n",
       "        if (window._pyforest_update_imports_cell) { window._pyforest_update_imports_cell('import numpy as np\\nimport pandas as pd\\nimport matplotlib.pyplot as plt'); }\n",
       "    "
      ],
      "text/plain": [
       "<IPython.core.display.Javascript object>"
      ]
     },
     "metadata": {},
     "output_type": "display_data"
    },
    {
     "data": {
      "application/javascript": [
       "\n",
       "        if (window._pyforest_update_imports_cell) { window._pyforest_update_imports_cell('import numpy as np\\nimport pandas as pd\\nimport matplotlib.pyplot as plt'); }\n",
       "    "
      ],
      "text/plain": [
       "<IPython.core.display.Javascript object>"
      ]
     },
     "metadata": {},
     "output_type": "display_data"
    },
    {
     "data": {
      "image/png": "[encoded data removed]",
      "text/plain": [
       "<Figure size 1080x1080 with 6 Axes>"
      ]
     },
     "metadata": {
      "needs_background": "light"
     },
     "output_type": "display_data"
    }
   ],
   "source": [
    "plt.figure(figsize=(15, 15))\n",
    "\n",
    "for i, column in enumerate(continous_columns, 1):\n",
    "    plt.subplot(3, 2, i)\n",
    "    Agriculture_Data[Agriculture_Data[\"region\"] == 'Kolda'][Agriculture_Data[\"Date\"] == 2017][column].hist(bins=5, color='blue', label='Date = 2017', alpha = 0.7)\n",
    "    Agriculture_Data[Agriculture_Data[\"region\"] == 'Kolda'][Agriculture_Data[\"Date\"] == 2018][column].hist(bins=5, color='red', label='Date = 2018', alpha = 0.7)\n",
    "    plt.legend()\n",
    "    plt.xlabel(column)"
   ]
  },
  {
   "cell_type": "markdown",
   "metadata": {},
   "source": [
    "- Concernant les indicateurs enregistrés dans la région de Kolda en 2018, la grande majorité sont en réduction par rapport aux indicateurs enregistrés en 2017. Seuls les indicateurs 'Ménages exploitant moins de 3 parcelles (%)' et 'Superficie moyenne des parcelles par ménage (Ha)' qui sont en hausse."
   ]
  },
  {
   "cell_type": "markdown",
   "metadata": {},
   "source": [
    "## Exploitation des données sur l'urbanisation "
   ]
  },
  {
   "cell_type": "markdown",
   "metadata": {},
   "source": [
    "### Importer les données "
   ]
  },
  {
   "cell_type": "code",
   "execution_count": 58,
   "metadata": {},
   "outputs": [
    {
     "data": {
      "application/javascript": [
       "\n",
       "        if (window._pyforest_update_imports_cell) { window._pyforest_update_imports_cell('import numpy as np\\nimport pandas as pd\\nimport matplotlib.pyplot as plt'); }\n",
       "    "
      ],
      "text/plain": [
       "<IPython.core.display.Javascript object>"
      ]
     },
     "metadata": {},
     "output_type": "display_data"
    }
   ],
   "source": [
    "Urbanization_Data = pd.read_csv('data/Urbanization_Data.csv')"
   ]
  },
  {
   "cell_type": "code",
   "execution_count": 59,
   "metadata": {},
   "outputs": [
    {
     "data": {
      "text/html": [
       "<div>\n",
       "<style scoped>\n",
       "    .dataframe tbody tr th:only-of-type {\n",
       "        vertical-align: middle;\n",
       "    }\n",
       "\n",
       "    .dataframe tbody tr th {\n",
       "        vertical-align: top;\n",
       "    }\n",
       "\n",
       "    .dataframe thead th {\n",
       "        text-align: right;\n",
       "    }\n",
       "</style>\n",
       "<table border=\"1\" class=\"dataframe\">\n",
       "  <thead>\n",
       "    <tr style=\"text-align: right;\">\n",
       "      <th></th>\n",
       "      <th>region</th>\n",
       "      <th>indicator</th>\n",
       "      <th>Unit</th>\n",
       "      <th>Date</th>\n",
       "      <th>Value</th>\n",
       "    </tr>\n",
       "  </thead>\n",
       "  <tbody>\n",
       "    <tr>\n",
       "      <th>0</th>\n",
       "      <td>Dakar</td>\n",
       "      <td>Taux d'urbanisation</td>\n",
       "      <td>NaN</td>\n",
       "      <td>1970</td>\n",
       "      <td>96.188240</td>\n",
       "    </tr>\n",
       "    <tr>\n",
       "      <th>1</th>\n",
       "      <td>Dakar</td>\n",
       "      <td>Taux d'urbanisation</td>\n",
       "      <td>NaN</td>\n",
       "      <td>1971</td>\n",
       "      <td>96.205776</td>\n",
       "    </tr>\n",
       "    <tr>\n",
       "      <th>2</th>\n",
       "      <td>Dakar</td>\n",
       "      <td>Taux d'urbanisation</td>\n",
       "      <td>NaN</td>\n",
       "      <td>1972</td>\n",
       "      <td>96.223231</td>\n",
       "    </tr>\n",
       "    <tr>\n",
       "      <th>3</th>\n",
       "      <td>Dakar</td>\n",
       "      <td>Taux d'urbanisation</td>\n",
       "      <td>NaN</td>\n",
       "      <td>1973</td>\n",
       "      <td>96.240606</td>\n",
       "    </tr>\n",
       "    <tr>\n",
       "      <th>4</th>\n",
       "      <td>Dakar</td>\n",
       "      <td>Taux d'urbanisation</td>\n",
       "      <td>NaN</td>\n",
       "      <td>1974</td>\n",
       "      <td>96.257900</td>\n",
       "    </tr>\n",
       "  </tbody>\n",
       "</table>\n",
       "</div>"
      ],
      "text/plain": [
       "  region            indicator  Unit  Date      Value\n",
       "0  Dakar  Taux d'urbanisation   NaN  1970  96.188240\n",
       "1  Dakar  Taux d'urbanisation   NaN  1971  96.205776\n",
       "2  Dakar  Taux d'urbanisation   NaN  1972  96.223231\n",
       "3  Dakar  Taux d'urbanisation   NaN  1973  96.240606\n",
       "4  Dakar  Taux d'urbanisation   NaN  1974  96.257900"
      ]
     },
     "execution_count": 59,
     "metadata": {},
     "output_type": "execute_result"
    }
   ],
   "source": [
    "Urbanization_Data.head()"
   ]
  },
  {
   "cell_type": "markdown",
   "metadata": {},
   "source": [
    "### Visualisation de la variation du taux d'urbanisation dans quelques régions"
   ]
  },
  {
   "cell_type": "markdown",
   "metadata": {},
   "source": [
    "##### Visualisation de la variation du taux d'urbanisation dans la région de Dakar de 1970  à 2020"
   ]
  },
  {
   "cell_type": "code",
   "execution_count": 60,
   "metadata": {},
   "outputs": [],
   "source": [
    "dat1 = Urbanization_Data[Urbanization_Data['indicator'] == \"Taux d'urbanisation\"][Urbanization_Data['region'] == 'Dakar']"
   ]
  },
  {
   "cell_type": "code",
   "execution_count": 61,
   "metadata": {},
   "outputs": [
    {
     "data": {
      "application/javascript": [
       "\n",
       "        if (window._pyforest_update_imports_cell) { window._pyforest_update_imports_cell('import numpy as np\\nimport pandas as pd\\nimport matplotlib.pyplot as plt'); }\n",
       "    "
      ],
      "text/plain": [
       "<IPython.core.display.Javascript object>"
      ]
     },
     "metadata": {},
     "output_type": "display_data"
    },
    {
     "data": {
      "application/javascript": [
       "\n",
       "        if (window._pyforest_update_imports_cell) { window._pyforest_update_imports_cell('import numpy as np\\nimport pandas as pd\\nimport matplotlib.pyplot as plt'); }\n",
       "    "
      ],
      "text/plain": [
       "<IPython.core.display.Javascript object>"
      ]
     },
     "metadata": {},
     "output_type": "display_data"
    },
    {
     "data": {
      "application/javascript": [
       "\n",
       "        if (window._pyforest_update_imports_cell) { window._pyforest_update_imports_cell('import numpy as np\\nimport pandas as pd\\nimport matplotlib.pyplot as plt'); }\n",
       "    "
      ],
      "text/plain": [
       "<IPython.core.display.Javascript object>"
      ]
     },
     "metadata": {},
     "output_type": "display_data"
    },
    {
     "data": {
      "image/png": "[encoded data removed]",
      "text/plain": [
       "<Figure size 432x288 with 1 Axes>"
      ]
     },
     "metadata": {
      "needs_background": "light"
     },
     "output_type": "display_data"
    }
   ],
   "source": [
    "plt.plot(dat1['Date'], dat1['Value'])\n",
    "plt.grid()\n",
    "plt.show()"
   ]
  },
  {
   "cell_type": "markdown",
   "metadata": {},
   "source": [
    "##### Visualisation de la variation du taux d'urbanisation dans la région de Thies de 1970  à 2020"
   ]
  },
  {
   "cell_type": "code",
   "execution_count": 62,
   "metadata": {},
   "outputs": [],
   "source": [
    "dat1 = Urbanization_Data[Urbanization_Data['indicator'] == \"Taux d'urbanisation\"][Urbanization_Data['region'] == 'Thies']"
   ]
  },
  {
   "cell_type": "code",
   "execution_count": 63,
   "metadata": {},
   "outputs": [
    {
     "data": {
      "application/javascript": [
       "\n",
       "        if (window._pyforest_update_imports_cell) { window._pyforest_update_imports_cell('import numpy as np\\nimport pandas as pd\\nimport matplotlib.pyplot as plt'); }\n",
       "    "
      ],
      "text/plain": [
       "<IPython.core.display.Javascript object>"
      ]
     },
     "metadata": {},
     "output_type": "display_data"
    },
    {
     "data": {
      "application/javascript": [
       "\n",
       "        if (window._pyforest_update_imports_cell) { window._pyforest_update_imports_cell('import numpy as np\\nimport pandas as pd\\nimport matplotlib.pyplot as plt'); }\n",
       "    "
      ],
      "text/plain": [
       "<IPython.core.display.Javascript object>"
      ]
     },
     "metadata": {},
     "output_type": "display_data"
    },
    {
     "data": {
      "application/javascript": [
       "\n",
       "        if (window._pyforest_update_imports_cell) { window._pyforest_update_imports_cell('import numpy as np\\nimport pandas as pd\\nimport matplotlib.pyplot as plt'); }\n",
       "    "
      ],
      "text/plain": [
       "<IPython.core.display.Javascript object>"
      ]
     },
     "metadata": {},
     "output_type": "display_data"
    },
    {
     "data": {
      "image/png": "[encoded data removed]",
      "text/plain": [
       "<Figure size 432x288 with 1 Axes>"
      ]
     },
     "metadata": {
      "needs_background": "light"
     },
     "output_type": "display_data"
    }
   ],
   "source": [
    "plt.plot(dat1['Date'], dat1['Value'], color = 'r')\n",
    "plt.grid()\n",
    "plt.show()"
   ]
  },
  {
   "cell_type": "markdown",
   "metadata": {},
   "source": [
    "##### Visualisation de la variation du taux d'urbanisation dans la région de Saint-Louis de 1970  à 2020"
   ]
  },
  {
   "cell_type": "code",
   "execution_count": 64,
   "metadata": {},
   "outputs": [],
   "source": [
    "dat1 = Urbanization_Data[Urbanization_Data['indicator'] == \"Taux d'urbanisation\"][Urbanization_Data['region'] == 'Saint Louis']"
   ]
  },
  {
   "cell_type": "code",
   "execution_count": 65,
   "metadata": {},
   "outputs": [
    {
     "data": {
      "application/javascript": [
       "\n",
       "        if (window._pyforest_update_imports_cell) { window._pyforest_update_imports_cell('import numpy as np\\nimport pandas as pd\\nimport matplotlib.pyplot as plt'); }\n",
       "    "
      ],
      "text/plain": [
       "<IPython.core.display.Javascript object>"
      ]
     },
     "metadata": {},
     "output_type": "display_data"
    },
    {
     "data": {
      "application/javascript": [
       "\n",
       "        if (window._pyforest_update_imports_cell) { window._pyforest_update_imports_cell('import numpy as np\\nimport pandas as pd\\nimport matplotlib.pyplot as plt'); }\n",
       "    "
      ],
      "text/plain": [
       "<IPython.core.display.Javascript object>"
      ]
     },
     "metadata": {},
     "output_type": "display_data"
    },
    {
     "data": {
      "application/javascript": [
       "\n",
       "        if (window._pyforest_update_imports_cell) { window._pyforest_update_imports_cell('import numpy as np\\nimport pandas as pd\\nimport matplotlib.pyplot as plt'); }\n",
       "    "
      ],
      "text/plain": [
       "<IPython.core.display.Javascript object>"
      ]
     },
     "metadata": {},
     "output_type": "display_data"
    },
    {
     "data": {
      "image/png": "[encoded data removed]",
      "text/plain": [
       "<Figure size 432x288 with 1 Axes>"
      ]
     },
     "metadata": {
      "needs_background": "light"
     },
     "output_type": "display_data"
    }
   ],
   "source": [
    "plt.plot(dat1['Date'], dat1['Value'], color = 'g')\n",
    "plt.grid()\n",
    "plt.show()"
   ]
  },
  {
   "cell_type": "markdown",
   "metadata": {},
   "source": [
    "##### Visualisation de la variation du taux d'urbanisation dans la région de Ziguinchor de 1970  à 2020"
   ]
  },
  {
   "cell_type": "code",
   "execution_count": 66,
   "metadata": {},
   "outputs": [],
   "source": [
    "dat1 = Urbanization_Data[Urbanization_Data['indicator'] == \"Taux d'urbanisation\"][Urbanization_Data['region'] == 'Ziguinchor']"
   ]
  },
  {
   "cell_type": "code",
   "execution_count": 67,
   "metadata": {},
   "outputs": [
    {
     "data": {
      "application/javascript": [
       "\n",
       "        if (window._pyforest_update_imports_cell) { window._pyforest_update_imports_cell('import numpy as np\\nimport pandas as pd\\nimport matplotlib.pyplot as plt'); }\n",
       "    "
      ],
      "text/plain": [
       "<IPython.core.display.Javascript object>"
      ]
     },
     "metadata": {},
     "output_type": "display_data"
    },
    {
     "data": {
      "application/javascript": [
       "\n",
       "        if (window._pyforest_update_imports_cell) { window._pyforest_update_imports_cell('import numpy as np\\nimport pandas as pd\\nimport matplotlib.pyplot as plt'); }\n",
       "    "
      ],
      "text/plain": [
       "<IPython.core.display.Javascript object>"
      ]
     },
     "metadata": {},
     "output_type": "display_data"
    },
    {
     "data": {
      "application/javascript": [
       "\n",
       "        if (window._pyforest_update_imports_cell) { window._pyforest_update_imports_cell('import numpy as np\\nimport pandas as pd\\nimport matplotlib.pyplot as plt'); }\n",
       "    "
      ],
      "text/plain": [
       "<IPython.core.display.Javascript object>"
      ]
     },
     "metadata": {},
     "output_type": "display_data"
    },
    {
     "data": {
      "image/png": "[encoded data removed]",
      "text/plain": [
       "<Figure size 432x288 with 1 Axes>"
      ]
     },
     "metadata": {
      "needs_background": "light"
     },
     "output_type": "display_data"
    }
   ],
   "source": [
    "plt.plot(dat1['Date'], dat1['Value'], color = 'b')\n",
    "plt.grid()\n",
    "plt.show()"
   ]
  },
  {
   "cell_type": "markdown",
   "metadata": {},
   "source": [
    "- On observe à travers les figures ci-dessous que le taux d'urbanisation ne cesse d'augmenter dans les régions de Dakar, Thies, Saint Louis et Ziguinchor depuis les années 1970 jusqu'en 2020. En ne considérant que les régions Thies, Saint Louis et Ziguinchor, on voit que le taux d'urbanisation a augmenté respectivement d'environ 25 %, 30 % et 22 % dans ces régions. L'augmentation du taux d'urbanisation dans ces régions entraine une augmentation du menace de déforestation.\n",
    "\n",
    "- En ce qui concerne la région de Dakar, elle enregistre le taux d'urbanisation le plus élevé (plus de 90 %) depuis 1970 jusqu'en 2020 faisant d'elle la région la plus menace par la déforestation."
   ]
  },
  {
   "cell_type": "markdown",
   "metadata": {},
   "source": [
    "##### Sélectionner les indicateurs prélevés en 2017 et 2018"
   ]
  },
  {
   "cell_type": "code",
   "execution_count": 68,
   "metadata": {},
   "outputs": [],
   "source": [
    "array = [2017, 2018]\n",
    "Urbanization_Data = Urbanization_Data.loc[Urbanization_Data['Date'].isin(array)]"
   ]
  },
  {
   "cell_type": "code",
   "execution_count": 69,
   "metadata": {},
   "outputs": [
    {
     "data": {
      "text/html": [
       "<div>\n",
       "<style scoped>\n",
       "    .dataframe tbody tr th:only-of-type {\n",
       "        vertical-align: middle;\n",
       "    }\n",
       "\n",
       "    .dataframe tbody tr th {\n",
       "        vertical-align: top;\n",
       "    }\n",
       "\n",
       "    .dataframe thead th {\n",
       "        text-align: right;\n",
       "    }\n",
       "</style>\n",
       "<table border=\"1\" class=\"dataframe\">\n",
       "  <thead>\n",
       "    <tr style=\"text-align: right;\">\n",
       "      <th></th>\n",
       "      <th>region</th>\n",
       "      <th>indicator</th>\n",
       "      <th>Unit</th>\n",
       "      <th>Date</th>\n",
       "      <th>Value</th>\n",
       "    </tr>\n",
       "  </thead>\n",
       "  <tbody>\n",
       "    <tr>\n",
       "      <th>45</th>\n",
       "      <td>Dakar</td>\n",
       "      <td>Taux d'urbanisation</td>\n",
       "      <td>NaN</td>\n",
       "      <td>2017</td>\n",
       "      <td>9.640002e+01</td>\n",
       "    </tr>\n",
       "    <tr>\n",
       "      <th>46</th>\n",
       "      <td>Dakar</td>\n",
       "      <td>Taux d'urbanisation</td>\n",
       "      <td>NaN</td>\n",
       "      <td>2018</td>\n",
       "      <td>9.639996e+01</td>\n",
       "    </tr>\n",
       "    <tr>\n",
       "      <th>92</th>\n",
       "      <td>Dakar</td>\n",
       "      <td>Effectif de la population</td>\n",
       "      <td>NaN</td>\n",
       "      <td>2017</td>\n",
       "      <td>3.529300e+06</td>\n",
       "    </tr>\n",
       "    <tr>\n",
       "      <th>93</th>\n",
       "      <td>Dakar</td>\n",
       "      <td>Effectif de la population</td>\n",
       "      <td>NaN</td>\n",
       "      <td>2018</td>\n",
       "      <td>3.630324e+06</td>\n",
       "    </tr>\n",
       "    <tr>\n",
       "      <th>139</th>\n",
       "      <td>Dakar</td>\n",
       "      <td>Population urbaine</td>\n",
       "      <td>NaN</td>\n",
       "      <td>2017</td>\n",
       "      <td>3.402246e+06</td>\n",
       "    </tr>\n",
       "  </tbody>\n",
       "</table>\n",
       "</div>"
      ],
      "text/plain": [
       "    region                  indicator  Unit  Date         Value\n",
       "45   Dakar        Taux d'urbanisation   NaN  2017  9.640002e+01\n",
       "46   Dakar        Taux d'urbanisation   NaN  2018  9.639996e+01\n",
       "92   Dakar  Effectif de la population   NaN  2017  3.529300e+06\n",
       "93   Dakar  Effectif de la population   NaN  2018  3.630324e+06\n",
       "139  Dakar         Population urbaine   NaN  2017  3.402246e+06"
      ]
     },
     "execution_count": 69,
     "metadata": {},
     "output_type": "execute_result"
    }
   ],
   "source": [
    "Urbanization_Data.head()"
   ]
  },
  {
   "cell_type": "markdown",
   "metadata": {},
   "source": [
    "### Lecture des données et Transformation des données"
   ]
  },
  {
   "cell_type": "code",
   "execution_count": 70,
   "metadata": {},
   "outputs": [
    {
     "data": {
      "application/javascript": [
       "\n",
       "        if (window._pyforest_update_imports_cell) { window._pyforest_update_imports_cell('import numpy as np\\nimport pandas as pd\\nimport matplotlib.pyplot as plt'); }\n",
       "    "
      ],
      "text/plain": [
       "<IPython.core.display.Javascript object>"
      ]
     },
     "metadata": {},
     "output_type": "display_data"
    },
    {
     "data": {
      "text/plain": [
       "array(['Effectif de la population', 'Population rurale',\n",
       "       'Population urbaine', \"Taux d'urbanisation\"], dtype=object)"
      ]
     },
     "execution_count": 70,
     "metadata": {},
     "output_type": "execute_result"
    }
   ],
   "source": [
    "np.unique(Urbanization_Data[['indicator']])"
   ]
  },
  {
   "cell_type": "markdown",
   "metadata": {},
   "source": [
    "##### Effectif de la population dans chaque région "
   ]
  },
  {
   "cell_type": "code",
   "execution_count": 71,
   "metadata": {},
   "outputs": [
    {
     "data": {
      "text/html": [
       "<div>\n",
       "<style scoped>\n",
       "    .dataframe tbody tr th:only-of-type {\n",
       "        vertical-align: middle;\n",
       "    }\n",
       "\n",
       "    .dataframe tbody tr th {\n",
       "        vertical-align: top;\n",
       "    }\n",
       "\n",
       "    .dataframe thead th {\n",
       "        text-align: right;\n",
       "    }\n",
       "</style>\n",
       "<table border=\"1\" class=\"dataframe\">\n",
       "  <thead>\n",
       "    <tr style=\"text-align: right;\">\n",
       "      <th></th>\n",
       "      <th>region</th>\n",
       "      <th>indicator</th>\n",
       "      <th>Unit</th>\n",
       "      <th>Date</th>\n",
       "      <th>Value</th>\n",
       "    </tr>\n",
       "  </thead>\n",
       "  <tbody>\n",
       "    <tr>\n",
       "      <th>0</th>\n",
       "      <td>Dakar</td>\n",
       "      <td>Effectif de la population</td>\n",
       "      <td>NaN</td>\n",
       "      <td>2017</td>\n",
       "      <td>3529300.0</td>\n",
       "    </tr>\n",
       "    <tr>\n",
       "      <th>1</th>\n",
       "      <td>Dakar</td>\n",
       "      <td>Effectif de la population</td>\n",
       "      <td>NaN</td>\n",
       "      <td>2018</td>\n",
       "      <td>3630324.0</td>\n",
       "    </tr>\n",
       "    <tr>\n",
       "      <th>2</th>\n",
       "      <td>Diourbel</td>\n",
       "      <td>Effectif de la population</td>\n",
       "      <td>NaN</td>\n",
       "      <td>2017</td>\n",
       "      <td>1692967.0</td>\n",
       "    </tr>\n",
       "    <tr>\n",
       "      <th>3</th>\n",
       "      <td>Diourbel</td>\n",
       "      <td>Effectif de la population</td>\n",
       "      <td>NaN</td>\n",
       "      <td>2018</td>\n",
       "      <td>1746496.0</td>\n",
       "    </tr>\n",
       "    <tr>\n",
       "      <th>4</th>\n",
       "      <td>Fatick</td>\n",
       "      <td>Effectif de la population</td>\n",
       "      <td>NaN</td>\n",
       "      <td>2017</td>\n",
       "      <td>813542.0</td>\n",
       "    </tr>\n",
       "  </tbody>\n",
       "</table>\n",
       "</div>"
      ],
      "text/plain": [
       "     region                  indicator  Unit  Date      Value\n",
       "0     Dakar  Effectif de la population   NaN  2017  3529300.0\n",
       "1     Dakar  Effectif de la population   NaN  2018  3630324.0\n",
       "2  Diourbel  Effectif de la population   NaN  2017  1692967.0\n",
       "3  Diourbel  Effectif de la population   NaN  2018  1746496.0\n",
       "4    Fatick  Effectif de la population   NaN  2017   813542.0"
      ]
     },
     "execution_count": 71,
     "metadata": {},
     "output_type": "execute_result"
    }
   ],
   "source": [
    "Data1 = Urbanization_Data.loc[Urbanization_Data['indicator'] == 'Effectif de la population'].reset_index(drop = True)\n",
    "Data1.head()"
   ]
  },
  {
   "cell_type": "code",
   "execution_count": 72,
   "metadata": {},
   "outputs": [],
   "source": [
    "Data1 = Data1[['region', 'Date','Value']].reset_index(drop = True)"
   ]
  },
  {
   "cell_type": "markdown",
   "metadata": {},
   "source": [
    "##### Population rurale dans chaque région"
   ]
  },
  {
   "cell_type": "code",
   "execution_count": 73,
   "metadata": {},
   "outputs": [
    {
     "data": {
      "text/html": [
       "<div>\n",
       "<style scoped>\n",
       "    .dataframe tbody tr th:only-of-type {\n",
       "        vertical-align: middle;\n",
       "    }\n",
       "\n",
       "    .dataframe tbody tr th {\n",
       "        vertical-align: top;\n",
       "    }\n",
       "\n",
       "    .dataframe thead th {\n",
       "        text-align: right;\n",
       "    }\n",
       "</style>\n",
       "<table border=\"1\" class=\"dataframe\">\n",
       "  <thead>\n",
       "    <tr style=\"text-align: right;\">\n",
       "      <th></th>\n",
       "      <th>region</th>\n",
       "      <th>indicator</th>\n",
       "      <th>Unit</th>\n",
       "      <th>Date</th>\n",
       "      <th>Value</th>\n",
       "    </tr>\n",
       "  </thead>\n",
       "  <tbody>\n",
       "    <tr>\n",
       "      <th>0</th>\n",
       "      <td>Dakar</td>\n",
       "      <td>Population rurale</td>\n",
       "      <td>NaN</td>\n",
       "      <td>2017</td>\n",
       "      <td>127054.0</td>\n",
       "    </tr>\n",
       "    <tr>\n",
       "      <th>1</th>\n",
       "      <td>Dakar</td>\n",
       "      <td>Population rurale</td>\n",
       "      <td>NaN</td>\n",
       "      <td>2018</td>\n",
       "      <td>130693.0</td>\n",
       "    </tr>\n",
       "    <tr>\n",
       "      <th>2</th>\n",
       "      <td>Diourbel</td>\n",
       "      <td>Population rurale</td>\n",
       "      <td>NaN</td>\n",
       "      <td>2017</td>\n",
       "      <td>1418707.0</td>\n",
       "    </tr>\n",
       "    <tr>\n",
       "      <th>3</th>\n",
       "      <td>Diourbel</td>\n",
       "      <td>Population rurale</td>\n",
       "      <td>NaN</td>\n",
       "      <td>2018</td>\n",
       "      <td>1463564.0</td>\n",
       "    </tr>\n",
       "    <tr>\n",
       "      <th>4</th>\n",
       "      <td>Fatick</td>\n",
       "      <td>Population rurale</td>\n",
       "      <td>NaN</td>\n",
       "      <td>2017</td>\n",
       "      <td>676053.0</td>\n",
       "    </tr>\n",
       "  </tbody>\n",
       "</table>\n",
       "</div>"
      ],
      "text/plain": [
       "     region          indicator  Unit  Date      Value\n",
       "0     Dakar  Population rurale   NaN  2017   127054.0\n",
       "1     Dakar  Population rurale   NaN  2018   130693.0\n",
       "2  Diourbel  Population rurale   NaN  2017  1418707.0\n",
       "3  Diourbel  Population rurale   NaN  2018  1463564.0\n",
       "4    Fatick  Population rurale   NaN  2017   676053.0"
      ]
     },
     "execution_count": 73,
     "metadata": {},
     "output_type": "execute_result"
    }
   ],
   "source": [
    "Data2 = Urbanization_Data.loc[Urbanization_Data['indicator'] == 'Population rurale'].reset_index(drop = True)\n",
    "Data2.head()"
   ]
  },
  {
   "cell_type": "code",
   "execution_count": 74,
   "metadata": {},
   "outputs": [],
   "source": [
    "Data2 = Data2[['Value']].reset_index(drop = True)"
   ]
  },
  {
   "cell_type": "markdown",
   "metadata": {},
   "source": [
    "##### Population urbaine dans chaque région"
   ]
  },
  {
   "cell_type": "code",
   "execution_count": 75,
   "metadata": {},
   "outputs": [
    {
     "data": {
      "text/html": [
       "<div>\n",
       "<style scoped>\n",
       "    .dataframe tbody tr th:only-of-type {\n",
       "        vertical-align: middle;\n",
       "    }\n",
       "\n",
       "    .dataframe tbody tr th {\n",
       "        vertical-align: top;\n",
       "    }\n",
       "\n",
       "    .dataframe thead th {\n",
       "        text-align: right;\n",
       "    }\n",
       "</style>\n",
       "<table border=\"1\" class=\"dataframe\">\n",
       "  <thead>\n",
       "    <tr style=\"text-align: right;\">\n",
       "      <th></th>\n",
       "      <th>region</th>\n",
       "      <th>indicator</th>\n",
       "      <th>Unit</th>\n",
       "      <th>Date</th>\n",
       "      <th>Value</th>\n",
       "    </tr>\n",
       "  </thead>\n",
       "  <tbody>\n",
       "    <tr>\n",
       "      <th>0</th>\n",
       "      <td>Dakar</td>\n",
       "      <td>Population urbaine</td>\n",
       "      <td>NaN</td>\n",
       "      <td>2017</td>\n",
       "      <td>3402246.0</td>\n",
       "    </tr>\n",
       "    <tr>\n",
       "      <th>1</th>\n",
       "      <td>Dakar</td>\n",
       "      <td>Population urbaine</td>\n",
       "      <td>NaN</td>\n",
       "      <td>2018</td>\n",
       "      <td>3499631.0</td>\n",
       "    </tr>\n",
       "    <tr>\n",
       "      <th>2</th>\n",
       "      <td>Diourbel</td>\n",
       "      <td>Population urbaine</td>\n",
       "      <td>NaN</td>\n",
       "      <td>2017</td>\n",
       "      <td>274260.0</td>\n",
       "    </tr>\n",
       "    <tr>\n",
       "      <th>3</th>\n",
       "      <td>Diourbel</td>\n",
       "      <td>Population urbaine</td>\n",
       "      <td>NaN</td>\n",
       "      <td>2018</td>\n",
       "      <td>282932.0</td>\n",
       "    </tr>\n",
       "    <tr>\n",
       "      <th>4</th>\n",
       "      <td>Fatick</td>\n",
       "      <td>Population urbaine</td>\n",
       "      <td>NaN</td>\n",
       "      <td>2017</td>\n",
       "      <td>137489.0</td>\n",
       "    </tr>\n",
       "  </tbody>\n",
       "</table>\n",
       "</div>"
      ],
      "text/plain": [
       "     region           indicator  Unit  Date      Value\n",
       "0     Dakar  Population urbaine   NaN  2017  3402246.0\n",
       "1     Dakar  Population urbaine   NaN  2018  3499631.0\n",
       "2  Diourbel  Population urbaine   NaN  2017   274260.0\n",
       "3  Diourbel  Population urbaine   NaN  2018   282932.0\n",
       "4    Fatick  Population urbaine   NaN  2017   137489.0"
      ]
     },
     "execution_count": 75,
     "metadata": {},
     "output_type": "execute_result"
    }
   ],
   "source": [
    "Data3 = Urbanization_Data.loc[Urbanization_Data['indicator'] == 'Population urbaine'].reset_index(drop = True)\n",
    "Data3.head()"
   ]
  },
  {
   "cell_type": "code",
   "execution_count": 76,
   "metadata": {},
   "outputs": [],
   "source": [
    "Data3 = Data3[['Value']].reset_index(drop = True)"
   ]
  },
  {
   "cell_type": "markdown",
   "metadata": {},
   "source": [
    "##### Taux d'urbanisation dans chaque région "
   ]
  },
  {
   "cell_type": "code",
   "execution_count": 77,
   "metadata": {},
   "outputs": [
    {
     "data": {
      "text/html": [
       "<div>\n",
       "<style scoped>\n",
       "    .dataframe tbody tr th:only-of-type {\n",
       "        vertical-align: middle;\n",
       "    }\n",
       "\n",
       "    .dataframe tbody tr th {\n",
       "        vertical-align: top;\n",
       "    }\n",
       "\n",
       "    .dataframe thead th {\n",
       "        text-align: right;\n",
       "    }\n",
       "</style>\n",
       "<table border=\"1\" class=\"dataframe\">\n",
       "  <thead>\n",
       "    <tr style=\"text-align: right;\">\n",
       "      <th></th>\n",
       "      <th>region</th>\n",
       "      <th>indicator</th>\n",
       "      <th>Unit</th>\n",
       "      <th>Date</th>\n",
       "      <th>Value</th>\n",
       "    </tr>\n",
       "  </thead>\n",
       "  <tbody>\n",
       "    <tr>\n",
       "      <th>0</th>\n",
       "      <td>Dakar</td>\n",
       "      <td>Taux d'urbanisation</td>\n",
       "      <td>NaN</td>\n",
       "      <td>2017</td>\n",
       "      <td>96.400023</td>\n",
       "    </tr>\n",
       "    <tr>\n",
       "      <th>1</th>\n",
       "      <td>Dakar</td>\n",
       "      <td>Taux d'urbanisation</td>\n",
       "      <td>NaN</td>\n",
       "      <td>2018</td>\n",
       "      <td>96.399963</td>\n",
       "    </tr>\n",
       "    <tr>\n",
       "      <th>2</th>\n",
       "      <td>Diourbel</td>\n",
       "      <td>Taux d'urbanisation</td>\n",
       "      <td>NaN</td>\n",
       "      <td>2017</td>\n",
       "      <td>16.199961</td>\n",
       "    </tr>\n",
       "    <tr>\n",
       "      <th>3</th>\n",
       "      <td>Diourbel</td>\n",
       "      <td>Taux d'urbanisation</td>\n",
       "      <td>NaN</td>\n",
       "      <td>2018</td>\n",
       "      <td>16.199980</td>\n",
       "    </tr>\n",
       "    <tr>\n",
       "      <th>4</th>\n",
       "      <td>Fatick</td>\n",
       "      <td>Taux d'urbanisation</td>\n",
       "      <td>NaN</td>\n",
       "      <td>2017</td>\n",
       "      <td>16.900049</td>\n",
       "    </tr>\n",
       "  </tbody>\n",
       "</table>\n",
       "</div>"
      ],
      "text/plain": [
       "     region            indicator  Unit  Date      Value\n",
       "0     Dakar  Taux d'urbanisation   NaN  2017  96.400023\n",
       "1     Dakar  Taux d'urbanisation   NaN  2018  96.399963\n",
       "2  Diourbel  Taux d'urbanisation   NaN  2017  16.199961\n",
       "3  Diourbel  Taux d'urbanisation   NaN  2018  16.199980\n",
       "4    Fatick  Taux d'urbanisation   NaN  2017  16.900049"
      ]
     },
     "execution_count": 77,
     "metadata": {},
     "output_type": "execute_result"
    }
   ],
   "source": [
    "Data4 = Urbanization_Data.loc[Urbanization_Data['indicator'] == \"Taux d'urbanisation\"].reset_index(drop = True)\n",
    "Data4.head()"
   ]
  },
  {
   "cell_type": "code",
   "execution_count": 78,
   "metadata": {},
   "outputs": [],
   "source": [
    "Data4 = Data4[['Value']].reset_index(drop = True)"
   ]
  },
  {
   "cell_type": "markdown",
   "metadata": {},
   "source": [
    "### Assemblage des indicateurs sur l'urbanisation pour en faire un seul jeu de données "
   ]
  },
  {
   "cell_type": "code",
   "execution_count": 79,
   "metadata": {},
   "outputs": [
    {
     "data": {
      "application/javascript": [
       "\n",
       "        if (window._pyforest_update_imports_cell) { window._pyforest_update_imports_cell('import numpy as np\\nimport pandas as pd\\nimport matplotlib.pyplot as plt'); }\n",
       "    "
      ],
      "text/plain": [
       "<IPython.core.display.Javascript object>"
      ]
     },
     "metadata": {},
     "output_type": "display_data"
    }
   ],
   "source": [
    "Urbanization_Data = pd.concat([Data1, Data2, Data3, Data4], axis = 1)"
   ]
  },
  {
   "cell_type": "code",
   "execution_count": 80,
   "metadata": {},
   "outputs": [],
   "source": [
    "Urbanization_Data.columns = ['region', 'Date','Effectif de la population', 'Population rurale',\n",
    "       'Population urbaine', \"Taux d'urbanisation\"]"
   ]
  },
  {
   "cell_type": "markdown",
   "metadata": {},
   "source": [
    "##### Jeu de données final sur l'urbanisation"
   ]
  },
  {
   "cell_type": "code",
   "execution_count": 81,
   "metadata": {},
   "outputs": [
    {
     "data": {
      "text/html": [
       "<div>\n",
       "<style scoped>\n",
       "    .dataframe tbody tr th:only-of-type {\n",
       "        vertical-align: middle;\n",
       "    }\n",
       "\n",
       "    .dataframe tbody tr th {\n",
       "        vertical-align: top;\n",
       "    }\n",
       "\n",
       "    .dataframe thead th {\n",
       "        text-align: right;\n",
       "    }\n",
       "</style>\n",
       "<table border=\"1\" class=\"dataframe\">\n",
       "  <thead>\n",
       "    <tr style=\"text-align: right;\">\n",
       "      <th></th>\n",
       "      <th>region</th>\n",
       "      <th>Date</th>\n",
       "      <th>Effectif de la population</th>\n",
       "      <th>Population rurale</th>\n",
       "      <th>Population urbaine</th>\n",
       "      <th>Taux d'urbanisation</th>\n",
       "    </tr>\n",
       "  </thead>\n",
       "  <tbody>\n",
       "    <tr>\n",
       "      <th>0</th>\n",
       "      <td>Dakar</td>\n",
       "      <td>2017</td>\n",
       "      <td>3529300.0</td>\n",
       "      <td>127054.0</td>\n",
       "      <td>3402246.0</td>\n",
       "      <td>96.400023</td>\n",
       "    </tr>\n",
       "    <tr>\n",
       "      <th>1</th>\n",
       "      <td>Dakar</td>\n",
       "      <td>2018</td>\n",
       "      <td>3630324.0</td>\n",
       "      <td>130693.0</td>\n",
       "      <td>3499631.0</td>\n",
       "      <td>96.399963</td>\n",
       "    </tr>\n",
       "    <tr>\n",
       "      <th>2</th>\n",
       "      <td>Diourbel</td>\n",
       "      <td>2017</td>\n",
       "      <td>1692967.0</td>\n",
       "      <td>1418707.0</td>\n",
       "      <td>274260.0</td>\n",
       "      <td>16.199961</td>\n",
       "    </tr>\n",
       "    <tr>\n",
       "      <th>3</th>\n",
       "      <td>Diourbel</td>\n",
       "      <td>2018</td>\n",
       "      <td>1746496.0</td>\n",
       "      <td>1463564.0</td>\n",
       "      <td>282932.0</td>\n",
       "      <td>16.199980</td>\n",
       "    </tr>\n",
       "    <tr>\n",
       "      <th>4</th>\n",
       "      <td>Fatick</td>\n",
       "      <td>2017</td>\n",
       "      <td>813542.0</td>\n",
       "      <td>676053.0</td>\n",
       "      <td>137489.0</td>\n",
       "      <td>16.900049</td>\n",
       "    </tr>\n",
       "  </tbody>\n",
       "</table>\n",
       "</div>"
      ],
      "text/plain": [
       "     region  Date  Effectif de la population  Population rurale  \\\n",
       "0     Dakar  2017                  3529300.0           127054.0   \n",
       "1     Dakar  2018                  3630324.0           130693.0   \n",
       "2  Diourbel  2017                  1692967.0          1418707.0   \n",
       "3  Diourbel  2018                  1746496.0          1463564.0   \n",
       "4    Fatick  2017                   813542.0           676053.0   \n",
       "\n",
       "   Population urbaine  Taux d'urbanisation  \n",
       "0           3402246.0            96.400023  \n",
       "1           3499631.0            96.399963  \n",
       "2            274260.0            16.199961  \n",
       "3            282932.0            16.199980  \n",
       "4            137489.0            16.900049  "
      ]
     },
     "execution_count": 81,
     "metadata": {},
     "output_type": "execute_result"
    }
   ],
   "source": [
    "Urbanization_Data.head()"
   ]
  },
  {
   "cell_type": "markdown",
   "metadata": {},
   "source": [
    "##### Décrire les données "
   ]
  },
  {
   "cell_type": "code",
   "execution_count": 82,
   "metadata": {},
   "outputs": [
    {
     "data": {
      "text/html": [
       "<div>\n",
       "<style scoped>\n",
       "    .dataframe tbody tr th:only-of-type {\n",
       "        vertical-align: middle;\n",
       "    }\n",
       "\n",
       "    .dataframe tbody tr th {\n",
       "        vertical-align: top;\n",
       "    }\n",
       "\n",
       "    .dataframe thead th {\n",
       "        text-align: right;\n",
       "    }\n",
       "</style>\n",
       "<table border=\"1\" class=\"dataframe\">\n",
       "  <thead>\n",
       "    <tr style=\"text-align: right;\">\n",
       "      <th></th>\n",
       "      <th>Date</th>\n",
       "      <th>Effectif de la population</th>\n",
       "      <th>Population rurale</th>\n",
       "      <th>Population urbaine</th>\n",
       "      <th>Taux d'urbanisation</th>\n",
       "    </tr>\n",
       "  </thead>\n",
       "  <tbody>\n",
       "    <tr>\n",
       "      <th>count</th>\n",
       "      <td>28.000000</td>\n",
       "      <td>2.800000e+01</td>\n",
       "      <td>2.800000e+01</td>\n",
       "      <td>2.800000e+01</td>\n",
       "      <td>28.000000</td>\n",
       "    </tr>\n",
       "    <tr>\n",
       "      <th>mean</th>\n",
       "      <td>2017.500000</td>\n",
       "      <td>1.106515e+06</td>\n",
       "      <td>5.910026e+05</td>\n",
       "      <td>5.155124e+05</td>\n",
       "      <td>34.535694</td>\n",
       "    </tr>\n",
       "    <tr>\n",
       "      <th>std</th>\n",
       "      <td>0.509175</td>\n",
       "      <td>8.374225e+05</td>\n",
       "      <td>3.301001e+05</td>\n",
       "      <td>8.639206e+05</td>\n",
       "      <td>21.036519</td>\n",
       "    </tr>\n",
       "    <tr>\n",
       "      <th>min</th>\n",
       "      <td>2017.000000</td>\n",
       "      <td>1.724820e+05</td>\n",
       "      <td>1.262570e+05</td>\n",
       "      <td>4.622500e+04</td>\n",
       "      <td>16.199961</td>\n",
       "    </tr>\n",
       "    <tr>\n",
       "      <th>25%</th>\n",
       "      <td>2017.000000</td>\n",
       "      <td>6.550860e+05</td>\n",
       "      <td>4.121172e+05</td>\n",
       "      <td>1.422680e+05</td>\n",
       "      <td>22.274875</td>\n",
       "    </tr>\n",
       "    <tr>\n",
       "      <th>50%</th>\n",
       "      <td>2017.500000</td>\n",
       "      <td>8.128085e+05</td>\n",
       "      <td>5.469675e+05</td>\n",
       "      <td>2.224640e+05</td>\n",
       "      <td>26.349929</td>\n",
       "    </tr>\n",
       "    <tr>\n",
       "      <th>75%</th>\n",
       "      <td>2018.000000</td>\n",
       "      <td>1.094949e+06</td>\n",
       "      <td>6.981380e+05</td>\n",
       "      <td>4.073462e+05</td>\n",
       "      <td>47.874969</td>\n",
       "    </tr>\n",
       "    <tr>\n",
       "      <th>max</th>\n",
       "      <td>2018.000000</td>\n",
       "      <td>3.630324e+06</td>\n",
       "      <td>1.463564e+06</td>\n",
       "      <td>3.499631e+06</td>\n",
       "      <td>96.400023</td>\n",
       "    </tr>\n",
       "  </tbody>\n",
       "</table>\n",
       "</div>"
      ],
      "text/plain": [
       "              Date  Effectif de la population  Population rurale  \\\n",
       "count    28.000000               2.800000e+01       2.800000e+01   \n",
       "mean   2017.500000               1.106515e+06       5.910026e+05   \n",
       "std       0.509175               8.374225e+05       3.301001e+05   \n",
       "min    2017.000000               1.724820e+05       1.262570e+05   \n",
       "25%    2017.000000               6.550860e+05       4.121172e+05   \n",
       "50%    2017.500000               8.128085e+05       5.469675e+05   \n",
       "75%    2018.000000               1.094949e+06       6.981380e+05   \n",
       "max    2018.000000               3.630324e+06       1.463564e+06   \n",
       "\n",
       "       Population urbaine  Taux d'urbanisation  \n",
       "count        2.800000e+01            28.000000  \n",
       "mean         5.155124e+05            34.535694  \n",
       "std          8.639206e+05            21.036519  \n",
       "min          4.622500e+04            16.199961  \n",
       "25%          1.422680e+05            22.274875  \n",
       "50%          2.224640e+05            26.349929  \n",
       "75%          4.073462e+05            47.874969  \n",
       "max          3.499631e+06            96.400023  "
      ]
     },
     "execution_count": 82,
     "metadata": {},
     "output_type": "execute_result"
    }
   ],
   "source": [
    "Urbanization_Data.describe()"
   ]
  },
  {
   "cell_type": "markdown",
   "metadata": {},
   "source": [
    "##### Vérifier l'existence des valeurs manquantes"
   ]
  },
  {
   "cell_type": "code",
   "execution_count": 83,
   "metadata": {},
   "outputs": [
    {
     "data": {
      "text/plain": [
       "region                       0\n",
       "Date                         0\n",
       "Effectif de la population    0\n",
       "Population rurale            0\n",
       "Population urbaine           0\n",
       "Taux d'urbanisation          0\n",
       "dtype: int64"
      ]
     },
     "execution_count": 83,
     "metadata": {},
     "output_type": "execute_result"
    }
   ],
   "source": [
    "Urbanization_Data.isna().sum()"
   ]
  },
  {
   "cell_type": "markdown",
   "metadata": {},
   "source": [
    "##### Vérifier les types des données"
   ]
  },
  {
   "cell_type": "code",
   "execution_count": 84,
   "metadata": {},
   "outputs": [
    {
     "data": {
      "text/plain": [
       "region                        object\n",
       "Date                           int64\n",
       "Effectif de la population    float64\n",
       "Population rurale            float64\n",
       "Population urbaine           float64\n",
       "Taux d'urbanisation          float64\n",
       "dtype: object"
      ]
     },
     "execution_count": 84,
     "metadata": {},
     "output_type": "execute_result"
    }
   ],
   "source": [
    "Urbanization_Data.dtypes"
   ]
  },
  {
   "cell_type": "markdown",
   "metadata": {},
   "source": [
    "### Visualisation des données "
   ]
  },
  {
   "cell_type": "code",
   "execution_count": 85,
   "metadata": {},
   "outputs": [
    {
     "data": {
      "text/plain": [
       "Index(['Effectif de la population', 'Population rurale', 'Population urbaine',\n",
       "       'Taux d'urbanisation'],\n",
       "      dtype='object')"
      ]
     },
     "execution_count": 85,
     "metadata": {},
     "output_type": "execute_result"
    }
   ],
   "source": [
    "continous_columns = Urbanization_Data.iloc[:, 2:].columns\n",
    "continous_columns"
   ]
  },
  {
   "cell_type": "markdown",
   "metadata": {},
   "source": [
    "##### Visualisation  des indicateurs prélevés en 2017 et 2018 dans toutes régions "
   ]
  },
  {
   "cell_type": "code",
   "execution_count": 86,
   "metadata": {},
   "outputs": [
    {
     "data": {
      "application/javascript": [
       "\n",
       "        if (window._pyforest_update_imports_cell) { window._pyforest_update_imports_cell('import numpy as np\\nimport pandas as pd\\nimport matplotlib.pyplot as plt'); }\n",
       "    "
      ],
      "text/plain": [
       "<IPython.core.display.Javascript object>"
      ]
     },
     "metadata": {},
     "output_type": "display_data"
    },
    {
     "data": {
      "application/javascript": [
       "\n",
       "        if (window._pyforest_update_imports_cell) { window._pyforest_update_imports_cell('import numpy as np\\nimport pandas as pd\\nimport matplotlib.pyplot as plt'); }\n",
       "    "
      ],
      "text/plain": [
       "<IPython.core.display.Javascript object>"
      ]
     },
     "metadata": {},
     "output_type": "display_data"
    },
    {
     "data": {
      "application/javascript": [
       "\n",
       "        if (window._pyforest_update_imports_cell) { window._pyforest_update_imports_cell('import numpy as np\\nimport pandas as pd\\nimport matplotlib.pyplot as plt'); }\n",
       "    "
      ],
      "text/plain": [
       "<IPython.core.display.Javascript object>"
      ]
     },
     "metadata": {},
     "output_type": "display_data"
    },
    {
     "data": {
      "application/javascript": [
       "\n",
       "        if (window._pyforest_update_imports_cell) { window._pyforest_update_imports_cell('import numpy as np\\nimport pandas as pd\\nimport matplotlib.pyplot as plt'); }\n",
       "    "
      ],
      "text/plain": [
       "<IPython.core.display.Javascript object>"
      ]
     },
     "metadata": {},
     "output_type": "display_data"
    },
    {
     "data": {
      "application/javascript": [
       "\n",
       "        if (window._pyforest_update_imports_cell) { window._pyforest_update_imports_cell('import numpy as np\\nimport pandas as pd\\nimport matplotlib.pyplot as plt'); }\n",
       "    "
      ],
      "text/plain": [
       "<IPython.core.display.Javascript object>"
      ]
     },
     "metadata": {},
     "output_type": "display_data"
    },
    {
     "data": {
      "application/javascript": [
       "\n",
       "        if (window._pyforest_update_imports_cell) { window._pyforest_update_imports_cell('import numpy as np\\nimport pandas as pd\\nimport matplotlib.pyplot as plt'); }\n",
       "    "
      ],
      "text/plain": [
       "<IPython.core.display.Javascript object>"
      ]
     },
     "metadata": {},
     "output_type": "display_data"
    },
    {
     "data": {
      "application/javascript": [
       "\n",
       "        if (window._pyforest_update_imports_cell) { window._pyforest_update_imports_cell('import numpy as np\\nimport pandas as pd\\nimport matplotlib.pyplot as plt'); }\n",
       "    "
      ],
      "text/plain": [
       "<IPython.core.display.Javascript object>"
      ]
     },
     "metadata": {},
     "output_type": "display_data"
    },
    {
     "data": {
      "application/javascript": [
       "\n",
       "        if (window._pyforest_update_imports_cell) { window._pyforest_update_imports_cell('import numpy as np\\nimport pandas as pd\\nimport matplotlib.pyplot as plt'); }\n",
       "    "
      ],
      "text/plain": [
       "<IPython.core.display.Javascript object>"
      ]
     },
     "metadata": {},
     "output_type": "display_data"
    },
    {
     "data": {
      "application/javascript": [
       "\n",
       "        if (window._pyforest_update_imports_cell) { window._pyforest_update_imports_cell('import numpy as np\\nimport pandas as pd\\nimport matplotlib.pyplot as plt'); }\n",
       "    "
      ],
      "text/plain": [
       "<IPython.core.display.Javascript object>"
      ]
     },
     "metadata": {},
     "output_type": "display_data"
    },
    {
     "data": {
      "application/javascript": [
       "\n",
       "        if (window._pyforest_update_imports_cell) { window._pyforest_update_imports_cell('import numpy as np\\nimport pandas as pd\\nimport matplotlib.pyplot as plt'); }\n",
       "    "
      ],
      "text/plain": [
       "<IPython.core.display.Javascript object>"
      ]
     },
     "metadata": {},
     "output_type": "display_data"
    },
    {
     "data": {
      "application/javascript": [
       "\n",
       "        if (window._pyforest_update_imports_cell) { window._pyforest_update_imports_cell('import numpy as np\\nimport pandas as pd\\nimport matplotlib.pyplot as plt'); }\n",
       "    "
      ],
      "text/plain": [
       "<IPython.core.display.Javascript object>"
      ]
     },
     "metadata": {},
     "output_type": "display_data"
    },
    {
     "data": {
      "application/javascript": [
       "\n",
       "        if (window._pyforest_update_imports_cell) { window._pyforest_update_imports_cell('import numpy as np\\nimport pandas as pd\\nimport matplotlib.pyplot as plt'); }\n",
       "    "
      ],
      "text/plain": [
       "<IPython.core.display.Javascript object>"
      ]
     },
     "metadata": {},
     "output_type": "display_data"
    },
    {
     "data": {
      "application/javascript": [
       "\n",
       "        if (window._pyforest_update_imports_cell) { window._pyforest_update_imports_cell('import numpy as np\\nimport pandas as pd\\nimport matplotlib.pyplot as plt'); }\n",
       "    "
      ],
      "text/plain": [
       "<IPython.core.display.Javascript object>"
      ]
     },
     "metadata": {},
     "output_type": "display_data"
    },
    {
     "data": {
      "image/png": "[encoded data removed]",
      "text/plain": [
       "<Figure size 1080x1080 with 4 Axes>"
      ]
     },
     "metadata": {
      "needs_background": "light"
     },
     "output_type": "display_data"
    }
   ],
   "source": [
    "plt.figure(figsize=(15, 15))\n",
    "\n",
    "for i, column in enumerate(continous_columns, 1):\n",
    "    plt.subplot(3, 2, i)\n",
    "    Urbanization_Data[Urbanization_Data[\"Date\"] == 2017][column].hist(bins=35, color='red', label='Date = 2017', alpha=0.6)\n",
    "    Urbanization_Data[Urbanization_Data[\"Date\"] == 2018][column].hist(bins=35, color='green', label='Date = 2018', alpha=0.6)\n",
    "    plt.legend()\n",
    "    plt.xlabel(column)"
   ]
  },
  {
   "cell_type": "markdown",
   "metadata": {},
   "source": [
    "- On observe d'une manière générale à travers les figures ci-dessus qu'il n'y pas eu une grande variation de l'effectif de la population, de la population rurale, la population urbaine et du taux d'urbanisation dans les différentes régions de l'année 2017 à 2018."
   ]
  },
  {
   "cell_type": "markdown",
   "metadata": {},
   "source": [
    "##### Visualisation du taux d'urbanisation des régions de Dakar, Thies, Diourbel et Kolda en 2017 et 2018"
   ]
  },
  {
   "cell_type": "code",
   "execution_count": 87,
   "metadata": {},
   "outputs": [
    {
     "data": {
      "application/javascript": [
       "\n",
       "        if (window._pyforest_update_imports_cell) { window._pyforest_update_imports_cell('import numpy as np\\nimport pandas as pd\\nimport matplotlib.pyplot as plt'); }\n",
       "    "
      ],
      "text/plain": [
       "<IPython.core.display.Javascript object>"
      ]
     },
     "metadata": {},
     "output_type": "display_data"
    },
    {
     "data": {
      "application/javascript": [
       "\n",
       "        if (window._pyforest_update_imports_cell) { window._pyforest_update_imports_cell('import numpy as np\\nimport pandas as pd\\nimport matplotlib.pyplot as plt'); }\n",
       "    "
      ],
      "text/plain": [
       "<IPython.core.display.Javascript object>"
      ]
     },
     "metadata": {},
     "output_type": "display_data"
    },
    {
     "data": {
      "application/javascript": [
       "\n",
       "        if (window._pyforest_update_imports_cell) { window._pyforest_update_imports_cell('import numpy as np\\nimport pandas as pd\\nimport matplotlib.pyplot as plt'); }\n",
       "    "
      ],
      "text/plain": [
       "<IPython.core.display.Javascript object>"
      ]
     },
     "metadata": {},
     "output_type": "display_data"
    },
    {
     "data": {
      "application/javascript": [
       "\n",
       "        if (window._pyforest_update_imports_cell) { window._pyforest_update_imports_cell('import numpy as np\\nimport pandas as pd\\nimport matplotlib.pyplot as plt'); }\n",
       "    "
      ],
      "text/plain": [
       "<IPython.core.display.Javascript object>"
      ]
     },
     "metadata": {},
     "output_type": "display_data"
    },
    {
     "data": {
      "application/javascript": [
       "\n",
       "        if (window._pyforest_update_imports_cell) { window._pyforest_update_imports_cell('import numpy as np\\nimport pandas as pd\\nimport matplotlib.pyplot as plt'); }\n",
       "    "
      ],
      "text/plain": [
       "<IPython.core.display.Javascript object>"
      ]
     },
     "metadata": {},
     "output_type": "display_data"
    },
    {
     "data": {
      "application/javascript": [
       "\n",
       "        if (window._pyforest_update_imports_cell) { window._pyforest_update_imports_cell('import numpy as np\\nimport pandas as pd\\nimport matplotlib.pyplot as plt'); }\n",
       "    "
      ],
      "text/plain": [
       "<IPython.core.display.Javascript object>"
      ]
     },
     "metadata": {},
     "output_type": "display_data"
    },
    {
     "data": {
      "application/javascript": [
       "\n",
       "        if (window._pyforest_update_imports_cell) { window._pyforest_update_imports_cell('import numpy as np\\nimport pandas as pd\\nimport matplotlib.pyplot as plt'); }\n",
       "    "
      ],
      "text/plain": [
       "<IPython.core.display.Javascript object>"
      ]
     },
     "metadata": {},
     "output_type": "display_data"
    },
    {
     "data": {
      "application/javascript": [
       "\n",
       "        if (window._pyforest_update_imports_cell) { window._pyforest_update_imports_cell('import numpy as np\\nimport pandas as pd\\nimport matplotlib.pyplot as plt'); }\n",
       "    "
      ],
      "text/plain": [
       "<IPython.core.display.Javascript object>"
      ]
     },
     "metadata": {},
     "output_type": "display_data"
    },
    {
     "data": {
      "application/javascript": [
       "\n",
       "        if (window._pyforest_update_imports_cell) { window._pyforest_update_imports_cell('import numpy as np\\nimport pandas as pd\\nimport matplotlib.pyplot as plt'); }\n",
       "    "
      ],
      "text/plain": [
       "<IPython.core.display.Javascript object>"
      ]
     },
     "metadata": {},
     "output_type": "display_data"
    },
    {
     "data": {
      "application/javascript": [
       "\n",
       "        if (window._pyforest_update_imports_cell) { window._pyforest_update_imports_cell('import numpy as np\\nimport pandas as pd\\nimport matplotlib.pyplot as plt'); }\n",
       "    "
      ],
      "text/plain": [
       "<IPython.core.display.Javascript object>"
      ]
     },
     "metadata": {},
     "output_type": "display_data"
    },
    {
     "data": {
      "application/javascript": [
       "\n",
       "        if (window._pyforest_update_imports_cell) { window._pyforest_update_imports_cell('import numpy as np\\nimport pandas as pd\\nimport matplotlib.pyplot as plt'); }\n",
       "    "
      ],
      "text/plain": [
       "<IPython.core.display.Javascript object>"
      ]
     },
     "metadata": {},
     "output_type": "display_data"
    },
    {
     "data": {
      "application/javascript": [
       "\n",
       "        if (window._pyforest_update_imports_cell) { window._pyforest_update_imports_cell('import numpy as np\\nimport pandas as pd\\nimport matplotlib.pyplot as plt'); }\n",
       "    "
      ],
      "text/plain": [
       "<IPython.core.display.Javascript object>"
      ]
     },
     "metadata": {},
     "output_type": "display_data"
    },
    {
     "data": {
      "application/javascript": [
       "\n",
       "        if (window._pyforest_update_imports_cell) { window._pyforest_update_imports_cell('import numpy as np\\nimport pandas as pd\\nimport matplotlib.pyplot as plt'); }\n",
       "    "
      ],
      "text/plain": [
       "<IPython.core.display.Javascript object>"
      ]
     },
     "metadata": {},
     "output_type": "display_data"
    },
    {
     "data": {
      "image/png": "[encoded data removed]",
      "text/plain": [
       "<Figure size 1080x1080 with 4 Axes>"
      ]
     },
     "metadata": {
      "needs_background": "light"
     },
     "output_type": "display_data"
    }
   ],
   "source": [
    "plt.figure(figsize=(15, 15))\n",
    "\n",
    "for i, region in enumerate(['Dakar', 'Thies', 'Diourbel', 'Kolda'], 1):\n",
    "    plt.subplot(3, 2, i)\n",
    "    Urbanization_Data[Urbanization_Data[\"region\"] == region][Urbanization_Data[\"Date\"] == 2017][\"Taux d'urbanisation\"].hist(bins=20, color='red', label='Date = 2017', alpha=0.6)\n",
    "    Urbanization_Data[Urbanization_Data[\"region\"] == region][Urbanization_Data[\"Date\"] == 2018][\"Taux d'urbanisation\"].hist(bins=20, color='green', label='Date = 2018', alpha=0.6)\n",
    "    plt.legend()\n",
    "    plt.xlabel(region)"
   ]
  },
  {
   "cell_type": "markdown",
   "metadata": {},
   "source": [
    "- On voit à travers les figures 1 et 3 que le taux d'urbanisation des les régions de Dakar et Diourbel pour les années 2017 et 2018 est resté le même. Contrairement aux régions Thiès et Kolda leurs taux d'urbanisation pour l'année 2018 est en hausse par rapport aux ceux de l'année 2017.\n",
    "\n",
    "- Un autre constat est que la région de Dakar affiche le plus grand taux d'urbanisation avec une population à plus 90 % urbaine.  "
   ]
  },
  {
   "cell_type": "markdown",
   "metadata": {},
   "source": [
    "### Concaténation des deux jeu de données pour en faire un seul jeu de donnée"
   ]
  },
  {
   "cell_type": "code",
   "execution_count": 88,
   "metadata": {},
   "outputs": [
    {
     "data": {
      "application/javascript": [
       "\n",
       "        if (window._pyforest_update_imports_cell) { window._pyforest_update_imports_cell('import numpy as np\\nimport pandas as pd\\nimport matplotlib.pyplot as plt'); }\n",
       "    "
      ],
      "text/plain": [
       "<IPython.core.display.Javascript object>"
      ]
     },
     "metadata": {},
     "output_type": "display_data"
    }
   ],
   "source": [
    "Data1 = Urbanization_Data[continous_columns]\n",
    "Data_concat = pd.concat([Agriculture_Data, Data1], axis = 1)"
   ]
  },
  {
   "cell_type": "code",
   "execution_count": 89,
   "metadata": {},
   "outputs": [
    {
     "data": {
      "text/html": [
       "<div>\n",
       "<style scoped>\n",
       "    .dataframe tbody tr th:only-of-type {\n",
       "        vertical-align: middle;\n",
       "    }\n",
       "\n",
       "    .dataframe tbody tr th {\n",
       "        vertical-align: top;\n",
       "    }\n",
       "\n",
       "    .dataframe thead th {\n",
       "        text-align: right;\n",
       "    }\n",
       "</style>\n",
       "<table border=\"1\" class=\"dataframe\">\n",
       "  <thead>\n",
       "    <tr style=\"text-align: right;\">\n",
       "      <th></th>\n",
       "      <th>region</th>\n",
       "      <th>Date</th>\n",
       "      <th>Ménages exploitant moins de 3 parcelles (%)</th>\n",
       "      <th>Ménages exploitant 3 à 5 parcelles (%)</th>\n",
       "      <th>Ménages exploitant plus de 6 parcelles (%)</th>\n",
       "      <th>Nombre moyen de parcelles par ménage</th>\n",
       "      <th>Superficie moyenne des parcelles par ménage (Ha)</th>\n",
       "      <th>Taille moyenne des ménages</th>\n",
       "      <th>Effectif de la population</th>\n",
       "      <th>Population rurale</th>\n",
       "      <th>Population urbaine</th>\n",
       "      <th>Taux d'urbanisation</th>\n",
       "    </tr>\n",
       "  </thead>\n",
       "  <tbody>\n",
       "    <tr>\n",
       "      <th>0</th>\n",
       "      <td>Dakar</td>\n",
       "      <td>2017</td>\n",
       "      <td>96.799999</td>\n",
       "      <td>40.360239</td>\n",
       "      <td>9.933108</td>\n",
       "      <td>1.208000</td>\n",
       "      <td>0.462637</td>\n",
       "      <td>4.904000</td>\n",
       "      <td>3529300.0</td>\n",
       "      <td>127054.0</td>\n",
       "      <td>3402246.0</td>\n",
       "      <td>96.400023</td>\n",
       "    </tr>\n",
       "    <tr>\n",
       "      <th>1</th>\n",
       "      <td>Dakar</td>\n",
       "      <td>2018</td>\n",
       "      <td>100.000000</td>\n",
       "      <td>0.000000</td>\n",
       "      <td>0.000000</td>\n",
       "      <td>1.041970</td>\n",
       "      <td>0.465369</td>\n",
       "      <td>5.363169</td>\n",
       "      <td>3630324.0</td>\n",
       "      <td>130693.0</td>\n",
       "      <td>3499631.0</td>\n",
       "      <td>96.399963</td>\n",
       "    </tr>\n",
       "    <tr>\n",
       "      <th>2</th>\n",
       "      <td>Diourbel</td>\n",
       "      <td>2017</td>\n",
       "      <td>12.540621</td>\n",
       "      <td>64.680761</td>\n",
       "      <td>22.778620</td>\n",
       "      <td>4.337563</td>\n",
       "      <td>3.078930</td>\n",
       "      <td>9.519451</td>\n",
       "      <td>1692967.0</td>\n",
       "      <td>1418707.0</td>\n",
       "      <td>274260.0</td>\n",
       "      <td>16.199961</td>\n",
       "    </tr>\n",
       "    <tr>\n",
       "      <th>3</th>\n",
       "      <td>Diourbel</td>\n",
       "      <td>2018</td>\n",
       "      <td>25.740260</td>\n",
       "      <td>57.751203</td>\n",
       "      <td>16.508539</td>\n",
       "      <td>3.816028</td>\n",
       "      <td>4.645847</td>\n",
       "      <td>10.407418</td>\n",
       "      <td>1746496.0</td>\n",
       "      <td>1463564.0</td>\n",
       "      <td>282932.0</td>\n",
       "      <td>16.199980</td>\n",
       "    </tr>\n",
       "    <tr>\n",
       "      <th>4</th>\n",
       "      <td>Fatick</td>\n",
       "      <td>2017</td>\n",
       "      <td>37.248814</td>\n",
       "      <td>52.979088</td>\n",
       "      <td>9.772102</td>\n",
       "      <td>3.295946</td>\n",
       "      <td>2.884257</td>\n",
       "      <td>7.974183</td>\n",
       "      <td>813542.0</td>\n",
       "      <td>676053.0</td>\n",
       "      <td>137489.0</td>\n",
       "      <td>16.900049</td>\n",
       "    </tr>\n",
       "  </tbody>\n",
       "</table>\n",
       "</div>"
      ],
      "text/plain": [
       "     region  Date  Ménages exploitant moins de 3 parcelles (%)  \\\n",
       "0     Dakar  2017                                    96.799999   \n",
       "1     Dakar  2018                                   100.000000   \n",
       "2  Diourbel  2017                                    12.540621   \n",
       "3  Diourbel  2018                                    25.740260   \n",
       "4    Fatick  2017                                    37.248814   \n",
       "\n",
       "   Ménages exploitant 3 à 5 parcelles (%)  \\\n",
       "0                               40.360239   \n",
       "1                                0.000000   \n",
       "2                               64.680761   \n",
       "3                               57.751203   \n",
       "4                               52.979088   \n",
       "\n",
       "   Ménages exploitant plus de 6 parcelles (%)  \\\n",
       "0                                    9.933108   \n",
       "1                                    0.000000   \n",
       "2                                   22.778620   \n",
       "3                                   16.508539   \n",
       "4                                    9.772102   \n",
       "\n",
       "   Nombre moyen de parcelles par ménage  \\\n",
       "0                              1.208000   \n",
       "1                              1.041970   \n",
       "2                              4.337563   \n",
       "3                              3.816028   \n",
       "4                              3.295946   \n",
       "\n",
       "   Superficie moyenne des parcelles par ménage (Ha)  \\\n",
       "0                                          0.462637   \n",
       "1                                          0.465369   \n",
       "2                                          3.078930   \n",
       "3                                          4.645847   \n",
       "4                                          2.884257   \n",
       "\n",
       "   Taille moyenne des ménages  Effectif de la population  Population rurale  \\\n",
       "0                    4.904000                  3529300.0           127054.0   \n",
       "1                    5.363169                  3630324.0           130693.0   \n",
       "2                    9.519451                  1692967.0          1418707.0   \n",
       "3                   10.407418                  1746496.0          1463564.0   \n",
       "4                    7.974183                   813542.0           676053.0   \n",
       "\n",
       "   Population urbaine  Taux d'urbanisation  \n",
       "0           3402246.0            96.400023  \n",
       "1           3499631.0            96.399963  \n",
       "2            274260.0            16.199961  \n",
       "3            282932.0            16.199980  \n",
       "4            137489.0            16.900049  "
      ]
     },
     "execution_count": 89,
     "metadata": {},
     "output_type": "execute_result"
    }
   ],
   "source": [
    "Data_concat.head()"
   ]
  },
  {
   "cell_type": "code",
   "execution_count": null,
   "metadata": {},
   "outputs": [],
   "source": []
  }
 ],
 "metadata": {
  "kernelspec": {
   "display_name": "Python 3",
   "language": "python",
   "name": "python3"
  },
  "language_info": {
   "codemirror_mode": {
    "name": "ipython",
    "version": 3
   },
   "file_extension": ".py",
   "mimetype": "text/x-python",
   "name": "python",
   "nbconvert_exporter": "python",
   "pygments_lexer": "ipython3",
   "version": "3.7.10"
  }
 },
 "nbformat": 4,
 "nbformat_minor": 4
}
